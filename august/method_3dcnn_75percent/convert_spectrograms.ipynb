{
 "cells": [
  {
   "cell_type": "code",
   "execution_count": 1,
   "metadata": {},
   "outputs": [],
   "source": [
    "import numpy as np\n",
    "import glob"
   ]
  },
  {
   "cell_type": "code",
   "execution_count": 2,
   "metadata": {},
   "outputs": [],
   "source": [
    "spectrums_index = np.array(glob.glob('../preparations/spectrograms/*'))"
   ]
  },
  {
   "cell_type": "code",
   "execution_count": 3,
   "metadata": {},
   "outputs": [],
   "source": [
    "channels = 2\n",
    "for i in spectrums_index:\n",
    "    sample = np.load(i)\n",
    "    length = sample.shape[1]\n",
    "    name = i.split('\\\\')[1]\n",
    "    output = sample[:60, :].reshape((60, length, 1))\n",
    "    for channel in range(1, channels):\n",
    "        if channel == channels-1:\n",
    "            temp = np.zeros((60, length, 1))\n",
    "            temp[:54, :, :] = sample[channel*54:, :].reshape((54, length, 1))\n",
    "            output = np.append(output, temp, axis=2)\n",
    "        else:\n",
    "            output = np.append(output, sample[channel*54:channel*54+60, :].reshape((60, length, 1)), axis=2)\n",
    "    np.save(\"E:/notes_database/spectrograms_3d/\" + name, output.astype(np.float16))"
   ]
  }
 ],
 "metadata": {
  "kernelspec": {
   "display_name": "Python 3",
   "language": "python",
   "name": "python3"
  },
  "language_info": {
   "codemirror_mode": {
    "name": "ipython",
    "version": 3
   },
   "file_extension": ".py",
   "mimetype": "text/x-python",
   "name": "python",
   "nbconvert_exporter": "python",
   "pygments_lexer": "ipython3",
   "version": "3.5.2"
  }
 },
 "nbformat": 4,
 "nbformat_minor": 2
}
