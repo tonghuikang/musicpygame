{
 "cells": [
  {
   "cell_type": "markdown",
   "metadata": {},
   "source": [
    "## importing packages"
   ]
  },
  {
   "cell_type": "code",
   "execution_count": 1,
   "metadata": {
    "collapsed": true
   },
   "outputs": [],
   "source": [
    "import numpy as np\n",
    "import matplotlib.pyplot as plt"
   ]
  },
  {
   "cell_type": "code",
   "execution_count": 2,
   "metadata": {
    "collapsed": true
   },
   "outputs": [],
   "source": [
    "chunksize = 2048\n",
    "\n",
    "# load file\n",
    "import os\n",
    "import soundfile as sf\n",
    "# read file\n",
    "fileDir = os.path.dirname(os.path.realpath('__file__'))\n",
    "file_name = os.path.join(fileDir, '../sounds/ttls u3.wav')\n",
    "file_name = os.path.abspath(os.path.realpath(file_name))\n",
    "ref, sample_rate = sf.read(file_name)\n",
    "\n",
    "t_start = 1.63\n",
    "pos_start = int(t_start*44100)\n",
    "pos_end = pos_start + chunksize*4\n",
    "signal = ref[pos_start: pos_end, 0]\n",
    "\n",
    "# add noise so that silent parts will not give ambiguous values\n",
    "# signal = np.add(signal, 0.001*np.random.randn(len(signal)))\n",
    "# sd.play(signal, sample_rate)"
   ]
  },
  {
   "cell_type": "code",
   "execution_count": 3,
   "metadata": {
    "collapsed": true
   },
   "outputs": [],
   "source": [
    "# to be called at the end of every 2048 entries\n",
    "# the input is 2048 entry * 3\n",
    "def detect_onset(signal, chunksize=2048, tempo_res=32):\n",
    "    onset = -1\n",
    "    \n",
    "    difference = np.cumsum(np.add(np.absolute(signal[chunksize:-chunksize]), -np.absolute(signal[:-2*chunksize])))\n",
    "    noise = 10*np.array(np.random.randn(len(difference)))\n",
    "    difference = np.add(difference, noise)\n",
    "    \n",
    "    roceff = np.full(tempo_res, 0.)\n",
    "    tempo_num = int(chunksize / tempo_res)\n",
    "    for i in range(tempo_res):\n",
    "        roceff[i] = np.corrcoef(difference[i * tempo_num:(i * tempo_num + chunksize)],\n",
    "                                      np.arange(chunksize))[0, 1]\n",
    "        if roceff[0] < 0.8 and roceff[i] > 0.8 and np.max(roceff[:i]) < 0.8:\n",
    "            onset = i\n",
    "    \n",
    "#     plt.figure(figsize = (16,2))\n",
    "#     plt.plot(signal)\n",
    "#     plt.plot(np.arange(chunksize, chunksize*3),np.array(difference)/np.max(np.absolute(difference)))\n",
    "#     plt.plot(np.arange(chunksize*2, chunksize*3, tempo_num),roceff)\n",
    "#     plt.axhline(y=0.8)\n",
    "#     plt.show()\n",
    "    \n",
    "    return onset # none, or a value"
   ]
  },
  {
   "cell_type": "code",
   "execution_count": 4,
   "metadata": {},
   "outputs": [
    {
     "data": {
      "text/plain": [
       "14"
      ]
     },
     "execution_count": 4,
     "metadata": {},
     "output_type": "execute_result"
    }
   ],
   "source": [
    "detect_onset(signal)\n"
   ]
  },
  {
   "cell_type": "code",
   "execution_count": null,
   "metadata": {
    "collapsed": true
   },
   "outputs": [],
   "source": []
  }
 ],
 "metadata": {
  "kernelspec": {
   "display_name": "Python 2",
   "language": "python",
   "name": "python2"
  },
  "language_info": {
   "codemirror_mode": {
    "name": "ipython",
    "version": 2
   },
   "file_extension": ".py",
   "mimetype": "text/x-python",
   "name": "python",
   "nbconvert_exporter": "python",
   "pygments_lexer": "ipython2",
   "version": "2.7.14"
  }
 },
 "nbformat": 4,
 "nbformat_minor": 2
}
