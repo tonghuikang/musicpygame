{
 "cells": [
  {
   "cell_type": "markdown",
   "metadata": {},
   "source": [
    "Generate scores in note-time form given the rules that we set.\n",
    "\n",
    "Outputs numpy files."
   ]
  },
  {
   "cell_type": "code",
   "execution_count": 1,
   "metadata": {},
   "outputs": [],
   "source": [
    "import numpy as np\n",
    "import random"
   ]
  },
  {
   "cell_type": "code",
   "execution_count": 2,
   "metadata": {},
   "outputs": [
    {
     "name": "stdout",
     "output_type": "stream",
     "text": [
      "mkdir: notes: File exists\n",
      "mkdir: midi: File exists\n",
      "mkdir: wav: File exists\n",
      "mkdir: wav_processed: File exists\n",
      "mkdir: spectrograms: File exists\n",
      "mkdir: label: File exists\n"
     ]
    }
   ],
   "source": [
    "!mkdir notes\n",
    "!mkdir midi\n",
    "!mkdir wav\n",
    "!mkdir wav_processed\n",
    "!mkdir spectrograms\n",
    "!mkdir label\n",
    "!rm ./notes/*\n",
    "!rm ./midi/*\n",
    "!rm ./wav/*\n",
    "!rm ./wav_processed/*\n",
    "!rm ./spectrogram/*\n",
    "!rm ./label/*"
   ]
  },
  {
   "cell_type": "code",
   "execution_count": 3,
   "metadata": {},
   "outputs": [],
   "source": [
    "def generate_note_file():\n",
    "    sound_id = ''.join(random.choice('0123456789ABCDEF') for i in range(16))\n",
    "    \n",
    "    t = 0\n",
    "    note_time_array = []\n",
    "    \n",
    "    while t < 20:\n",
    "        t += 0.3 + np.random.uniform(0.2)\n",
    "        \n",
    "        notes_in_this_chord = []\n",
    "        \n",
    "        if np.random.uniform() > 0.2:\n",
    "            new_note = np.random.randint(24)\n",
    "            if new_note not in notes_in_this_chord:\n",
    "                note_time_array.append([t, new_note])\n",
    "                notes_in_this_chord.append(new_note)\n",
    "                \n",
    "        if np.random.uniform() > 0.2:\n",
    "            new_note = np.random.randint(24)\n",
    "            if new_note not in notes_in_this_chord:\n",
    "                note_time_array.append([t, new_note])\n",
    "                notes_in_this_chord.append(new_note)\n",
    "            \n",
    "        if np.random.uniform() > 0.2:\n",
    "            new_note = np.random.randint(24)\n",
    "            if new_note not in notes_in_this_chord:\n",
    "                note_time_array.append([t, new_note])\n",
    "                notes_in_this_chord.append(new_note)\n",
    "        \n",
    "        if np.random.uniform() > 0.2 or (t > 18 and t < 20):\n",
    "            new_note = np.random.randint(24)\n",
    "            if new_note not in notes_in_this_chord:\n",
    "                note_time_array.append([t, new_note])\n",
    "                notes_in_this_chord.append(new_note)\n",
    "                \n",
    "#     print(note_time_array)\n",
    "    np.save(\"./notes/\" + sound_id, note_time_array)"
   ]
  },
  {
   "cell_type": "code",
   "execution_count": 4,
   "metadata": {},
   "outputs": [],
   "source": [
    "import numpy as np\n",
    "import random\n",
    "\n",
    "for _ in range(5): # change this number to generate many many files\n",
    "    generate_note_file()"
   ]
  },
  {
   "cell_type": "code",
   "execution_count": null,
   "metadata": {},
   "outputs": [],
   "source": []
  }
 ],
 "metadata": {
  "kernelspec": {
   "display_name": "Python [default]",
   "language": "python",
   "name": "python3"
  },
  "language_info": {
   "codemirror_mode": {
    "name": "ipython",
    "version": 3
   },
   "file_extension": ".py",
   "mimetype": "text/x-python",
   "name": "python",
   "nbconvert_exporter": "python",
   "pygments_lexer": "ipython3",
   "version": "3.6.4"
  }
 },
 "nbformat": 4,
 "nbformat_minor": 2
}
