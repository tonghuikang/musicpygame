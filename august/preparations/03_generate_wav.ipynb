{
 "cells": [
  {
   "cell_type": "markdown",
   "metadata": {},
   "source": [
    "Given the `.mid` files in `./midi/` convert to sound files in `./wav/`"
   ]
  },
  {
   "cell_type": "code",
   "execution_count": 1,
   "metadata": {},
   "outputs": [],
   "source": [
    "from time import sleep\n",
    "import subprocess"
   ]
  },
  {
   "cell_type": "code",
   "execution_count": 2,
   "metadata": {},
   "outputs": [],
   "source": [
    "def convert_midi_to_signal(filename):\n",
    "    '''\n",
    "    Given filename, create soundfile.\n",
    "    It uses fluidsynth to convert the midifile from the directory \n",
    "    into a soundfile in another directory.\n",
    "    Installation of fluidsynth is necessary to run this.\n",
    "    https://github.com/FluidSynth/fluidsynth/wiki/BuildingWithCMake\n",
    "    returns mono signal - could we use stereo information for evaluation someday?\n",
    "    '''\n",
    "    soundfont_dir = \"~/soundfonts/Sonatina_Symphonic_Orchestra.sf2\"\n",
    "    \n",
    "    subprocess.run(\"fluidsynth -F ./wav/{}.wav {} {}\"\n",
    "                   .format(filename[-20:-4],\n",
    "                           soundfont_dir,\n",
    "                           filename),\n",
    "                   shell=True)"
   ]
  },
  {
   "cell_type": "code",
   "execution_count": 3,
   "metadata": {},
   "outputs": [
    {
     "name": "stdout",
     "output_type": "stream",
     "text": [
      "5\n"
     ]
    }
   ],
   "source": [
    "import glob\n",
    "\n",
    "notes = glob.glob(\"./midi/*\")\n",
    "print(len(notes))\n",
    "for filename in notes:\n",
    "    convert_midi_to_signal(filename)"
   ]
  },
  {
   "cell_type": "code",
   "execution_count": null,
   "metadata": {},
   "outputs": [],
   "source": []
  }
 ],
 "metadata": {
  "kernelspec": {
   "display_name": "Python [conda env:nd]",
   "language": "python",
   "name": "conda-env-nd-py"
  },
  "language_info": {
   "codemirror_mode": {
    "name": "ipython",
    "version": 3
   },
   "file_extension": ".py",
   "mimetype": "text/x-python",
   "name": "python",
   "nbconvert_exporter": "python",
   "pygments_lexer": "ipython3",
   "version": "3.6.5"
  }
 },
 "nbformat": 4,
 "nbformat_minor": 2
}
