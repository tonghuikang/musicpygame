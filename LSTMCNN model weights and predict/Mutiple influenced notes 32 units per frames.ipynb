{
 "cells": [
  {
   "cell_type": "code",
   "execution_count": 14,
   "metadata": {
    "scrolled": false
   },
   "outputs": [],
   "source": [
    "import pandas as pd\n",
    "import numpy as np\n",
    "import glob\n",
    "import gc\n",
    "import keras \n",
    "from keras.layers import LSTM, Dense, TimeDistributed, Dropout, MaxPooling2D, Conv2D, Input\n",
    "from keras.layers import Flatten, BatchNormalization, Activation, Reshape, concatenate\n",
    "from keras.models import Model\n",
    "import random\n",
    "from sklearn.model_selection import KFold\n",
    "import keras.backend as K\n",
    "from sklearn.utils import class_weight"
   ]
  },
  {
   "cell_type": "code",
   "execution_count": 15,
   "metadata": {},
   "outputs": [],
   "source": [
    "gc.enable()"
   ]
  },
  {
   "cell_type": "code",
   "execution_count": 16,
   "metadata": {},
   "outputs": [],
   "source": [
    "steps = 16\n",
    "height = 108\n",
    "width = 32"
   ]
  },
  {
   "cell_type": "code",
   "execution_count": 17,
   "metadata": {},
   "outputs": [],
   "source": [
    "#change the path to where you save the input numpy arrays\n",
    "path = 'E:/notes_database/32_frames/'\n",
    "lstm = np.array(glob.glob(path+'lstm_inputs/*'))\n",
    "cnn = np.array(glob.glob(path+'cnn_inputs/*'))\n",
    "y_train = np.array(glob.glob(path+'y_train/*'))\n",
    "c_lstm = np.array(glob.glob(path+'counter_lstm_inputs/*'))\n",
    "c_cnn = np.array(glob.glob(path+'counter_cnn_inputs/*'))\n",
    "c_y_train = np.array(glob.glob(path+'counter_y_train/*'))"
   ]
  },
  {
   "cell_type": "code",
   "execution_count": 18,
   "metadata": {},
   "outputs": [],
   "source": [
    "#The function analyzes the actual accuracy\n",
    "def load_test_score(model, cnn_test, lstm_test, y_test):\n",
    "    prediction = model.predict([cnn_test, lstm_test])\n",
    "    error = (prediction - y_test) ** 2\n",
    "    error = (error/y_test.shape[0]).sum()\n",
    "    wrong = 0\n",
    "    for x in range(prediction.shape[0]):\n",
    "        for y in range(prediction.shape[1]):\n",
    "            if abs(prediction[x][y] - y_test[x][y]) > 0.5:\n",
    "                wrong += 1\n",
    "                break\n",
    "    accuracy = 1 - wrong/(prediction.shape[0])\n",
    "    return error, accuracy"
   ]
  },
  {
   "cell_type": "code",
   "execution_count": 19,
   "metadata": {},
   "outputs": [],
   "source": [
    "def inputs_to_model(order, num, start, ending):\n",
    "    cnn_inputs = np.load(cnn[order[num][0]])\n",
    "    labels_inputs = np.load(y_train[order[num][0]])\n",
    "    lstm_inputs = np.load(lstm[order[num][0]])\n",
    "    \n",
    "    lstm_inputs = np.append(lstm_inputs, np.load(c_lstm[order[num][0]]), axis=0)\n",
    "    cnn_inputs = np.append(cnn_inputs, np.load(c_cnn[order[num][0]]), axis=0)\n",
    "    labels_inputs = np.append(labels_inputs, np.load(c_y_train[order[num][0]]), axis=0)\n",
    "    \n",
    "    for file in order[num][start+1:ending]:       \n",
    "        lstm_inputs = np.append(lstm_inputs, np.load(lstm[file]), axis=0)\n",
    "        cnn_inputs = np.append(cnn_inputs, np.load(cnn[file]), axis=0)\n",
    "        labels_inputs = np.append(labels_inputs, np.load(y_train[file]), axis=0)\n",
    "        lstm_inputs = np.append(lstm_inputs, np.load(c_lstm[file]), axis=0)\n",
    "        cnn_inputs = np.append(cnn_inputs, np.load(c_cnn[file]), axis=0)\n",
    "        labels_inputs = np.append(labels_inputs, np.load(c_y_train[file]), axis=0)\n",
    "    \n",
    "    lstm_inputs = lstm_inputs.astype(np.float16)\n",
    "    labels_inputs = labels_inputs.astype(np.float16)\n",
    "    return lstm_inputs, cnn_inputs, labels_inputs"
   ]
  },
  {
   "cell_type": "code",
   "execution_count": 20,
   "metadata": {},
   "outputs": [],
   "source": [
    "def main(optimizer='adam', loss='mean_squared_error', metrix='accuracy'):\n",
    "    #cnn\n",
    "    cnn_inputs = Input(shape=(height, width, 1), name='cnn_inputs')\n",
    "    layers = Conv2D(64, (4,4), padding=\"same\", activation=\"relu\")(cnn_inputs)\n",
    "    layers = BatchNormalization()(layers)\n",
    "    layers = MaxPooling2D(2,2, border_mode='same')(layers)\n",
    "    layers = Flatten()(layers)\n",
    "    layers = Dropout(0.2)(layers)\n",
    "    layers = Dense(32, activation='relu')(layers)\n",
    "    \n",
    "    #lstm\n",
    "    lstm_inputs = Input(shape=(steps, 24), name='lstm_inputs')\n",
    "    lstm_layers = LSTM(16, return_sequences=True)(lstm_inputs)\n",
    "    lstm_layers = LSTM(32)(lstm_layers)\n",
    "    lstm_layers = Dense(32, activation='relu')(lstm_layers)\n",
    "    lstm_layers = Dense(24, activation='relu')(lstm_layers)\n",
    "    \n",
    "    #main route\n",
    "    main_ = concatenate([layers, lstm_layers])\n",
    "    main_ = BatchNormalization()(main_)\n",
    "    main_ = Dense(64, activation='relu')(main_)\n",
    "    main_ = Dense(64, activation='relu')(main_)\n",
    "    output = Dense(24, activation='sigmoid')(main_)\n",
    "    \n",
    "    model = Model(inputs=[cnn_inputs, lstm_inputs], outputs=[output])\n",
    "    model.compile(optimizer=optimizer, loss=loss, metrics=[metrix])\n",
    "    return model"
   ]
  },
  {
   "cell_type": "code",
   "execution_count": 21,
   "metadata": {},
   "outputs": [],
   "source": [
    "def main_2(optimizer='adam', loss='mean_squared_error', metrix='accuracy'):\n",
    "    #cnn\n",
    "    cnn_inputs = Input(shape=(height, width, 1), name='cnn_inputs')\n",
    "    layers = Conv2D(32, (3,3), padding=\"same\", activation=\"relu\")(cnn_inputs)\n",
    "    layers = BatchNormalization()(layers)\n",
    "    layers = Conv2D(32, (3,3), activation='relu')(layers)\n",
    "    layers = MaxPooling2D(2,2, border_mode='same')(layers)\n",
    "    layers = Flatten()(layers)\n",
    "    layers = Dropout(0.3)(layers)\n",
    "    layers = Dense(32, activation='relu')(layers)\n",
    "    \n",
    "    #lstm\n",
    "    lstm_inputs = Input(shape=(steps, 24), name='lstm_inputs')\n",
    "    lstm_layers = LSTM(16, return_sequences=True)(lstm_inputs)\n",
    "    lstm_layers = LSTM(16)(lstm_layers)\n",
    "    lstm_layers = Dense(24, activation='relu')(lstm_layers)\n",
    "    \n",
    "    #main route\n",
    "    main_ = concatenate([layers, lstm_layers])\n",
    "    main_ = BatchNormalization()(main_)\n",
    "    main_ = Dense(64, activation='relu')(main_)\n",
    "    output = Dense(24, activation='sigmoid')(main_)\n",
    "    \n",
    "    model = Model(inputs=[cnn_inputs, lstm_inputs], outputs=[output])\n",
    "    model.compile(optimizer=optimizer, loss=loss, metrics=[metrix])\n",
    "    return model"
   ]
  },
  {
   "cell_type": "code",
   "execution_count": 29,
   "metadata": {},
   "outputs": [],
   "source": [
    "def main_3(optimizer='adam', loss='mean_squared_error', metrix='accuracy'):\n",
    "    #cnn\n",
    "    cnn_inputs = Input(shape=(height, width, 1), name='cnn_inputs')\n",
    "    layers = Conv2D(32, (3,3), padding=\"same\", activation=\"relu\")(cnn_inputs)\n",
    "    layers = BatchNormalization()(layers)\n",
    "    layers = MaxPooling2D(2,2, border_mode='same')(layers)\n",
    "    layers = Conv2D(32, (3,3), activation='relu')(layers)\n",
    "    layers = BatchNormalization()(layers)\n",
    "    layers = MaxPooling2D(2,2, border_mode='same')(layers)\n",
    "    layers = Conv2D(64, (3,3), activation='relu')(layers)\n",
    "    layers = BatchNormalization()(layers)\n",
    "    layers = MaxPooling2D(2,2, border_mode='same')(layers)\n",
    "    layers = Conv2D(64, (3,3), activation='relu')(layers)\n",
    "    layers = BatchNormalization()(layers)\n",
    "    layers = MaxPooling2D(2,2, border_mode='same')(layers)\n",
    "    layers = Flatten()(layers)\n",
    "    layers = Dropout(0.3)(layers)\n",
    "    layers = Dense(32, activation='relu')(layers)\n",
    "    \n",
    "    #lstm\n",
    "    lstm_inputs = Input(shape=(steps, 24), name='lstm_inputs')\n",
    "    lstm_layers = LSTM(16, return_sequences=True)(lstm_inputs)\n",
    "    lstm_layers = LSTM(32)(lstm_layers)\n",
    "    lstm_layers = Dense(32, activation='relu')(lstm_layers)\n",
    "    lstm_layers = Dense(24, activation='relu')(lstm_layers)\n",
    "    \n",
    "    #main route\n",
    "    main_ = concatenate([layers, lstm_layers])\n",
    "    main_ = BatchNormalization()(main_)\n",
    "    main_ = Dense(64, activation='relu')(main_)\n",
    "    main_ = Dense(64, activation='relu')(main_)\n",
    "    output = Dense(24, activation='sigmoid')(main_)\n",
    "    \n",
    "    model = Model(inputs=[cnn_inputs, lstm_inputs], outputs=[output])\n",
    "    model.compile(optimizer=optimizer, loss=loss, metrics=[metrix])\n",
    "    return model"
   ]
  },
  {
   "cell_type": "code",
   "execution_count": 22,
   "metadata": {},
   "outputs": [],
   "source": [
    "def train_test_whole(classifier, num, name, epochs=100, batchsize=32):\n",
    "    lstm_inputs, cnn_inputs, labels_inputs = inputs_to_model(train_order, num, 0, train_order[num].shape[0]+1)\n",
    "    \n",
    "    classifier.fit([cnn_inputs, lstm_inputs], labels_inputs, epochs=epochs, batch_size=batchsize, verbose=1,\n",
    "                  validation_data = ([cnn_test, lstm_test], labels_test))\n",
    "    \n",
    "    #CV_loss, accuracy = load_test_score(classifier, cnn_test, lstm_test, y_test)\n",
    "    #print('val_loss: ', CV_loss)\n",
    "    #print('val_accuarcy', accuracy)\n",
    "    \n",
    "    classifier.save_weights(name, overwrite=True)   \n",
    "    del classifier\n",
    "    K.clear_session()"
   ]
  },
  {
   "cell_type": "code",
   "execution_count": 23,
   "metadata": {
    "scrolled": true
   },
   "outputs": [],
   "source": [
    "#Generate the CV sets\n",
    "kf = KFold(n_splits=3, random_state=7)\n",
    "\n",
    "train_order = []\n",
    "test_order = []\n",
    "length = np.arange(len(lstm))\n",
    "\n",
    "for x,y in kf.split(length):\n",
    "    train_order.append(length[x])\n",
    "    test_order.append(length[y])\n",
    "train_order = np.array(train_order)\n",
    "test_order = np.array(test_order)"
   ]
  },
  {
   "cell_type": "code",
   "execution_count": 24,
   "metadata": {},
   "outputs": [],
   "source": [
    "lstm_test, cnn_test, labels_test = inputs_to_model(test_order, 0, 0, test_order[0].shape[0]+1)"
   ]
  },
  {
   "cell_type": "code",
   "execution_count": 18,
   "metadata": {
    "scrolled": true
   },
   "outputs": [
    {
     "name": "stderr",
     "output_type": "stream",
     "text": [
      "c:\\users\\zheng\\anaconda3\\envs\\tensorflow-gpu\\lib\\site-packages\\ipykernel_launcher.py:7: UserWarning: Update your `MaxPooling2D` call to the Keras 2 API: `MaxPooling2D(2, 2, padding=\"same\")`\n",
      "  import sys\n"
     ]
    },
    {
     "name": "stdout",
     "output_type": "stream",
     "text": [
      "Train on 143394 samples, validate on 72556 samples\n",
      "Epoch 1/100\n",
      "143394/143394 [==============================] - 212s 1ms/step - loss: 0.0718 - acc: 0.9760 - val_loss: 0.0877 - val_acc: 0.9724\n",
      "Epoch 2/100\n",
      "143394/143394 [==============================] - 208s 1ms/step - loss: 0.0506 - acc: 0.9829 - val_loss: 0.0864 - val_acc: 0.9749\n",
      "Epoch 3/100\n",
      "143394/143394 [==============================] - 205s 1ms/step - loss: 0.0447 - acc: 0.9846 - val_loss: 0.0722 - val_acc: 0.9766\n",
      "Epoch 4/100\n",
      "143394/143394 [==============================] - 203s 1ms/step - loss: 0.0417 - acc: 0.9855 - val_loss: 0.0367 - val_acc: 0.9872\n",
      "Epoch 5/100\n",
      "143394/143394 [==============================] - 204s 1ms/step - loss: 0.0395 - acc: 0.9861 - val_loss: 0.0374 - val_acc: 0.9870\n",
      "Epoch 6/100\n",
      "143394/143394 [==============================] - 203s 1ms/step - loss: 0.0381 - acc: 0.9864 - val_loss: 0.0548 - val_acc: 0.9817\n",
      "Epoch 7/100\n",
      "143394/143394 [==============================] - 204s 1ms/step - loss: 0.0368 - acc: 0.9869 - val_loss: 0.0399 - val_acc: 0.9866\n",
      "Epoch 8/100\n",
      "143394/143394 [==============================] - 204s 1ms/step - loss: 0.0359 - acc: 0.9871 - val_loss: 0.0889 - val_acc: 0.9714\n",
      "Epoch 9/100\n",
      "143394/143394 [==============================] - 204s 1ms/step - loss: 0.0350 - acc: 0.9874 - val_loss: 0.1155 - val_acc: 0.9631\n",
      "Epoch 10/100\n",
      "143394/143394 [==============================] - 203s 1ms/step - loss: 0.0354 - acc: 0.9872 - val_loss: 0.0427 - val_acc: 0.9862\n",
      "Epoch 11/100\n",
      "143394/143394 [==============================] - 204s 1ms/step - loss: 0.0342 - acc: 0.9876 - val_loss: 0.0470 - val_acc: 0.9847\n",
      "Epoch 12/100\n",
      "143394/143394 [==============================] - 212s 1ms/step - loss: 0.0332 - acc: 0.9878 - val_loss: 0.0386 - val_acc: 0.9865\n",
      "Epoch 13/100\n",
      "143394/143394 [==============================] - 211s 1ms/step - loss: 0.0328 - acc: 0.9880 - val_loss: 0.0409 - val_acc: 0.9862\n",
      "Epoch 14/100\n",
      "143394/143394 [==============================] - 206s 1ms/step - loss: 0.0322 - acc: 0.9881 - val_loss: 0.0325 - val_acc: 0.9885\n",
      "Epoch 15/100\n",
      "143394/143394 [==============================] - 202s 1ms/step - loss: 0.0317 - acc: 0.9883 - val_loss: 0.0397 - val_acc: 0.9871\n",
      "Epoch 16/100\n",
      "143394/143394 [==============================] - 200s 1ms/step - loss: 0.0312 - acc: 0.9885 - val_loss: 0.0345 - val_acc: 0.9879\n",
      "Epoch 17/100\n",
      "143394/143394 [==============================] - 200s 1ms/step - loss: 0.0309 - acc: 0.9886 - val_loss: 0.0397 - val_acc: 0.9876\n",
      "Epoch 18/100\n",
      "143394/143394 [==============================] - 200s 1ms/step - loss: 0.0306 - acc: 0.9886 - val_loss: 0.0365 - val_acc: 0.9873\n",
      "Epoch 19/100\n",
      "143394/143394 [==============================] - 200s 1ms/step - loss: 0.0308 - acc: 0.9885 - val_loss: 0.0648 - val_acc: 0.9799\n",
      "Epoch 20/100\n",
      "143394/143394 [==============================] - 196s 1ms/step - loss: 0.0305 - acc: 0.9887 - val_loss: 0.0334 - val_acc: 0.9884\n",
      "Epoch 21/100\n",
      "143394/143394 [==============================] - 196s 1ms/step - loss: 0.0299 - acc: 0.9889 - val_loss: 0.0339 - val_acc: 0.9882\n",
      "Epoch 22/100\n",
      "143394/143394 [==============================] - 195s 1ms/step - loss: 0.0297 - acc: 0.9889 - val_loss: 0.0357 - val_acc: 0.9876\n",
      "Epoch 23/100\n",
      "143394/143394 [==============================] - 196s 1ms/step - loss: 0.0294 - acc: 0.9890 - val_loss: 0.0493 - val_acc: 0.9837\n",
      "Epoch 24/100\n",
      "143394/143394 [==============================] - 196s 1ms/step - loss: 0.0291 - acc: 0.9891 - val_loss: 0.0349 - val_acc: 0.9879\n",
      "Epoch 25/100\n",
      "143394/143394 [==============================] - 196s 1ms/step - loss: 0.0289 - acc: 0.9892 - val_loss: 0.0372 - val_acc: 0.9873\n",
      "Epoch 26/100\n",
      "143394/143394 [==============================] - 196s 1ms/step - loss: 0.0288 - acc: 0.9893 - val_loss: 0.0358 - val_acc: 0.9879\n",
      "Epoch 27/100\n",
      "143394/143394 [==============================] - 196s 1ms/step - loss: 0.0286 - acc: 0.9892 - val_loss: 0.0390 - val_acc: 0.9868\n",
      "Epoch 28/100\n",
      "143394/143394 [==============================] - 196s 1ms/step - loss: 0.0284 - acc: 0.9894 - val_loss: 0.0343 - val_acc: 0.9880\n",
      "Epoch 29/100\n",
      "143394/143394 [==============================] - 197s 1ms/step - loss: 0.0282 - acc: 0.9893 - val_loss: 0.0378 - val_acc: 0.9875\n",
      "Epoch 30/100\n",
      "143394/143394 [==============================] - 200s 1ms/step - loss: 0.0281 - acc: 0.9894 - val_loss: 0.0344 - val_acc: 0.9883\n",
      "Epoch 31/100\n",
      "143394/143394 [==============================] - 193s 1ms/step - loss: 0.0279 - acc: 0.9895 - val_loss: 0.0553 - val_acc: 0.9829\n",
      "Epoch 32/100\n",
      "143394/143394 [==============================] - 187s 1ms/step - loss: 0.0277 - acc: 0.9895 - val_loss: 0.0408 - val_acc: 0.9869\n",
      "Epoch 33/100\n",
      "143394/143394 [==============================] - 187s 1ms/step - loss: 0.0276 - acc: 0.9895 - val_loss: 0.0338 - val_acc: 0.9883\n",
      "Epoch 34/100\n",
      "143394/143394 [==============================] - 187s 1ms/step - loss: 0.0274 - acc: 0.9896 - val_loss: 0.0371 - val_acc: 0.9880\n",
      "Epoch 35/100\n",
      "143394/143394 [==============================] - 187s 1ms/step - loss: 0.0278 - acc: 0.9896 - val_loss: 0.0340 - val_acc: 0.9884\n",
      "Epoch 36/100\n",
      "143394/143394 [==============================] - 187s 1ms/step - loss: 0.0277 - acc: 0.9896 - val_loss: 0.0510 - val_acc: 0.9843\n",
      "Epoch 37/100\n",
      "143394/143394 [==============================] - 187s 1ms/step - loss: 0.0272 - acc: 0.9898 - val_loss: 0.0318 - val_acc: 0.9888\n",
      "Epoch 38/100\n",
      "143394/143394 [==============================] - 187s 1ms/step - loss: 0.0272 - acc: 0.9898 - val_loss: 0.0363 - val_acc: 0.9876\n",
      "Epoch 39/100\n",
      "143394/143394 [==============================] - 185s 1ms/step - loss: 0.0272 - acc: 0.9897 - val_loss: 0.0622 - val_acc: 0.9824\n",
      "Epoch 40/100\n",
      "143394/143394 [==============================] - 179s 1ms/step - loss: 0.0270 - acc: 0.9898 - val_loss: 0.0397 - val_acc: 0.9868\n",
      "Epoch 41/100\n",
      "143394/143394 [==============================] - 179s 1ms/step - loss: 0.0268 - acc: 0.9899 - val_loss: 0.0461 - val_acc: 0.9850\n",
      "Epoch 42/100\n",
      "143394/143394 [==============================] - 180s 1ms/step - loss: 0.0268 - acc: 0.9899 - val_loss: 0.0356 - val_acc: 0.9876\n",
      "Epoch 43/100\n",
      "143394/143394 [==============================] - 180s 1ms/step - loss: 0.0266 - acc: 0.9900 - val_loss: 0.0346 - val_acc: 0.9881\n",
      "Epoch 44/100\n",
      "143394/143394 [==============================] - 179s 1ms/step - loss: 0.0266 - acc: 0.9900 - val_loss: 0.0350 - val_acc: 0.9880\n",
      "Epoch 45/100\n",
      "143394/143394 [==============================] - 179s 1ms/step - loss: 0.0264 - acc: 0.9901 - val_loss: 0.0484 - val_acc: 0.9843\n",
      "Epoch 46/100\n",
      "143394/143394 [==============================] - 180s 1ms/step - loss: 0.0263 - acc: 0.9901 - val_loss: 0.0346 - val_acc: 0.9886\n",
      "Epoch 47/100\n",
      "143394/143394 [==============================] - 179s 1ms/step - loss: 0.0262 - acc: 0.9900 - val_loss: 0.0353 - val_acc: 0.9882\n",
      "Epoch 48/100\n",
      "143394/143394 [==============================] - 180s 1ms/step - loss: 0.0262 - acc: 0.9901 - val_loss: 0.0391 - val_acc: 0.9871\n",
      "Epoch 49/100\n",
      "143394/143394 [==============================] - 179s 1ms/step - loss: 0.0259 - acc: 0.9902 - val_loss: 0.0406 - val_acc: 0.9866\n",
      "Epoch 50/100\n",
      "143394/143394 [==============================] - 179s 1ms/step - loss: 0.0259 - acc: 0.9901 - val_loss: 0.0376 - val_acc: 0.9876\n",
      "Epoch 51/100\n",
      "143394/143394 [==============================] - 180s 1ms/step - loss: 0.0258 - acc: 0.9903 - val_loss: 0.0588 - val_acc: 0.9809\n",
      "Epoch 52/100\n",
      "143394/143394 [==============================] - 180s 1ms/step - loss: 0.0257 - acc: 0.9903 - val_loss: 0.0347 - val_acc: 0.9884\n",
      "Epoch 53/100\n",
      "143394/143394 [==============================] - 180s 1ms/step - loss: 0.0258 - acc: 0.9902 - val_loss: 0.0343 - val_acc: 0.9887\n",
      "Epoch 54/100\n",
      "143394/143394 [==============================] - 180s 1ms/step - loss: 0.0256 - acc: 0.9903 - val_loss: 0.0362 - val_acc: 0.9883\n",
      "Epoch 55/100\n",
      "143394/143394 [==============================] - 179s 1ms/step - loss: 0.0255 - acc: 0.9904 - val_loss: 0.0400 - val_acc: 0.9876\n",
      "Epoch 56/100\n",
      "143394/143394 [==============================] - 179s 1ms/step - loss: 0.0255 - acc: 0.9904 - val_loss: 0.0469 - val_acc: 0.9858\n",
      "Epoch 57/100\n",
      "143394/143394 [==============================] - 179s 1ms/step - loss: 0.0277 - acc: 0.9896 - val_loss: 0.0367 - val_acc: 0.9883\n",
      "Epoch 58/100\n",
      "143394/143394 [==============================] - 179s 1ms/step - loss: 0.0251 - acc: 0.9905 - val_loss: 0.0356 - val_acc: 0.9881\n",
      "Epoch 59/100\n",
      "143394/143394 [==============================] - 179s 1ms/step - loss: 0.0252 - acc: 0.9904 - val_loss: 0.0334 - val_acc: 0.9887\n",
      "Epoch 60/100\n",
      "143394/143394 [==============================] - 179s 1ms/step - loss: 0.0250 - acc: 0.9905 - val_loss: 0.0371 - val_acc: 0.9880\n",
      "Epoch 61/100\n",
      "143394/143394 [==============================] - 179s 1ms/step - loss: 0.0251 - acc: 0.9905 - val_loss: 0.0354 - val_acc: 0.9886\n",
      "Epoch 62/100\n",
      "143394/143394 [==============================] - 179s 1ms/step - loss: 0.0249 - acc: 0.9906 - val_loss: 0.0355 - val_acc: 0.9880\n",
      "Epoch 63/100\n",
      "143394/143394 [==============================] - 179s 1ms/step - loss: 0.0249 - acc: 0.9906 - val_loss: 0.0363 - val_acc: 0.9880\n",
      "Epoch 64/100\n",
      "143394/143394 [==============================] - 179s 1ms/step - loss: 0.0249 - acc: 0.9906 - val_loss: 0.0363 - val_acc: 0.9880\n",
      "Epoch 65/100\n",
      "143394/143394 [==============================] - 179s 1ms/step - loss: 0.0246 - acc: 0.9907 - val_loss: 0.0347 - val_acc: 0.9885\n",
      "Epoch 66/100\n",
      "143394/143394 [==============================] - 179s 1ms/step - loss: 0.0244 - acc: 0.9908 - val_loss: 0.0360 - val_acc: 0.9880\n",
      "Epoch 67/100\n",
      "143394/143394 [==============================] - 179s 1ms/step - loss: 0.0245 - acc: 0.9908 - val_loss: 0.0405 - val_acc: 0.9868\n",
      "Epoch 68/100\n",
      "143394/143394 [==============================] - 179s 1ms/step - loss: 0.0243 - acc: 0.9909 - val_loss: 0.0352 - val_acc: 0.9881\n",
      "Epoch 69/100\n",
      "143394/143394 [==============================] - 179s 1ms/step - loss: 0.0242 - acc: 0.9909 - val_loss: 0.0348 - val_acc: 0.9885\n",
      "Epoch 70/100\n",
      "143394/143394 [==============================] - 179s 1ms/step - loss: 0.0244 - acc: 0.9909 - val_loss: 0.0486 - val_acc: 0.9856\n",
      "Epoch 71/100\n",
      "143394/143394 [==============================] - 179s 1ms/step - loss: 0.0242 - acc: 0.9909 - val_loss: 0.0424 - val_acc: 0.9867\n",
      "Epoch 72/100\n",
      "143394/143394 [==============================] - 179s 1ms/step - loss: 0.0241 - acc: 0.9909 - val_loss: 0.0349 - val_acc: 0.9884\n",
      "Epoch 73/100\n",
      "143394/143394 [==============================] - 185s 1ms/step - loss: 0.0240 - acc: 0.9910 - val_loss: 0.0353 - val_acc: 0.9886\n",
      "Epoch 74/100\n",
      "143394/143394 [==============================] - 179s 1ms/step - loss: 0.0241 - acc: 0.9909 - val_loss: 0.0374 - val_acc: 0.9881\n",
      "Epoch 75/100\n",
      "143394/143394 [==============================] - 180s 1ms/step - loss: 0.0239 - acc: 0.9910 - val_loss: 0.0383 - val_acc: 0.9877\n",
      "Epoch 76/100\n",
      "143394/143394 [==============================] - 180s 1ms/step - loss: 0.0238 - acc: 0.9911 - val_loss: 0.0423 - val_acc: 0.9867\n",
      "Epoch 77/100\n",
      "143394/143394 [==============================] - 179s 1ms/step - loss: 0.0238 - acc: 0.9911 - val_loss: 0.0365 - val_acc: 0.9885\n",
      "Epoch 78/100\n",
      "143394/143394 [==============================] - 179s 1ms/step - loss: 0.0236 - acc: 0.9911 - val_loss: 0.0390 - val_acc: 0.9872\n",
      "Epoch 79/100\n",
      "143394/143394 [==============================] - 179s 1ms/step - loss: 0.0237 - acc: 0.9911 - val_loss: 0.0357 - val_acc: 0.9885\n",
      "Epoch 80/100\n",
      "143394/143394 [==============================] - 179s 1ms/step - loss: 0.0236 - acc: 0.9911 - val_loss: 0.0441 - val_acc: 0.9855\n",
      "Epoch 81/100\n",
      "143394/143394 [==============================] - 179s 1ms/step - loss: 0.0237 - acc: 0.9912 - val_loss: 0.0340 - val_acc: 0.9888\n",
      "Epoch 82/100\n",
      "143394/143394 [==============================] - 178s 1ms/step - loss: 0.0234 - acc: 0.9913 - val_loss: 0.0362 - val_acc: 0.9883\n",
      "Epoch 83/100\n",
      "143394/143394 [==============================] - 179s 1ms/step - loss: 0.0235 - acc: 0.9913 - val_loss: 0.0418 - val_acc: 0.9876\n",
      "Epoch 84/100\n",
      "143394/143394 [==============================] - 179s 1ms/step - loss: 0.0234 - acc: 0.9913 - val_loss: 0.0359 - val_acc: 0.9882\n",
      "Epoch 85/100\n",
      "143394/143394 [==============================] - 179s 1ms/step - loss: 0.0234 - acc: 0.9913 - val_loss: 0.0353 - val_acc: 0.9884\n",
      "Epoch 86/100\n",
      "143394/143394 [==============================] - 179s 1ms/step - loss: 0.0235 - acc: 0.9912 - val_loss: 0.0360 - val_acc: 0.9886\n",
      "Epoch 87/100\n",
      "143394/143394 [==============================] - 179s 1ms/step - loss: 0.0234 - acc: 0.9913 - val_loss: 0.0564 - val_acc: 0.9821\n",
      "Epoch 88/100\n",
      "143394/143394 [==============================] - 179s 1ms/step - loss: 0.0230 - acc: 0.9914 - val_loss: 0.0377 - val_acc: 0.9882\n",
      "Epoch 89/100\n",
      "143394/143394 [==============================] - 179s 1ms/step - loss: 0.0230 - acc: 0.9914 - val_loss: 0.0399 - val_acc: 0.9875\n",
      "Epoch 90/100\n",
      "143394/143394 [==============================] - 179s 1ms/step - loss: 0.0232 - acc: 0.9914 - val_loss: 0.0360 - val_acc: 0.9883\n",
      "Epoch 91/100\n",
      "143394/143394 [==============================] - 179s 1ms/step - loss: 0.0233 - acc: 0.9913 - val_loss: 0.0389 - val_acc: 0.9883\n",
      "Epoch 92/100\n",
      "143394/143394 [==============================] - 179s 1ms/step - loss: 0.0231 - acc: 0.9914 - val_loss: 0.0393 - val_acc: 0.9877\n",
      "Epoch 93/100\n",
      "143394/143394 [==============================] - 179s 1ms/step - loss: 0.0230 - acc: 0.9914 - val_loss: 0.0362 - val_acc: 0.9885\n",
      "Epoch 94/100\n",
      "143394/143394 [==============================] - 179s 1ms/step - loss: 0.0229 - acc: 0.9914 - val_loss: 0.0384 - val_acc: 0.9878\n",
      "Epoch 95/100\n",
      "143394/143394 [==============================] - 179s 1ms/step - loss: 0.0228 - acc: 0.9915 - val_loss: 0.0420 - val_acc: 0.9869\n",
      "Epoch 96/100\n",
      "143394/143394 [==============================] - 179s 1ms/step - loss: 0.0230 - acc: 0.9915 - val_loss: 0.0374 - val_acc: 0.9880\n",
      "Epoch 97/100\n",
      "143394/143394 [==============================] - 179s 1ms/step - loss: 0.0227 - acc: 0.9915 - val_loss: 0.0399 - val_acc: 0.9879\n",
      "Epoch 98/100\n",
      "143394/143394 [==============================] - 179s 1ms/step - loss: 0.0229 - acc: 0.9915 - val_loss: 0.0447 - val_acc: 0.9862\n",
      "Epoch 99/100\n",
      "143394/143394 [==============================] - 179s 1ms/step - loss: 0.0226 - acc: 0.9916 - val_loss: 0.0383 - val_acc: 0.9880\n",
      "Epoch 100/100\n",
      "143394/143394 [==============================] - 179s 1ms/step - loss: 0.0228 - acc: 0.9915 - val_loss: 0.0403 - val_acc: 0.9878\n"
     ]
    },
    {
     "data": {
      "text/plain": [
       "21312"
      ]
     },
     "execution_count": 18,
     "metadata": {},
     "output_type": "execute_result"
    }
   ],
   "source": [
    "adam = keras.optimizers.Adam(lr=0.005)\n",
    "classifier = main_2(optimizer=adam, loss='binary_crossentropy')\n",
    "train_test_whole(classifier, 0, 'weight-32units-model2.hdf5', epochs=100)\n",
    "gc.collect()"
   ]
  },
  {
   "cell_type": "code",
   "execution_count": 27,
   "metadata": {
    "collapsed": true
   },
   "outputs": [
    {
     "name": "stderr",
     "output_type": "stream",
     "text": [
      "c:\\users\\zheng\\anaconda3\\envs\\tensorflow-gpu\\lib\\site-packages\\ipykernel_launcher.py:7: UserWarning: Update your `MaxPooling2D` call to the Keras 2 API: `MaxPooling2D(2, 2, padding=\"same\")`\n",
      "  import sys\n"
     ]
    },
    {
     "name": "stdout",
     "output_type": "stream",
     "text": [
      "Train on 139360 samples, validate on 70501 samples\n",
      "Epoch 1/100\n",
      "139360/139360 [==============================] - 181s 1ms/step - loss: 0.0552 - acc: 0.9812 - val_loss: 0.3805 - val_acc: 0.9392\n",
      "Epoch 2/100\n",
      "139360/139360 [==============================] - 180s 1ms/step - loss: 0.0356 - acc: 0.9882 - val_loss: 0.3828 - val_acc: 0.9467\n",
      "Epoch 3/100\n",
      "139360/139360 [==============================] - 180s 1ms/step - loss: 0.0312 - acc: 0.9898 - val_loss: 0.4036 - val_acc: 0.9478\n",
      "Epoch 4/100\n",
      "139360/139360 [==============================] - 180s 1ms/step - loss: 0.0291 - acc: 0.9906 - val_loss: 0.4484 - val_acc: 0.9432\n",
      "Epoch 5/100\n",
      "139360/139360 [==============================] - 180s 1ms/step - loss: 0.0273 - acc: 0.9913 - val_loss: 0.3851 - val_acc: 0.9490\n",
      "Epoch 6/100\n",
      "139360/139360 [==============================] - 182s 1ms/step - loss: 0.0257 - acc: 0.9917 - val_loss: 0.3981 - val_acc: 0.9509\n",
      "Epoch 7/100\n",
      "103264/139360 [=====================>........] - ETA: 42s - loss: 0.0247 - acc: 0.9921"
     ]
    },
    {
     "ename": "KeyboardInterrupt",
     "evalue": "",
     "output_type": "error",
     "traceback": [
      "\u001b[1;31m---------------------------------------------------------------------------\u001b[0m",
      "\u001b[1;31mKeyboardInterrupt\u001b[0m                         Traceback (most recent call last)",
      "\u001b[1;32m<ipython-input-27-6167213abd92>\u001b[0m in \u001b[0;36m<module>\u001b[1;34m()\u001b[0m\n\u001b[0;32m      1\u001b[0m \u001b[0madam\u001b[0m \u001b[1;33m=\u001b[0m \u001b[0mkeras\u001b[0m\u001b[1;33m.\u001b[0m\u001b[0moptimizers\u001b[0m\u001b[1;33m.\u001b[0m\u001b[0mAdam\u001b[0m\u001b[1;33m(\u001b[0m\u001b[0mlr\u001b[0m\u001b[1;33m=\u001b[0m\u001b[1;36m0.01\u001b[0m\u001b[1;33m)\u001b[0m\u001b[1;33m\u001b[0m\u001b[0m\n\u001b[0;32m      2\u001b[0m \u001b[0mclassifier\u001b[0m \u001b[1;33m=\u001b[0m \u001b[0mmain_2\u001b[0m\u001b[1;33m(\u001b[0m\u001b[0moptimizer\u001b[0m\u001b[1;33m=\u001b[0m\u001b[0madam\u001b[0m\u001b[1;33m,\u001b[0m \u001b[0mloss\u001b[0m\u001b[1;33m=\u001b[0m\u001b[1;34m'binary_crossentropy'\u001b[0m\u001b[1;33m)\u001b[0m\u001b[1;33m\u001b[0m\u001b[0m\n\u001b[1;32m----> 3\u001b[1;33m \u001b[0mtrain_test_whole\u001b[0m\u001b[1;33m(\u001b[0m\u001b[0mclassifier\u001b[0m\u001b[1;33m,\u001b[0m \u001b[1;36m0\u001b[0m\u001b[1;33m,\u001b[0m \u001b[1;34m'weight-32units-model3.hdf5'\u001b[0m\u001b[1;33m,\u001b[0m \u001b[0mepochs\u001b[0m\u001b[1;33m=\u001b[0m\u001b[1;36m100\u001b[0m\u001b[1;33m)\u001b[0m\u001b[1;33m\u001b[0m\u001b[0m\n\u001b[0m\u001b[0;32m      4\u001b[0m \u001b[0mgc\u001b[0m\u001b[1;33m.\u001b[0m\u001b[0mcollect\u001b[0m\u001b[1;33m(\u001b[0m\u001b[1;33m)\u001b[0m\u001b[1;33m\u001b[0m\u001b[0m\n",
      "\u001b[1;32m<ipython-input-22-d047eac78539>\u001b[0m in \u001b[0;36mtrain_test_whole\u001b[1;34m(classifier, num, name, epochs, batchsize)\u001b[0m\n\u001b[0;32m      3\u001b[0m \u001b[1;33m\u001b[0m\u001b[0m\n\u001b[0;32m      4\u001b[0m     classifier.fit([cnn_inputs, lstm_inputs], labels_inputs, epochs=epochs, batch_size=batchsize, verbose=1,\n\u001b[1;32m----> 5\u001b[1;33m                   validation_data = ([cnn_test, lstm_test], labels_test))\n\u001b[0m\u001b[0;32m      6\u001b[0m \u001b[1;33m\u001b[0m\u001b[0m\n\u001b[0;32m      7\u001b[0m     \u001b[1;31m#CV_loss, accuracy = load_test_score(classifier, cnn_test, lstm_test, y_test)\u001b[0m\u001b[1;33m\u001b[0m\u001b[1;33m\u001b[0m\u001b[0m\n",
      "\u001b[1;32mc:\\users\\zheng\\anaconda3\\envs\\tensorflow-gpu\\lib\\site-packages\\keras\\engine\\training.py\u001b[0m in \u001b[0;36mfit\u001b[1;34m(self, x, y, batch_size, epochs, verbose, callbacks, validation_split, validation_data, shuffle, class_weight, sample_weight, initial_epoch, steps_per_epoch, validation_steps, **kwargs)\u001b[0m\n\u001b[0;32m   1703\u001b[0m                               \u001b[0minitial_epoch\u001b[0m\u001b[1;33m=\u001b[0m\u001b[0minitial_epoch\u001b[0m\u001b[1;33m,\u001b[0m\u001b[1;33m\u001b[0m\u001b[0m\n\u001b[0;32m   1704\u001b[0m                               \u001b[0msteps_per_epoch\u001b[0m\u001b[1;33m=\u001b[0m\u001b[0msteps_per_epoch\u001b[0m\u001b[1;33m,\u001b[0m\u001b[1;33m\u001b[0m\u001b[0m\n\u001b[1;32m-> 1705\u001b[1;33m                               validation_steps=validation_steps)\n\u001b[0m\u001b[0;32m   1706\u001b[0m \u001b[1;33m\u001b[0m\u001b[0m\n\u001b[0;32m   1707\u001b[0m     def evaluate(self, x=None, y=None,\n",
      "\u001b[1;32mc:\\users\\zheng\\anaconda3\\envs\\tensorflow-gpu\\lib\\site-packages\\keras\\engine\\training.py\u001b[0m in \u001b[0;36m_fit_loop\u001b[1;34m(self, f, ins, out_labels, batch_size, epochs, verbose, callbacks, val_f, val_ins, shuffle, callback_metrics, initial_epoch, steps_per_epoch, validation_steps)\u001b[0m\n\u001b[0;32m   1233\u001b[0m                         \u001b[0mins_batch\u001b[0m\u001b[1;33m[\u001b[0m\u001b[0mi\u001b[0m\u001b[1;33m]\u001b[0m \u001b[1;33m=\u001b[0m \u001b[0mins_batch\u001b[0m\u001b[1;33m[\u001b[0m\u001b[0mi\u001b[0m\u001b[1;33m]\u001b[0m\u001b[1;33m.\u001b[0m\u001b[0mtoarray\u001b[0m\u001b[1;33m(\u001b[0m\u001b[1;33m)\u001b[0m\u001b[1;33m\u001b[0m\u001b[0m\n\u001b[0;32m   1234\u001b[0m \u001b[1;33m\u001b[0m\u001b[0m\n\u001b[1;32m-> 1235\u001b[1;33m                     \u001b[0mouts\u001b[0m \u001b[1;33m=\u001b[0m \u001b[0mf\u001b[0m\u001b[1;33m(\u001b[0m\u001b[0mins_batch\u001b[0m\u001b[1;33m)\u001b[0m\u001b[1;33m\u001b[0m\u001b[0m\n\u001b[0m\u001b[0;32m   1236\u001b[0m                     \u001b[1;32mif\u001b[0m \u001b[1;32mnot\u001b[0m \u001b[0misinstance\u001b[0m\u001b[1;33m(\u001b[0m\u001b[0mouts\u001b[0m\u001b[1;33m,\u001b[0m \u001b[0mlist\u001b[0m\u001b[1;33m)\u001b[0m\u001b[1;33m:\u001b[0m\u001b[1;33m\u001b[0m\u001b[0m\n\u001b[0;32m   1237\u001b[0m                         \u001b[0mouts\u001b[0m \u001b[1;33m=\u001b[0m \u001b[1;33m[\u001b[0m\u001b[0mouts\u001b[0m\u001b[1;33m]\u001b[0m\u001b[1;33m\u001b[0m\u001b[0m\n",
      "\u001b[1;32mc:\\users\\zheng\\anaconda3\\envs\\tensorflow-gpu\\lib\\site-packages\\keras\\backend\\tensorflow_backend.py\u001b[0m in \u001b[0;36m__call__\u001b[1;34m(self, inputs)\u001b[0m\n\u001b[0;32m   2476\u001b[0m         \u001b[0msession\u001b[0m \u001b[1;33m=\u001b[0m \u001b[0mget_session\u001b[0m\u001b[1;33m(\u001b[0m\u001b[1;33m)\u001b[0m\u001b[1;33m\u001b[0m\u001b[0m\n\u001b[0;32m   2477\u001b[0m         updated = session.run(fetches=fetches, feed_dict=feed_dict,\n\u001b[1;32m-> 2478\u001b[1;33m                               **self.session_kwargs)\n\u001b[0m\u001b[0;32m   2479\u001b[0m         \u001b[1;32mreturn\u001b[0m \u001b[0mupdated\u001b[0m\u001b[1;33m[\u001b[0m\u001b[1;33m:\u001b[0m\u001b[0mlen\u001b[0m\u001b[1;33m(\u001b[0m\u001b[0mself\u001b[0m\u001b[1;33m.\u001b[0m\u001b[0moutputs\u001b[0m\u001b[1;33m)\u001b[0m\u001b[1;33m]\u001b[0m\u001b[1;33m\u001b[0m\u001b[0m\n\u001b[0;32m   2480\u001b[0m \u001b[1;33m\u001b[0m\u001b[0m\n",
      "\u001b[1;32mc:\\users\\zheng\\anaconda3\\envs\\tensorflow-gpu\\lib\\site-packages\\tensorflow\\python\\client\\session.py\u001b[0m in \u001b[0;36mrun\u001b[1;34m(self, fetches, feed_dict, options, run_metadata)\u001b[0m\n\u001b[0;32m    898\u001b[0m     \u001b[1;32mtry\u001b[0m\u001b[1;33m:\u001b[0m\u001b[1;33m\u001b[0m\u001b[0m\n\u001b[0;32m    899\u001b[0m       result = self._run(None, fetches, feed_dict, options_ptr,\n\u001b[1;32m--> 900\u001b[1;33m                          run_metadata_ptr)\n\u001b[0m\u001b[0;32m    901\u001b[0m       \u001b[1;32mif\u001b[0m \u001b[0mrun_metadata\u001b[0m\u001b[1;33m:\u001b[0m\u001b[1;33m\u001b[0m\u001b[0m\n\u001b[0;32m    902\u001b[0m         \u001b[0mproto_data\u001b[0m \u001b[1;33m=\u001b[0m \u001b[0mtf_session\u001b[0m\u001b[1;33m.\u001b[0m\u001b[0mTF_GetBuffer\u001b[0m\u001b[1;33m(\u001b[0m\u001b[0mrun_metadata_ptr\u001b[0m\u001b[1;33m)\u001b[0m\u001b[1;33m\u001b[0m\u001b[0m\n",
      "\u001b[1;32mc:\\users\\zheng\\anaconda3\\envs\\tensorflow-gpu\\lib\\site-packages\\tensorflow\\python\\client\\session.py\u001b[0m in \u001b[0;36m_run\u001b[1;34m(self, handle, fetches, feed_dict, options, run_metadata)\u001b[0m\n\u001b[0;32m   1133\u001b[0m     \u001b[1;32mif\u001b[0m \u001b[0mfinal_fetches\u001b[0m \u001b[1;32mor\u001b[0m \u001b[0mfinal_targets\u001b[0m \u001b[1;32mor\u001b[0m \u001b[1;33m(\u001b[0m\u001b[0mhandle\u001b[0m \u001b[1;32mand\u001b[0m \u001b[0mfeed_dict_tensor\u001b[0m\u001b[1;33m)\u001b[0m\u001b[1;33m:\u001b[0m\u001b[1;33m\u001b[0m\u001b[0m\n\u001b[0;32m   1134\u001b[0m       results = self._do_run(handle, final_targets, final_fetches,\n\u001b[1;32m-> 1135\u001b[1;33m                              feed_dict_tensor, options, run_metadata)\n\u001b[0m\u001b[0;32m   1136\u001b[0m     \u001b[1;32melse\u001b[0m\u001b[1;33m:\u001b[0m\u001b[1;33m\u001b[0m\u001b[0m\n\u001b[0;32m   1137\u001b[0m       \u001b[0mresults\u001b[0m \u001b[1;33m=\u001b[0m \u001b[1;33m[\u001b[0m\u001b[1;33m]\u001b[0m\u001b[1;33m\u001b[0m\u001b[0m\n",
      "\u001b[1;32mc:\\users\\zheng\\anaconda3\\envs\\tensorflow-gpu\\lib\\site-packages\\tensorflow\\python\\client\\session.py\u001b[0m in \u001b[0;36m_do_run\u001b[1;34m(self, handle, target_list, fetch_list, feed_dict, options, run_metadata)\u001b[0m\n\u001b[0;32m   1314\u001b[0m     \u001b[1;32mif\u001b[0m \u001b[0mhandle\u001b[0m \u001b[1;32mis\u001b[0m \u001b[1;32mNone\u001b[0m\u001b[1;33m:\u001b[0m\u001b[1;33m\u001b[0m\u001b[0m\n\u001b[0;32m   1315\u001b[0m       return self._do_call(_run_fn, feeds, fetches, targets, options,\n\u001b[1;32m-> 1316\u001b[1;33m                            run_metadata)\n\u001b[0m\u001b[0;32m   1317\u001b[0m     \u001b[1;32melse\u001b[0m\u001b[1;33m:\u001b[0m\u001b[1;33m\u001b[0m\u001b[0m\n\u001b[0;32m   1318\u001b[0m       \u001b[1;32mreturn\u001b[0m \u001b[0mself\u001b[0m\u001b[1;33m.\u001b[0m\u001b[0m_do_call\u001b[0m\u001b[1;33m(\u001b[0m\u001b[0m_prun_fn\u001b[0m\u001b[1;33m,\u001b[0m \u001b[0mhandle\u001b[0m\u001b[1;33m,\u001b[0m \u001b[0mfeeds\u001b[0m\u001b[1;33m,\u001b[0m \u001b[0mfetches\u001b[0m\u001b[1;33m)\u001b[0m\u001b[1;33m\u001b[0m\u001b[0m\n",
      "\u001b[1;32mc:\\users\\zheng\\anaconda3\\envs\\tensorflow-gpu\\lib\\site-packages\\tensorflow\\python\\client\\session.py\u001b[0m in \u001b[0;36m_do_call\u001b[1;34m(self, fn, *args)\u001b[0m\n\u001b[0;32m   1320\u001b[0m   \u001b[1;32mdef\u001b[0m \u001b[0m_do_call\u001b[0m\u001b[1;33m(\u001b[0m\u001b[0mself\u001b[0m\u001b[1;33m,\u001b[0m \u001b[0mfn\u001b[0m\u001b[1;33m,\u001b[0m \u001b[1;33m*\u001b[0m\u001b[0margs\u001b[0m\u001b[1;33m)\u001b[0m\u001b[1;33m:\u001b[0m\u001b[1;33m\u001b[0m\u001b[0m\n\u001b[0;32m   1321\u001b[0m     \u001b[1;32mtry\u001b[0m\u001b[1;33m:\u001b[0m\u001b[1;33m\u001b[0m\u001b[0m\n\u001b[1;32m-> 1322\u001b[1;33m       \u001b[1;32mreturn\u001b[0m \u001b[0mfn\u001b[0m\u001b[1;33m(\u001b[0m\u001b[1;33m*\u001b[0m\u001b[0margs\u001b[0m\u001b[1;33m)\u001b[0m\u001b[1;33m\u001b[0m\u001b[0m\n\u001b[0m\u001b[0;32m   1323\u001b[0m     \u001b[1;32mexcept\u001b[0m \u001b[0merrors\u001b[0m\u001b[1;33m.\u001b[0m\u001b[0mOpError\u001b[0m \u001b[1;32mas\u001b[0m \u001b[0me\u001b[0m\u001b[1;33m:\u001b[0m\u001b[1;33m\u001b[0m\u001b[0m\n\u001b[0;32m   1324\u001b[0m       \u001b[0mmessage\u001b[0m \u001b[1;33m=\u001b[0m \u001b[0mcompat\u001b[0m\u001b[1;33m.\u001b[0m\u001b[0mas_text\u001b[0m\u001b[1;33m(\u001b[0m\u001b[0me\u001b[0m\u001b[1;33m.\u001b[0m\u001b[0mmessage\u001b[0m\u001b[1;33m)\u001b[0m\u001b[1;33m\u001b[0m\u001b[0m\n",
      "\u001b[1;32mc:\\users\\zheng\\anaconda3\\envs\\tensorflow-gpu\\lib\\site-packages\\tensorflow\\python\\client\\session.py\u001b[0m in \u001b[0;36m_run_fn\u001b[1;34m(feed_dict, fetch_list, target_list, options, run_metadata)\u001b[0m\n\u001b[0;32m   1305\u001b[0m       \u001b[0mself\u001b[0m\u001b[1;33m.\u001b[0m\u001b[0m_extend_graph\u001b[0m\u001b[1;33m(\u001b[0m\u001b[1;33m)\u001b[0m\u001b[1;33m\u001b[0m\u001b[0m\n\u001b[0;32m   1306\u001b[0m       return self._call_tf_sessionrun(\n\u001b[1;32m-> 1307\u001b[1;33m           options, feed_dict, fetch_list, target_list, run_metadata)\n\u001b[0m\u001b[0;32m   1308\u001b[0m \u001b[1;33m\u001b[0m\u001b[0m\n\u001b[0;32m   1309\u001b[0m     \u001b[1;32mdef\u001b[0m \u001b[0m_prun_fn\u001b[0m\u001b[1;33m(\u001b[0m\u001b[0mhandle\u001b[0m\u001b[1;33m,\u001b[0m \u001b[0mfeed_dict\u001b[0m\u001b[1;33m,\u001b[0m \u001b[0mfetch_list\u001b[0m\u001b[1;33m)\u001b[0m\u001b[1;33m:\u001b[0m\u001b[1;33m\u001b[0m\u001b[0m\n",
      "\u001b[1;32mc:\\users\\zheng\\anaconda3\\envs\\tensorflow-gpu\\lib\\site-packages\\tensorflow\\python\\client\\session.py\u001b[0m in \u001b[0;36m_call_tf_sessionrun\u001b[1;34m(self, options, feed_dict, fetch_list, target_list, run_metadata)\u001b[0m\n\u001b[0;32m   1407\u001b[0m       return tf_session.TF_SessionRun_wrapper(\n\u001b[0;32m   1408\u001b[0m           \u001b[0mself\u001b[0m\u001b[1;33m.\u001b[0m\u001b[0m_session\u001b[0m\u001b[1;33m,\u001b[0m \u001b[0moptions\u001b[0m\u001b[1;33m,\u001b[0m \u001b[0mfeed_dict\u001b[0m\u001b[1;33m,\u001b[0m \u001b[0mfetch_list\u001b[0m\u001b[1;33m,\u001b[0m \u001b[0mtarget_list\u001b[0m\u001b[1;33m,\u001b[0m\u001b[1;33m\u001b[0m\u001b[0m\n\u001b[1;32m-> 1409\u001b[1;33m           run_metadata)\n\u001b[0m\u001b[0;32m   1410\u001b[0m     \u001b[1;32melse\u001b[0m\u001b[1;33m:\u001b[0m\u001b[1;33m\u001b[0m\u001b[0m\n\u001b[0;32m   1411\u001b[0m       \u001b[1;32mwith\u001b[0m \u001b[0merrors\u001b[0m\u001b[1;33m.\u001b[0m\u001b[0mraise_exception_on_not_ok_status\u001b[0m\u001b[1;33m(\u001b[0m\u001b[1;33m)\u001b[0m \u001b[1;32mas\u001b[0m \u001b[0mstatus\u001b[0m\u001b[1;33m:\u001b[0m\u001b[1;33m\u001b[0m\u001b[0m\n",
      "\u001b[1;31mKeyboardInterrupt\u001b[0m: "
     ]
    }
   ],
   "source": [
    "adam = keras.optimizers.Adam(lr=0.01)\n",
    "classifier = main_2(optimizer=adam, loss='binary_crossentropy')\n",
    "train_test_whole(classifier, 0, 'weight-32units-model3.hdf5', epochs=100)\n",
    "gc.collect()"
   ]
  },
  {
   "cell_type": "code",
   "execution_count": 28,
   "metadata": {
    "collapsed": true
   },
   "outputs": [
    {
     "name": "stderr",
     "output_type": "stream",
     "text": [
      "c:\\users\\zheng\\anaconda3\\envs\\tensorflow-gpu\\lib\\site-packages\\ipykernel_launcher.py:6: UserWarning: Update your `MaxPooling2D` call to the Keras 2 API: `MaxPooling2D(2, 2, padding=\"same\")`\n",
      "  \n"
     ]
    },
    {
     "name": "stdout",
     "output_type": "stream",
     "text": [
      "Train on 139360 samples, validate on 70501 samples\n",
      "Epoch 1/100\n",
      "139360/139360 [==============================] - 185s 1ms/step - loss: 0.0650 - acc: 0.9778 - val_loss: 0.3571 - val_acc: 0.9479\n",
      "Epoch 2/100\n",
      "139360/139360 [==============================] - 183s 1ms/step - loss: 0.0418 - acc: 0.9863 - val_loss: 0.3671 - val_acc: 0.9478\n",
      "Epoch 3/100\n",
      "139360/139360 [==============================] - 184s 1ms/step - loss: 0.0376 - acc: 0.9877 - val_loss: 0.4646 - val_acc: 0.9326\n",
      "Epoch 4/100\n",
      "139360/139360 [==============================] - 183s 1ms/step - loss: 0.0354 - acc: 0.9885 - val_loss: 0.3690 - val_acc: 0.9536\n",
      "Epoch 5/100\n",
      "139360/139360 [==============================] - 181s 1ms/step - loss: 0.0339 - acc: 0.9889 - val_loss: 0.4094 - val_acc: 0.9449\n",
      "Epoch 6/100\n",
      " 39040/139360 [=======>......................] - ETA: 1:59 - loss: 0.0315 - acc: 0.9898"
     ]
    },
    {
     "ename": "KeyboardInterrupt",
     "evalue": "",
     "output_type": "error",
     "traceback": [
      "\u001b[1;31m---------------------------------------------------------------------------\u001b[0m",
      "\u001b[1;31mKeyboardInterrupt\u001b[0m                         Traceback (most recent call last)",
      "\u001b[1;32m<ipython-input-28-4db4169a875d>\u001b[0m in \u001b[0;36m<module>\u001b[1;34m()\u001b[0m\n\u001b[0;32m      1\u001b[0m \u001b[0madam\u001b[0m \u001b[1;33m=\u001b[0m \u001b[0mkeras\u001b[0m\u001b[1;33m.\u001b[0m\u001b[0moptimizers\u001b[0m\u001b[1;33m.\u001b[0m\u001b[0mAdam\u001b[0m\u001b[1;33m(\u001b[0m\u001b[0mlr\u001b[0m\u001b[1;33m=\u001b[0m\u001b[1;36m0.005\u001b[0m\u001b[1;33m)\u001b[0m\u001b[1;33m\u001b[0m\u001b[0m\n\u001b[0;32m      2\u001b[0m \u001b[0mclassifier\u001b[0m \u001b[1;33m=\u001b[0m \u001b[0mmain\u001b[0m\u001b[1;33m(\u001b[0m\u001b[0moptimizer\u001b[0m\u001b[1;33m=\u001b[0m\u001b[0madam\u001b[0m\u001b[1;33m,\u001b[0m \u001b[0mloss\u001b[0m\u001b[1;33m=\u001b[0m\u001b[1;34m'binary_crossentropy'\u001b[0m\u001b[1;33m)\u001b[0m\u001b[1;33m\u001b[0m\u001b[0m\n\u001b[1;32m----> 3\u001b[1;33m \u001b[0mtrain_test_whole\u001b[0m\u001b[1;33m(\u001b[0m\u001b[0mclassifier\u001b[0m\u001b[1;33m,\u001b[0m \u001b[1;36m0\u001b[0m\u001b[1;33m,\u001b[0m \u001b[1;34m'weight-32units-model3.hdf5'\u001b[0m\u001b[1;33m,\u001b[0m \u001b[0mepochs\u001b[0m\u001b[1;33m=\u001b[0m\u001b[1;36m100\u001b[0m\u001b[1;33m)\u001b[0m\u001b[1;33m\u001b[0m\u001b[0m\n\u001b[0m\u001b[0;32m      4\u001b[0m \u001b[0mgc\u001b[0m\u001b[1;33m.\u001b[0m\u001b[0mcollect\u001b[0m\u001b[1;33m(\u001b[0m\u001b[1;33m)\u001b[0m\u001b[1;33m\u001b[0m\u001b[0m\n",
      "\u001b[1;32m<ipython-input-22-d047eac78539>\u001b[0m in \u001b[0;36mtrain_test_whole\u001b[1;34m(classifier, num, name, epochs, batchsize)\u001b[0m\n\u001b[0;32m      3\u001b[0m \u001b[1;33m\u001b[0m\u001b[0m\n\u001b[0;32m      4\u001b[0m     classifier.fit([cnn_inputs, lstm_inputs], labels_inputs, epochs=epochs, batch_size=batchsize, verbose=1,\n\u001b[1;32m----> 5\u001b[1;33m                   validation_data = ([cnn_test, lstm_test], labels_test))\n\u001b[0m\u001b[0;32m      6\u001b[0m \u001b[1;33m\u001b[0m\u001b[0m\n\u001b[0;32m      7\u001b[0m     \u001b[1;31m#CV_loss, accuracy = load_test_score(classifier, cnn_test, lstm_test, y_test)\u001b[0m\u001b[1;33m\u001b[0m\u001b[1;33m\u001b[0m\u001b[0m\n",
      "\u001b[1;32mc:\\users\\zheng\\anaconda3\\envs\\tensorflow-gpu\\lib\\site-packages\\keras\\engine\\training.py\u001b[0m in \u001b[0;36mfit\u001b[1;34m(self, x, y, batch_size, epochs, verbose, callbacks, validation_split, validation_data, shuffle, class_weight, sample_weight, initial_epoch, steps_per_epoch, validation_steps, **kwargs)\u001b[0m\n\u001b[0;32m   1703\u001b[0m                               \u001b[0minitial_epoch\u001b[0m\u001b[1;33m=\u001b[0m\u001b[0minitial_epoch\u001b[0m\u001b[1;33m,\u001b[0m\u001b[1;33m\u001b[0m\u001b[0m\n\u001b[0;32m   1704\u001b[0m                               \u001b[0msteps_per_epoch\u001b[0m\u001b[1;33m=\u001b[0m\u001b[0msteps_per_epoch\u001b[0m\u001b[1;33m,\u001b[0m\u001b[1;33m\u001b[0m\u001b[0m\n\u001b[1;32m-> 1705\u001b[1;33m                               validation_steps=validation_steps)\n\u001b[0m\u001b[0;32m   1706\u001b[0m \u001b[1;33m\u001b[0m\u001b[0m\n\u001b[0;32m   1707\u001b[0m     def evaluate(self, x=None, y=None,\n",
      "\u001b[1;32mc:\\users\\zheng\\anaconda3\\envs\\tensorflow-gpu\\lib\\site-packages\\keras\\engine\\training.py\u001b[0m in \u001b[0;36m_fit_loop\u001b[1;34m(self, f, ins, out_labels, batch_size, epochs, verbose, callbacks, val_f, val_ins, shuffle, callback_metrics, initial_epoch, steps_per_epoch, validation_steps)\u001b[0m\n\u001b[0;32m   1233\u001b[0m                         \u001b[0mins_batch\u001b[0m\u001b[1;33m[\u001b[0m\u001b[0mi\u001b[0m\u001b[1;33m]\u001b[0m \u001b[1;33m=\u001b[0m \u001b[0mins_batch\u001b[0m\u001b[1;33m[\u001b[0m\u001b[0mi\u001b[0m\u001b[1;33m]\u001b[0m\u001b[1;33m.\u001b[0m\u001b[0mtoarray\u001b[0m\u001b[1;33m(\u001b[0m\u001b[1;33m)\u001b[0m\u001b[1;33m\u001b[0m\u001b[0m\n\u001b[0;32m   1234\u001b[0m \u001b[1;33m\u001b[0m\u001b[0m\n\u001b[1;32m-> 1235\u001b[1;33m                     \u001b[0mouts\u001b[0m \u001b[1;33m=\u001b[0m \u001b[0mf\u001b[0m\u001b[1;33m(\u001b[0m\u001b[0mins_batch\u001b[0m\u001b[1;33m)\u001b[0m\u001b[1;33m\u001b[0m\u001b[0m\n\u001b[0m\u001b[0;32m   1236\u001b[0m                     \u001b[1;32mif\u001b[0m \u001b[1;32mnot\u001b[0m \u001b[0misinstance\u001b[0m\u001b[1;33m(\u001b[0m\u001b[0mouts\u001b[0m\u001b[1;33m,\u001b[0m \u001b[0mlist\u001b[0m\u001b[1;33m)\u001b[0m\u001b[1;33m:\u001b[0m\u001b[1;33m\u001b[0m\u001b[0m\n\u001b[0;32m   1237\u001b[0m                         \u001b[0mouts\u001b[0m \u001b[1;33m=\u001b[0m \u001b[1;33m[\u001b[0m\u001b[0mouts\u001b[0m\u001b[1;33m]\u001b[0m\u001b[1;33m\u001b[0m\u001b[0m\n",
      "\u001b[1;32mc:\\users\\zheng\\anaconda3\\envs\\tensorflow-gpu\\lib\\site-packages\\keras\\backend\\tensorflow_backend.py\u001b[0m in \u001b[0;36m__call__\u001b[1;34m(self, inputs)\u001b[0m\n\u001b[0;32m   2476\u001b[0m         \u001b[0msession\u001b[0m \u001b[1;33m=\u001b[0m \u001b[0mget_session\u001b[0m\u001b[1;33m(\u001b[0m\u001b[1;33m)\u001b[0m\u001b[1;33m\u001b[0m\u001b[0m\n\u001b[0;32m   2477\u001b[0m         updated = session.run(fetches=fetches, feed_dict=feed_dict,\n\u001b[1;32m-> 2478\u001b[1;33m                               **self.session_kwargs)\n\u001b[0m\u001b[0;32m   2479\u001b[0m         \u001b[1;32mreturn\u001b[0m \u001b[0mupdated\u001b[0m\u001b[1;33m[\u001b[0m\u001b[1;33m:\u001b[0m\u001b[0mlen\u001b[0m\u001b[1;33m(\u001b[0m\u001b[0mself\u001b[0m\u001b[1;33m.\u001b[0m\u001b[0moutputs\u001b[0m\u001b[1;33m)\u001b[0m\u001b[1;33m]\u001b[0m\u001b[1;33m\u001b[0m\u001b[0m\n\u001b[0;32m   2480\u001b[0m \u001b[1;33m\u001b[0m\u001b[0m\n",
      "\u001b[1;32mc:\\users\\zheng\\anaconda3\\envs\\tensorflow-gpu\\lib\\site-packages\\tensorflow\\python\\client\\session.py\u001b[0m in \u001b[0;36mrun\u001b[1;34m(self, fetches, feed_dict, options, run_metadata)\u001b[0m\n\u001b[0;32m    898\u001b[0m     \u001b[1;32mtry\u001b[0m\u001b[1;33m:\u001b[0m\u001b[1;33m\u001b[0m\u001b[0m\n\u001b[0;32m    899\u001b[0m       result = self._run(None, fetches, feed_dict, options_ptr,\n\u001b[1;32m--> 900\u001b[1;33m                          run_metadata_ptr)\n\u001b[0m\u001b[0;32m    901\u001b[0m       \u001b[1;32mif\u001b[0m \u001b[0mrun_metadata\u001b[0m\u001b[1;33m:\u001b[0m\u001b[1;33m\u001b[0m\u001b[0m\n\u001b[0;32m    902\u001b[0m         \u001b[0mproto_data\u001b[0m \u001b[1;33m=\u001b[0m \u001b[0mtf_session\u001b[0m\u001b[1;33m.\u001b[0m\u001b[0mTF_GetBuffer\u001b[0m\u001b[1;33m(\u001b[0m\u001b[0mrun_metadata_ptr\u001b[0m\u001b[1;33m)\u001b[0m\u001b[1;33m\u001b[0m\u001b[0m\n",
      "\u001b[1;32mc:\\users\\zheng\\anaconda3\\envs\\tensorflow-gpu\\lib\\site-packages\\tensorflow\\python\\client\\session.py\u001b[0m in \u001b[0;36m_run\u001b[1;34m(self, handle, fetches, feed_dict, options, run_metadata)\u001b[0m\n\u001b[0;32m   1133\u001b[0m     \u001b[1;32mif\u001b[0m \u001b[0mfinal_fetches\u001b[0m \u001b[1;32mor\u001b[0m \u001b[0mfinal_targets\u001b[0m \u001b[1;32mor\u001b[0m \u001b[1;33m(\u001b[0m\u001b[0mhandle\u001b[0m \u001b[1;32mand\u001b[0m \u001b[0mfeed_dict_tensor\u001b[0m\u001b[1;33m)\u001b[0m\u001b[1;33m:\u001b[0m\u001b[1;33m\u001b[0m\u001b[0m\n\u001b[0;32m   1134\u001b[0m       results = self._do_run(handle, final_targets, final_fetches,\n\u001b[1;32m-> 1135\u001b[1;33m                              feed_dict_tensor, options, run_metadata)\n\u001b[0m\u001b[0;32m   1136\u001b[0m     \u001b[1;32melse\u001b[0m\u001b[1;33m:\u001b[0m\u001b[1;33m\u001b[0m\u001b[0m\n\u001b[0;32m   1137\u001b[0m       \u001b[0mresults\u001b[0m \u001b[1;33m=\u001b[0m \u001b[1;33m[\u001b[0m\u001b[1;33m]\u001b[0m\u001b[1;33m\u001b[0m\u001b[0m\n",
      "\u001b[1;32mc:\\users\\zheng\\anaconda3\\envs\\tensorflow-gpu\\lib\\site-packages\\tensorflow\\python\\client\\session.py\u001b[0m in \u001b[0;36m_do_run\u001b[1;34m(self, handle, target_list, fetch_list, feed_dict, options, run_metadata)\u001b[0m\n\u001b[0;32m   1314\u001b[0m     \u001b[1;32mif\u001b[0m \u001b[0mhandle\u001b[0m \u001b[1;32mis\u001b[0m \u001b[1;32mNone\u001b[0m\u001b[1;33m:\u001b[0m\u001b[1;33m\u001b[0m\u001b[0m\n\u001b[0;32m   1315\u001b[0m       return self._do_call(_run_fn, feeds, fetches, targets, options,\n\u001b[1;32m-> 1316\u001b[1;33m                            run_metadata)\n\u001b[0m\u001b[0;32m   1317\u001b[0m     \u001b[1;32melse\u001b[0m\u001b[1;33m:\u001b[0m\u001b[1;33m\u001b[0m\u001b[0m\n\u001b[0;32m   1318\u001b[0m       \u001b[1;32mreturn\u001b[0m \u001b[0mself\u001b[0m\u001b[1;33m.\u001b[0m\u001b[0m_do_call\u001b[0m\u001b[1;33m(\u001b[0m\u001b[0m_prun_fn\u001b[0m\u001b[1;33m,\u001b[0m \u001b[0mhandle\u001b[0m\u001b[1;33m,\u001b[0m \u001b[0mfeeds\u001b[0m\u001b[1;33m,\u001b[0m \u001b[0mfetches\u001b[0m\u001b[1;33m)\u001b[0m\u001b[1;33m\u001b[0m\u001b[0m\n",
      "\u001b[1;32mc:\\users\\zheng\\anaconda3\\envs\\tensorflow-gpu\\lib\\site-packages\\tensorflow\\python\\client\\session.py\u001b[0m in \u001b[0;36m_do_call\u001b[1;34m(self, fn, *args)\u001b[0m\n\u001b[0;32m   1320\u001b[0m   \u001b[1;32mdef\u001b[0m \u001b[0m_do_call\u001b[0m\u001b[1;33m(\u001b[0m\u001b[0mself\u001b[0m\u001b[1;33m,\u001b[0m \u001b[0mfn\u001b[0m\u001b[1;33m,\u001b[0m \u001b[1;33m*\u001b[0m\u001b[0margs\u001b[0m\u001b[1;33m)\u001b[0m\u001b[1;33m:\u001b[0m\u001b[1;33m\u001b[0m\u001b[0m\n\u001b[0;32m   1321\u001b[0m     \u001b[1;32mtry\u001b[0m\u001b[1;33m:\u001b[0m\u001b[1;33m\u001b[0m\u001b[0m\n\u001b[1;32m-> 1322\u001b[1;33m       \u001b[1;32mreturn\u001b[0m \u001b[0mfn\u001b[0m\u001b[1;33m(\u001b[0m\u001b[1;33m*\u001b[0m\u001b[0margs\u001b[0m\u001b[1;33m)\u001b[0m\u001b[1;33m\u001b[0m\u001b[0m\n\u001b[0m\u001b[0;32m   1323\u001b[0m     \u001b[1;32mexcept\u001b[0m \u001b[0merrors\u001b[0m\u001b[1;33m.\u001b[0m\u001b[0mOpError\u001b[0m \u001b[1;32mas\u001b[0m \u001b[0me\u001b[0m\u001b[1;33m:\u001b[0m\u001b[1;33m\u001b[0m\u001b[0m\n\u001b[0;32m   1324\u001b[0m       \u001b[0mmessage\u001b[0m \u001b[1;33m=\u001b[0m \u001b[0mcompat\u001b[0m\u001b[1;33m.\u001b[0m\u001b[0mas_text\u001b[0m\u001b[1;33m(\u001b[0m\u001b[0me\u001b[0m\u001b[1;33m.\u001b[0m\u001b[0mmessage\u001b[0m\u001b[1;33m)\u001b[0m\u001b[1;33m\u001b[0m\u001b[0m\n",
      "\u001b[1;32mc:\\users\\zheng\\anaconda3\\envs\\tensorflow-gpu\\lib\\site-packages\\tensorflow\\python\\client\\session.py\u001b[0m in \u001b[0;36m_run_fn\u001b[1;34m(feed_dict, fetch_list, target_list, options, run_metadata)\u001b[0m\n\u001b[0;32m   1305\u001b[0m       \u001b[0mself\u001b[0m\u001b[1;33m.\u001b[0m\u001b[0m_extend_graph\u001b[0m\u001b[1;33m(\u001b[0m\u001b[1;33m)\u001b[0m\u001b[1;33m\u001b[0m\u001b[0m\n\u001b[0;32m   1306\u001b[0m       return self._call_tf_sessionrun(\n\u001b[1;32m-> 1307\u001b[1;33m           options, feed_dict, fetch_list, target_list, run_metadata)\n\u001b[0m\u001b[0;32m   1308\u001b[0m \u001b[1;33m\u001b[0m\u001b[0m\n\u001b[0;32m   1309\u001b[0m     \u001b[1;32mdef\u001b[0m \u001b[0m_prun_fn\u001b[0m\u001b[1;33m(\u001b[0m\u001b[0mhandle\u001b[0m\u001b[1;33m,\u001b[0m \u001b[0mfeed_dict\u001b[0m\u001b[1;33m,\u001b[0m \u001b[0mfetch_list\u001b[0m\u001b[1;33m)\u001b[0m\u001b[1;33m:\u001b[0m\u001b[1;33m\u001b[0m\u001b[0m\n",
      "\u001b[1;32mc:\\users\\zheng\\anaconda3\\envs\\tensorflow-gpu\\lib\\site-packages\\tensorflow\\python\\client\\session.py\u001b[0m in \u001b[0;36m_call_tf_sessionrun\u001b[1;34m(self, options, feed_dict, fetch_list, target_list, run_metadata)\u001b[0m\n\u001b[0;32m   1407\u001b[0m       return tf_session.TF_SessionRun_wrapper(\n\u001b[0;32m   1408\u001b[0m           \u001b[0mself\u001b[0m\u001b[1;33m.\u001b[0m\u001b[0m_session\u001b[0m\u001b[1;33m,\u001b[0m \u001b[0moptions\u001b[0m\u001b[1;33m,\u001b[0m \u001b[0mfeed_dict\u001b[0m\u001b[1;33m,\u001b[0m \u001b[0mfetch_list\u001b[0m\u001b[1;33m,\u001b[0m \u001b[0mtarget_list\u001b[0m\u001b[1;33m,\u001b[0m\u001b[1;33m\u001b[0m\u001b[0m\n\u001b[1;32m-> 1409\u001b[1;33m           run_metadata)\n\u001b[0m\u001b[0;32m   1410\u001b[0m     \u001b[1;32melse\u001b[0m\u001b[1;33m:\u001b[0m\u001b[1;33m\u001b[0m\u001b[0m\n\u001b[0;32m   1411\u001b[0m       \u001b[1;32mwith\u001b[0m \u001b[0merrors\u001b[0m\u001b[1;33m.\u001b[0m\u001b[0mraise_exception_on_not_ok_status\u001b[0m\u001b[1;33m(\u001b[0m\u001b[1;33m)\u001b[0m \u001b[1;32mas\u001b[0m \u001b[0mstatus\u001b[0m\u001b[1;33m:\u001b[0m\u001b[1;33m\u001b[0m\u001b[0m\n",
      "\u001b[1;31mKeyboardInterrupt\u001b[0m: "
     ]
    }
   ],
   "source": [
    "adam = keras.optimizers.Adam(lr=0.005)\n",
    "classifier = main(optimizer=adam, loss='binary_crossentropy')\n",
    "train_test_whole(classifier, 0, 'weight-32units-model3.hdf5', epochs=100)\n",
    "gc.collect()"
   ]
  },
  {
   "cell_type": "code",
   "execution_count": 30,
   "metadata": {},
   "outputs": [
    {
     "name": "stderr",
     "output_type": "stream",
     "text": [
      "c:\\users\\zheng\\anaconda3\\envs\\tensorflow-gpu\\lib\\site-packages\\ipykernel_launcher.py:6: UserWarning: Update your `MaxPooling2D` call to the Keras 2 API: `MaxPooling2D(2, 2, padding=\"same\")`\n",
      "  \n",
      "c:\\users\\zheng\\anaconda3\\envs\\tensorflow-gpu\\lib\\site-packages\\ipykernel_launcher.py:9: UserWarning: Update your `MaxPooling2D` call to the Keras 2 API: `MaxPooling2D(2, 2, padding=\"same\")`\n",
      "  if __name__ == '__main__':\n",
      "c:\\users\\zheng\\anaconda3\\envs\\tensorflow-gpu\\lib\\site-packages\\ipykernel_launcher.py:12: UserWarning: Update your `MaxPooling2D` call to the Keras 2 API: `MaxPooling2D(2, 2, padding=\"same\")`\n",
      "  if sys.path[0] == '':\n",
      "c:\\users\\zheng\\anaconda3\\envs\\tensorflow-gpu\\lib\\site-packages\\ipykernel_launcher.py:15: UserWarning: Update your `MaxPooling2D` call to the Keras 2 API: `MaxPooling2D(2, 2, padding=\"same\")`\n",
      "  from ipykernel import kernelapp as app\n"
     ]
    },
    {
     "name": "stdout",
     "output_type": "stream",
     "text": [
      "Train on 139360 samples, validate on 70501 samples\n",
      "Epoch 1/100\n",
      "139360/139360 [==============================] - 198s 1ms/step - loss: 0.0857 - acc: 0.9695 - val_loss: 0.3407 - val_acc: 0.9477\n",
      "Epoch 2/100\n",
      "139360/139360 [==============================] - 196s 1ms/step - loss: 0.0484 - acc: 0.9837 - val_loss: 0.3802 - val_acc: 0.9384\n",
      "Epoch 3/100\n",
      " 22784/139360 [===>..........................] - ETA: 2:26 - loss: 0.0418 - acc: 0.9862"
     ]
    },
    {
     "ename": "KeyboardInterrupt",
     "evalue": "",
     "output_type": "error",
     "traceback": [
      "\u001b[1;31m---------------------------------------------------------------------------\u001b[0m",
      "\u001b[1;31mKeyboardInterrupt\u001b[0m                         Traceback (most recent call last)",
      "\u001b[1;32m<ipython-input-30-1fb016620ea3>\u001b[0m in \u001b[0;36m<module>\u001b[1;34m()\u001b[0m\n\u001b[0;32m      1\u001b[0m \u001b[0madam\u001b[0m \u001b[1;33m=\u001b[0m \u001b[0mkeras\u001b[0m\u001b[1;33m.\u001b[0m\u001b[0moptimizers\u001b[0m\u001b[1;33m.\u001b[0m\u001b[0mAdam\u001b[0m\u001b[1;33m(\u001b[0m\u001b[0mlr\u001b[0m\u001b[1;33m=\u001b[0m\u001b[1;36m0.005\u001b[0m\u001b[1;33m)\u001b[0m\u001b[1;33m\u001b[0m\u001b[0m\n\u001b[0;32m      2\u001b[0m \u001b[0mclassifier\u001b[0m \u001b[1;33m=\u001b[0m \u001b[0mmain_3\u001b[0m\u001b[1;33m(\u001b[0m\u001b[0moptimizer\u001b[0m\u001b[1;33m=\u001b[0m\u001b[0madam\u001b[0m\u001b[1;33m,\u001b[0m \u001b[0mloss\u001b[0m\u001b[1;33m=\u001b[0m\u001b[1;34m'binary_crossentropy'\u001b[0m\u001b[1;33m)\u001b[0m\u001b[1;33m\u001b[0m\u001b[0m\n\u001b[1;32m----> 3\u001b[1;33m \u001b[0mtrain_test_whole\u001b[0m\u001b[1;33m(\u001b[0m\u001b[0mclassifier\u001b[0m\u001b[1;33m,\u001b[0m \u001b[1;36m0\u001b[0m\u001b[1;33m,\u001b[0m \u001b[1;34m'weight-32units-model1.hdf5'\u001b[0m\u001b[1;33m,\u001b[0m \u001b[0mepochs\u001b[0m\u001b[1;33m=\u001b[0m\u001b[1;36m100\u001b[0m\u001b[1;33m)\u001b[0m\u001b[1;33m\u001b[0m\u001b[0m\n\u001b[0m\u001b[0;32m      4\u001b[0m \u001b[0mgc\u001b[0m\u001b[1;33m.\u001b[0m\u001b[0mcollect\u001b[0m\u001b[1;33m(\u001b[0m\u001b[1;33m)\u001b[0m\u001b[1;33m\u001b[0m\u001b[0m\n",
      "\u001b[1;32m<ipython-input-22-d047eac78539>\u001b[0m in \u001b[0;36mtrain_test_whole\u001b[1;34m(classifier, num, name, epochs, batchsize)\u001b[0m\n\u001b[0;32m      3\u001b[0m \u001b[1;33m\u001b[0m\u001b[0m\n\u001b[0;32m      4\u001b[0m     classifier.fit([cnn_inputs, lstm_inputs], labels_inputs, epochs=epochs, batch_size=batchsize, verbose=1,\n\u001b[1;32m----> 5\u001b[1;33m                   validation_data = ([cnn_test, lstm_test], labels_test))\n\u001b[0m\u001b[0;32m      6\u001b[0m \u001b[1;33m\u001b[0m\u001b[0m\n\u001b[0;32m      7\u001b[0m     \u001b[1;31m#CV_loss, accuracy = load_test_score(classifier, cnn_test, lstm_test, y_test)\u001b[0m\u001b[1;33m\u001b[0m\u001b[1;33m\u001b[0m\u001b[0m\n",
      "\u001b[1;32mc:\\users\\zheng\\anaconda3\\envs\\tensorflow-gpu\\lib\\site-packages\\keras\\engine\\training.py\u001b[0m in \u001b[0;36mfit\u001b[1;34m(self, x, y, batch_size, epochs, verbose, callbacks, validation_split, validation_data, shuffle, class_weight, sample_weight, initial_epoch, steps_per_epoch, validation_steps, **kwargs)\u001b[0m\n\u001b[0;32m   1703\u001b[0m                               \u001b[0minitial_epoch\u001b[0m\u001b[1;33m=\u001b[0m\u001b[0minitial_epoch\u001b[0m\u001b[1;33m,\u001b[0m\u001b[1;33m\u001b[0m\u001b[0m\n\u001b[0;32m   1704\u001b[0m                               \u001b[0msteps_per_epoch\u001b[0m\u001b[1;33m=\u001b[0m\u001b[0msteps_per_epoch\u001b[0m\u001b[1;33m,\u001b[0m\u001b[1;33m\u001b[0m\u001b[0m\n\u001b[1;32m-> 1705\u001b[1;33m                               validation_steps=validation_steps)\n\u001b[0m\u001b[0;32m   1706\u001b[0m \u001b[1;33m\u001b[0m\u001b[0m\n\u001b[0;32m   1707\u001b[0m     def evaluate(self, x=None, y=None,\n",
      "\u001b[1;32mc:\\users\\zheng\\anaconda3\\envs\\tensorflow-gpu\\lib\\site-packages\\keras\\engine\\training.py\u001b[0m in \u001b[0;36m_fit_loop\u001b[1;34m(self, f, ins, out_labels, batch_size, epochs, verbose, callbacks, val_f, val_ins, shuffle, callback_metrics, initial_epoch, steps_per_epoch, validation_steps)\u001b[0m\n\u001b[0;32m   1233\u001b[0m                         \u001b[0mins_batch\u001b[0m\u001b[1;33m[\u001b[0m\u001b[0mi\u001b[0m\u001b[1;33m]\u001b[0m \u001b[1;33m=\u001b[0m \u001b[0mins_batch\u001b[0m\u001b[1;33m[\u001b[0m\u001b[0mi\u001b[0m\u001b[1;33m]\u001b[0m\u001b[1;33m.\u001b[0m\u001b[0mtoarray\u001b[0m\u001b[1;33m(\u001b[0m\u001b[1;33m)\u001b[0m\u001b[1;33m\u001b[0m\u001b[0m\n\u001b[0;32m   1234\u001b[0m \u001b[1;33m\u001b[0m\u001b[0m\n\u001b[1;32m-> 1235\u001b[1;33m                     \u001b[0mouts\u001b[0m \u001b[1;33m=\u001b[0m \u001b[0mf\u001b[0m\u001b[1;33m(\u001b[0m\u001b[0mins_batch\u001b[0m\u001b[1;33m)\u001b[0m\u001b[1;33m\u001b[0m\u001b[0m\n\u001b[0m\u001b[0;32m   1236\u001b[0m                     \u001b[1;32mif\u001b[0m \u001b[1;32mnot\u001b[0m \u001b[0misinstance\u001b[0m\u001b[1;33m(\u001b[0m\u001b[0mouts\u001b[0m\u001b[1;33m,\u001b[0m \u001b[0mlist\u001b[0m\u001b[1;33m)\u001b[0m\u001b[1;33m:\u001b[0m\u001b[1;33m\u001b[0m\u001b[0m\n\u001b[0;32m   1237\u001b[0m                         \u001b[0mouts\u001b[0m \u001b[1;33m=\u001b[0m \u001b[1;33m[\u001b[0m\u001b[0mouts\u001b[0m\u001b[1;33m]\u001b[0m\u001b[1;33m\u001b[0m\u001b[0m\n",
      "\u001b[1;32mc:\\users\\zheng\\anaconda3\\envs\\tensorflow-gpu\\lib\\site-packages\\keras\\backend\\tensorflow_backend.py\u001b[0m in \u001b[0;36m__call__\u001b[1;34m(self, inputs)\u001b[0m\n\u001b[0;32m   2476\u001b[0m         \u001b[0msession\u001b[0m \u001b[1;33m=\u001b[0m \u001b[0mget_session\u001b[0m\u001b[1;33m(\u001b[0m\u001b[1;33m)\u001b[0m\u001b[1;33m\u001b[0m\u001b[0m\n\u001b[0;32m   2477\u001b[0m         updated = session.run(fetches=fetches, feed_dict=feed_dict,\n\u001b[1;32m-> 2478\u001b[1;33m                               **self.session_kwargs)\n\u001b[0m\u001b[0;32m   2479\u001b[0m         \u001b[1;32mreturn\u001b[0m \u001b[0mupdated\u001b[0m\u001b[1;33m[\u001b[0m\u001b[1;33m:\u001b[0m\u001b[0mlen\u001b[0m\u001b[1;33m(\u001b[0m\u001b[0mself\u001b[0m\u001b[1;33m.\u001b[0m\u001b[0moutputs\u001b[0m\u001b[1;33m)\u001b[0m\u001b[1;33m]\u001b[0m\u001b[1;33m\u001b[0m\u001b[0m\n\u001b[0;32m   2480\u001b[0m \u001b[1;33m\u001b[0m\u001b[0m\n",
      "\u001b[1;32mc:\\users\\zheng\\anaconda3\\envs\\tensorflow-gpu\\lib\\site-packages\\tensorflow\\python\\client\\session.py\u001b[0m in \u001b[0;36mrun\u001b[1;34m(self, fetches, feed_dict, options, run_metadata)\u001b[0m\n\u001b[0;32m    898\u001b[0m     \u001b[1;32mtry\u001b[0m\u001b[1;33m:\u001b[0m\u001b[1;33m\u001b[0m\u001b[0m\n\u001b[0;32m    899\u001b[0m       result = self._run(None, fetches, feed_dict, options_ptr,\n\u001b[1;32m--> 900\u001b[1;33m                          run_metadata_ptr)\n\u001b[0m\u001b[0;32m    901\u001b[0m       \u001b[1;32mif\u001b[0m \u001b[0mrun_metadata\u001b[0m\u001b[1;33m:\u001b[0m\u001b[1;33m\u001b[0m\u001b[0m\n\u001b[0;32m    902\u001b[0m         \u001b[0mproto_data\u001b[0m \u001b[1;33m=\u001b[0m \u001b[0mtf_session\u001b[0m\u001b[1;33m.\u001b[0m\u001b[0mTF_GetBuffer\u001b[0m\u001b[1;33m(\u001b[0m\u001b[0mrun_metadata_ptr\u001b[0m\u001b[1;33m)\u001b[0m\u001b[1;33m\u001b[0m\u001b[0m\n",
      "\u001b[1;32mc:\\users\\zheng\\anaconda3\\envs\\tensorflow-gpu\\lib\\site-packages\\tensorflow\\python\\client\\session.py\u001b[0m in \u001b[0;36m_run\u001b[1;34m(self, handle, fetches, feed_dict, options, run_metadata)\u001b[0m\n\u001b[0;32m   1102\u001b[0m             \u001b[0mfeed_handles\u001b[0m\u001b[1;33m[\u001b[0m\u001b[0msubfeed_t\u001b[0m\u001b[1;33m]\u001b[0m \u001b[1;33m=\u001b[0m \u001b[0msubfeed_val\u001b[0m\u001b[1;33m\u001b[0m\u001b[0m\n\u001b[0;32m   1103\u001b[0m           \u001b[1;32melse\u001b[0m\u001b[1;33m:\u001b[0m\u001b[1;33m\u001b[0m\u001b[0m\n\u001b[1;32m-> 1104\u001b[1;33m             \u001b[0mnp_val\u001b[0m \u001b[1;33m=\u001b[0m \u001b[0mnp\u001b[0m\u001b[1;33m.\u001b[0m\u001b[0masarray\u001b[0m\u001b[1;33m(\u001b[0m\u001b[0msubfeed_val\u001b[0m\u001b[1;33m,\u001b[0m \u001b[0mdtype\u001b[0m\u001b[1;33m=\u001b[0m\u001b[0msubfeed_dtype\u001b[0m\u001b[1;33m)\u001b[0m\u001b[1;33m\u001b[0m\u001b[0m\n\u001b[0m\u001b[0;32m   1105\u001b[0m \u001b[1;33m\u001b[0m\u001b[0m\n\u001b[0;32m   1106\u001b[0m           if (not is_tensor_handle_feed and\n",
      "\u001b[1;32mc:\\users\\zheng\\anaconda3\\envs\\tensorflow-gpu\\lib\\site-packages\\numpy\\core\\numeric.py\u001b[0m in \u001b[0;36masarray\u001b[1;34m(a, dtype, order)\u001b[0m\n\u001b[0;32m    490\u001b[0m \u001b[1;33m\u001b[0m\u001b[0m\n\u001b[0;32m    491\u001b[0m     \"\"\"\n\u001b[1;32m--> 492\u001b[1;33m     \u001b[1;32mreturn\u001b[0m \u001b[0marray\u001b[0m\u001b[1;33m(\u001b[0m\u001b[0ma\u001b[0m\u001b[1;33m,\u001b[0m \u001b[0mdtype\u001b[0m\u001b[1;33m,\u001b[0m \u001b[0mcopy\u001b[0m\u001b[1;33m=\u001b[0m\u001b[1;32mFalse\u001b[0m\u001b[1;33m,\u001b[0m \u001b[0morder\u001b[0m\u001b[1;33m=\u001b[0m\u001b[0morder\u001b[0m\u001b[1;33m)\u001b[0m\u001b[1;33m\u001b[0m\u001b[0m\n\u001b[0m\u001b[0;32m    493\u001b[0m \u001b[1;33m\u001b[0m\u001b[0m\n\u001b[0;32m    494\u001b[0m \u001b[1;33m\u001b[0m\u001b[0m\n",
      "\u001b[1;31mKeyboardInterrupt\u001b[0m: "
     ]
    }
   ],
   "source": [
    "adam = keras.optimizers.Adam(lr=0.005)\n",
    "classifier = main_3(optimizer=adam, loss='binary_crossentropy')\n",
    "train_test_whole(classifier, 0, 'weight-32units-model1.hdf5', epochs=100)\n",
    "gc.collect()"
   ]
  }
 ],
 "metadata": {
  "kernelspec": {
   "display_name": "Python 3",
   "language": "python",
   "name": "python3"
  },
  "language_info": {
   "codemirror_mode": {
    "name": "ipython",
    "version": 3
   },
   "file_extension": ".py",
   "mimetype": "text/x-python",
   "name": "python",
   "nbconvert_exporter": "python",
   "pygments_lexer": "ipython3",
   "version": "3.5.2"
  }
 },
 "nbformat": 4,
 "nbformat_minor": 2
}
