{
 "cells": [
  {
   "cell_type": "code",
   "execution_count": 26,
   "metadata": {},
   "outputs": [],
   "source": [
    "# this is written one month before the first working game prototype\n",
    "# code needs to be updated\n",
    "# this is largely for demostration and to appreciate why picking peaks in the first octave don't usually work\n",
    "from IPython.display import clear_output\n",
    "\n",
    "import pyaudio\n",
    "import argparse\n",
    "\n",
    "import numpy as np\n",
    "import time\n",
    "import keras\n",
    "import matplotlib.pyplot as plt"
   ]
  },
  {
   "cell_type": "code",
   "execution_count": 6,
   "metadata": {},
   "outputs": [
    {
     "name": "stderr",
     "output_type": "stream",
     "text": [
      "/anaconda3/envs/nd/lib/python3.6/importlib/_bootstrap.py:219: RuntimeWarning: numpy.dtype size changed, may indicate binary incompatibility. Expected 96, got 88\n",
      "  return f(*args, **kwds)\n",
      "/anaconda3/envs/nd/lib/python3.6/importlib/_bootstrap.py:219: RuntimeWarning: numpy.dtype size changed, may indicate binary incompatibility. Expected 96, got 88\n",
      "  return f(*args, **kwds)\n",
      "/anaconda3/envs/nd/lib/python3.6/site-packages/h5py/__init__.py:34: FutureWarning: Conversion of the second argument of issubdtype from `float` to `np.floating` is deprecated. In future, it will be treated as `np.float64 == np.dtype(float).type`.\n",
      "  from ._conv import register_converters as _register_converters\n",
      "Using TensorFlow backend.\n"
     ]
    }
   ],
   "source": [
    "import pandas as pd\n",
    "import numpy as np\n",
    "import glob\n",
    "import gc\n",
    "import keras \n",
    "from keras.layers import LSTM, Dense, TimeDistributed, Dropout, MaxPooling2D, Conv2D, Input\n",
    "from keras.layers import Flatten, BatchNormalization, Activation, Reshape, concatenate\n",
    "from keras.models import Model\n",
    "import random\n",
    "from sklearn.model_selection import KFold\n",
    "import keras.backend as K"
   ]
  },
  {
   "cell_type": "code",
   "execution_count": 9,
   "metadata": {},
   "outputs": [
    {
     "name": "stderr",
     "output_type": "stream",
     "text": [
      "/anaconda3/envs/nd/lib/python3.6/site-packages/ipykernel/__main__.py:10: UserWarning: Update your `MaxPooling2D` call to the Keras 2 API: `MaxPooling2D(2, 2, padding=\"same\")`\n",
      "/anaconda3/envs/nd/lib/python3.6/site-packages/ipykernel/__main__.py:13: UserWarning: Update your `MaxPooling2D` call to the Keras 2 API: `MaxPooling2D(2, 2, padding=\"same\")`\n"
     ]
    }
   ],
   "source": [
    "steps = 20\n",
    "height = 108\n",
    "width = 108\n",
    "\n",
    "def main(optimizer='adam', loss='mean_squared_error', metrix='accuracy'):\n",
    "    #cnn\n",
    "    cnn_inputs = Input(shape=(height, width, 1), name='cnn_inputs')\n",
    "    layers = Conv2D(32, (3,3), padding=\"same\", activation=\"relu\")(cnn_inputs)\n",
    "    layers = BatchNormalization()(layers)\n",
    "    layers = MaxPooling2D(2,2, border_mode='same')(layers)\n",
    "    layers = Conv2D(32, (3,3), activation='relu')(layers)\n",
    "    layers = BatchNormalization()(layers)\n",
    "    layers = MaxPooling2D(2,2, border_mode='same')(layers)\n",
    "    layers = Flatten()(layers)\n",
    "    layers = Dropout(0.3)(layers)\n",
    "    layers = Dense(32, activation='relu')(layers)\n",
    "    \n",
    "    #lstm\n",
    "    lstm_inputs = Input(shape=(steps, 24), name='lstm_inputs')\n",
    "    lstm_layers = LSTM(16, return_sequences=True)(lstm_inputs)\n",
    "    lstm_layers = LSTM(16)(lstm_layers)\n",
    "    lstm_layers = Dense(24, activation='relu')(lstm_layers)\n",
    "    \n",
    "    #main route\n",
    "    main_ = concatenate([layers, lstm_layers])\n",
    "    main_ = BatchNormalization()(main_)\n",
    "    main_ = Dense(64, activation='relu')(main_)\n",
    "    output = Dense(24, activation='sigmoid')(main_)\n",
    "    \n",
    "    model = Model(inputs=[cnn_inputs, lstm_inputs], outputs=[output])\n",
    "    model.compile(optimizer=optimizer, loss=loss, metrics=[metrix])\n",
    "    return model\n",
    "\n",
    "classifier = main(optimizer='adam', loss='binary_crossentropy')\n",
    "classifier.load_weights('weight-75-overlap-model2.hdf5')"
   ]
  },
  {
   "cell_type": "code",
   "execution_count": 22,
   "metadata": {},
   "outputs": [],
   "source": [
    "def predict(cnn_input, lstm_input, classifier):\n",
    "    result = classifier.predict([cnn_input, lstm_input])[0].tolist()\n",
    "    print(result)\n",
    "    output = 'C'\n",
    "    possible = 'possible notes: '\n",
    "    for i in range(len(result)):\n",
    "        if result[i] < 0.3:\n",
    "            result[i] = 0\n",
    "        elif result[i] > 0.7:\n",
    "            result[i] = 1\n",
    "            output += '_{}'.format(i+60)\n",
    "        else:\n",
    "            possible += '_{}__{}'.format(i+60, result[i])\n",
    "    print(output)\n",
    "    print(possible)\n",
    "    return result"
   ]
  },
  {
   "cell_type": "code",
   "execution_count": 23,
   "metadata": {},
   "outputs": [
    {
     "name": "stdout",
     "output_type": "stream",
     "text": [
      "[0.00018842499412130564, 0.00018354850180912763, 0.000543465546797961, 0.00047987597645260394, 0.0005351792788133025, 0.0019334163516759872, 0.00030883497674949467, 0.000810497032944113, 1.8843655197997577e-05, 0.00043976723100058734, 0.00023511027393396944, 0.00032169712358154356, 0.0011985799064859748, 0.00016756293189246207, 0.0019855976570397615, 0.0009687006240710616, 0.0009133770363405347, 0.0004987559514120221, 0.0014477982185781002, 0.0007230454939417541, 0.0015948556829243898, 0.00027652570861391723, 0.000588579336181283, 0.00021660991478711367]\n",
      "C\n",
      "possible notes: \n"
     ]
    },
    {
     "data": {
      "text/plain": [
       "[0, 0, 0, 0, 0, 0, 0, 0, 0, 0, 0, 0, 0, 0, 0, 0, 0, 0, 0, 0, 0, 0, 0, 0]"
      ]
     },
     "execution_count": 23,
     "metadata": {},
     "output_type": "execute_result"
    }
   ],
   "source": [
    "predict(np.zeros((1,108,108,1)), np.zeros((1,20,24)), classifier)"
   ]
  },
  {
   "cell_type": "code",
   "execution_count": 27,
   "metadata": {},
   "outputs": [],
   "source": [
    "import librosa\n",
    "def convert_to_CQT(signal_to_map):\n",
    "    fmin = librosa.core.note_to_hz(\"B3\")\n",
    "    cqt_array = librosa.cqt(signal_to_map, sr=44100, hop_length=2**7, bins_per_octave=36, fmin=fmin, n_bins=108)\n",
    "    CQT = librosa.magphase(cqt_array)[0][:108,-108:]\n",
    "    print(np.shape(CQT))\n",
    "    return CQT"
   ]
  },
  {
   "cell_type": "code",
   "execution_count": 28,
   "metadata": {},
   "outputs": [],
   "source": [
    "# this is the size of each individual block of audio, we call this \"chunk\"\n",
    "chunksize = 2048\n",
    "\n",
    "# todo: variable frequency for CQT\n",
    "\n",
    "# parser = argparse.ArgumentParser()\n",
    "# parser.add_argument(\"-input\", required=False, type=int, help=\"Audio Input Device\")\n",
    "# args = parser.parse_args()\n",
    "\n",
    "# # this is here so you can choose the default audio input\n",
    "# if args.input is None:\n",
    "#     print(\"No input device specified. Printing list of input devices now: \")\n",
    "#     p = pyaudio.PyAudio()\n",
    "#     for i in range(p.get_device_count()):\n",
    "#         print(\"Device number (%i): %s\" % (i, p.get_device_info_by_index(i).get('name')))\n",
    "#         print(\"Run this program with -input 1, or the number of the input you'd like to use.\")\n",
    "#         exit()\n",
    "\n",
    "# starting audio channel?\n",
    "p = pyaudio.PyAudio()\n",
    "stream = p.open(format=pyaudio.paFloat32,\n",
    "channels=1, rate=44100, input=True,\n",
    "input_device_index=0, frames_per_buffer=chunksize)\n",
    "time.sleep(1)"
   ]
  },
  {
   "cell_type": "code",
   "execution_count": 29,
   "metadata": {},
   "outputs": [],
   "source": [
    "def detect_onset(signal, chunksize=2048, tempo_res=32, plotting = False):\n",
    "    '''\n",
    "    # this is to be called at the end of every chunk (2048 entries), starting from 4th chunk\n",
    "    # the input to this function is four chunks\n",
    "    These are never likely to be changed, maybe? : chunksize=2048, tempo_res=32\n",
    "    \n",
    "    TODO: make become on the fly\n",
    "    '''\n",
    "    # default value of onset, overwritten if onset is detected\n",
    "    onset = -1\n",
    "\n",
    "    # to detect difference\n",
    "    difference = np.cumsum(np.add(np.absolute(signal[chunksize:-chunksize]), -np.absolute(signal[:-2*chunksize])))\n",
    "    \n",
    "    # white noise is added the the difference \n",
    "    # this is to desensitise detection of low amplitdue onset sounds\n",
    "    noise = 10*np.array(np.random.randn(len(difference)))\n",
    "    difference = np.add(difference, noise)\n",
    "\n",
    "    # calculation of r-coefficient\n",
    "    # -1 is negatively correlated\n",
    "    # +1 is positively correlated\n",
    "    # onset is when r-coefficient cuts above 0.8\n",
    "    roceff = np.full(tempo_res, 0.)\n",
    "    tempo_num = int(chunksize / tempo_res)\n",
    "    for i in range(tempo_res):\n",
    "#         print(np.shape(difference))\n",
    "        roceff[i] = np.corrcoef(difference[i * tempo_num:(i * tempo_num + chunksize)],\n",
    "                                      np.arange(chunksize))[0, 1]\n",
    "        # special case when i = 0, because we do not have the previous value\n",
    "#         if i == 0 and roceff[0] > 0.8:\n",
    "#             onset = i\n",
    "        if roceff[0] < 0.8 and roceff[i] > 0.8 and np.max(roceff[:i]) < 0.8:\n",
    "            onset = i\n",
    "    \n",
    "    if onset != -1:\n",
    "        # clear output from jupyter\n",
    "        clear_output(wait=True)\n",
    "        plt.figure(figsize=(16,2))\n",
    "        plt.plot(np.arange(2048*1,2048*3),np.array(difference)/np.max(difference))\n",
    "        plt.plot(np.arange(2048*2,2048*3,64),roceff)\n",
    "        plt.plot(signal)\n",
    "        plt.axvline(x=2048*1+64*onset, color=\"r\")\n",
    "        plt.axvline(x=2048*3+64*onset, color=\"r\")\n",
    "        plt.show()\n",
    "    return onset # none, or a value"
   ]
  },
  {
   "cell_type": "code",
   "execution_count": 30,
   "metadata": {},
   "outputs": [],
   "source": [
    "def note_detect(chunksize=2048, tempo_res=32, plotting = False):\n",
    "    print(\"opening\")\n",
    "    frames = []\n",
    "    i = 0\n",
    "    \n",
    "    lstm_history = np.zeros((1,20,24))\n",
    "\n",
    "    while True:\n",
    "        # assume pyaudio clip mono sound\n",
    "        # use assert?\n",
    "        \n",
    "        i += 1\n",
    "        data = stream.read(chunksize, exception_on_overflow=False)\n",
    "        data = np.fromstring(data, np.float32)\n",
    "        frames.append(data)\n",
    "        # print(len(frames))\n",
    "        \n",
    "        # start listening only after there is a certain number of \"frames\"\n",
    "        if i > 10 and len(frames)>4:\n",
    "            frames[:] = frames[-10:]\n",
    "            signal = np.concatenate((frames[-5],frames[-4],frames[-3],frames[-2]))\n",
    "\n",
    "            # onset function\n",
    "            # print(np.sum(abs(signal)))\n",
    "            # print(len(signal))\n",
    "            # print(\"finding onset\")\n",
    "            onset = detect_onset(signal)\n",
    "            # print(\"onset detection complete\")\n",
    "            # print(onset)\n",
    "            \n",
    "            # remove the older frames\n",
    "            \n",
    "            # make an array consists of 4096 entries if there is an onset\n",
    "            if onset != -1:\n",
    "                print(\"onset DETECTED\")\n",
    "                signal_ = np.concatenate((frames[-10],frames[-9],\n",
    "                                          frames[-8],frames[-7],\n",
    "                                          frames[-6],frames[-5],\n",
    "                                          frames[-4],frames[-3],\n",
    "                                          frames[-2],frames[-1]))\n",
    "                signal_input = signal_[-4*4096+64*onset:-2048+64*onset]\n",
    "                onset = -1 # set onset back to negative one - but necessary?\n",
    "                \n",
    "                spectro = convert_to_CQT(signal_input)\n",
    "                \n",
    "                plt.imshow(spectro)\n",
    "                plt.show()\n",
    "                \n",
    "                spectro = spectro.reshape(1,108,108,1)\n",
    "                print(np.shape(spectro))\n",
    "                result = predict(spectro, lstm_history, classifier)\n",
    "                print(result)\n",
    "\n",
    "    # don't you need to return something?"
   ]
  },
  {
   "cell_type": "code",
   "execution_count": null,
   "metadata": {},
   "outputs": [
    {
     "data": {
      "image/png": "[encoded data removed]",
      "text/plain": [
       "<Figure size 1152x144 with 1 Axes>"
      ]
     },
     "metadata": {},
     "output_type": "display_data"
    },
    {
     "name": "stdout",
     "output_type": "stream",
     "text": [
      "onset DETECTED\n",
      "(108, 108)\n"
     ]
    },
    {
     "data": {
      "image/png": "[encoded data removed]",
      "text/plain": [
       "<Figure size 432x288 with 1 Axes>"
      ]
     },
     "metadata": {},
     "output_type": "display_data"
    },
    {
     "name": "stdout",
     "output_type": "stream",
     "text": [
      "(1, 108, 108, 1)\n",
      "[8.320645150661221e-08, 0.5299997329711914, 5.9616017097141594e-05, 0.39463338255882263, 0.0023014117032289505, 0.0732709988951683, 0.11980902403593063, 2.8853860385424923e-06, 1.267712712582636e-09, 0.0006589241093024611, 0.04525284841656685, 2.146616395748424e-08, 0.0014779914636164904, 0.00016370475350413471, 1.4741855238753487e-06, 0.00017088076856452972, 1.1517816346895415e-05, 0.00010766007471829653, 2.601064963414501e-08, 1.9067235290659568e-10, 0.0022952689323574305, 6.187613621477794e-08, 0.11013434827327728, 0.050316136330366135]\n",
      "C\n",
      "possible notes: _61__0.5299997329711914_63__0.39463338255882263\n",
      "[0, 0.5299997329711914, 0, 0.39463338255882263, 0, 0, 0, 0, 0, 0, 0, 0, 0, 0, 0, 0, 0, 0, 0, 0, 0, 0, 0, 0]\n"
     ]
    }
   ],
   "source": [
    "note_detect()"
   ]
  },
  {
   "cell_type": "code",
   "execution_count": 2,
   "metadata": {},
   "outputs": [],
   "source": [
    "import numpy as np\n",
    "lstm_history_ = np.zeros((24,20))"
   ]
  },
  {
   "cell_type": "code",
   "execution_count": 3,
   "metadata": {},
   "outputs": [
    {
     "name": "stdout",
     "output_type": "stream",
     "text": [
      "[[0. 0. 0. 0. 0. 0. 0. 0. 0. 0. 0. 0. 0. 0. 0. 0. 0. 0. 0. 0.]\n",
      " [0. 0. 0. 0. 0. 0. 0. 0. 0. 0. 0. 0. 0. 0. 0. 0. 0. 0. 0. 0.]\n",
      " [0. 0. 0. 0. 0. 0. 0. 0. 0. 0. 0. 0. 0. 0. 0. 0. 0. 0. 0. 0.]\n",
      " [0. 0. 0. 0. 0. 0. 0. 0. 0. 0. 0. 0. 0. 0. 0. 0. 0. 0. 0. 0.]\n",
      " [0. 0. 0. 0. 0. 0. 0. 0. 0. 0. 0. 0. 0. 0. 0. 0. 0. 0. 0. 0.]\n",
      " [0. 0. 0. 0. 0. 0. 0. 0. 0. 0. 0. 0. 0. 0. 0. 0. 0. 0. 0. 0.]\n",
      " [0. 0. 0. 0. 0. 0. 0. 0. 0. 0. 0. 0. 0. 0. 0. 0. 0. 0. 0. 0.]\n",
      " [0. 0. 0. 0. 0. 0. 0. 0. 0. 0. 0. 0. 0. 0. 0. 0. 0. 0. 0. 0.]\n",
      " [0. 0. 0. 0. 0. 0. 0. 0. 0. 0. 0. 0. 0. 0. 0. 0. 0. 0. 0. 0.]\n",
      " [0. 0. 0. 0. 0. 0. 0. 0. 0. 0. 0. 0. 0. 0. 0. 0. 0. 0. 0. 0.]\n",
      " [0. 0. 0. 0. 0. 0. 0. 0. 0. 0. 0. 0. 0. 0. 0. 0. 0. 0. 0. 0.]\n",
      " [0. 0. 0. 0. 0. 0. 0. 0. 0. 0. 0. 0. 0. 0. 0. 0. 0. 0. 0. 0.]\n",
      " [0. 0. 0. 0. 0. 0. 0. 0. 0. 0. 0. 0. 0. 0. 0. 0. 0. 0. 0. 0.]\n",
      " [0. 0. 0. 0. 0. 0. 0. 0. 0. 0. 0. 0. 0. 0. 0. 0. 0. 0. 0. 0.]\n",
      " [0. 0. 0. 0. 0. 0. 0. 0. 0. 0. 0. 0. 0. 0. 0. 0. 0. 0. 0. 0.]\n",
      " [0. 0. 0. 0. 0. 0. 0. 0. 0. 0. 0. 0. 0. 0. 0. 0. 0. 0. 0. 0.]\n",
      " [0. 0. 0. 0. 0. 0. 0. 0. 0. 0. 0. 0. 0. 0. 0. 0. 0. 0. 0. 0.]\n",
      " [0. 0. 0. 0. 0. 0. 0. 0. 0. 0. 0. 0. 0. 0. 0. 0. 0. 0. 0. 0.]\n",
      " [0. 0. 0. 0. 0. 0. 0. 0. 0. 0. 0. 0. 0. 0. 0. 0. 0. 0. 0. 0.]\n",
      " [0. 0. 0. 0. 0. 0. 0. 0. 0. 0. 0. 0. 0. 0. 0. 0. 0. 0. 0. 0.]\n",
      " [0. 0. 0. 0. 0. 0. 0. 0. 0. 0. 0. 0. 0. 0. 0. 0. 0. 0. 0. 0.]\n",
      " [0. 0. 0. 0. 0. 0. 0. 0. 0. 0. 0. 0. 0. 0. 0. 0. 0. 0. 0. 0.]\n",
      " [0. 0. 0. 0. 0. 0. 0. 0. 0. 0. 0. 0. 0. 0. 0. 0. 0. 0. 0. 0.]\n",
      " [0. 0. 0. 0. 0. 0. 0. 0. 0. 0. 0. 0. 0. 0. 0. 0. 0. 0. 0. 0.]]\n"
     ]
    }
   ],
   "source": [
    "print(lstm_history_)"
   ]
  },
  {
   "cell_type": "code",
   "execution_count": null,
   "metadata": {},
   "outputs": [],
   "source": []
  }
 ],
 "metadata": {
  "kernelspec": {
   "display_name": "Python [conda env:nd]",
   "language": "python",
   "name": "conda-env-nd-py"
  },
  "language_info": {
   "codemirror_mode": {
    "name": "ipython",
    "version": 3
   },
   "file_extension": ".py",
   "mimetype": "text/x-python",
   "name": "python",
   "nbconvert_exporter": "python",
   "pygments_lexer": "ipython3",
   "version": "3.6.5"
  }
 },
 "nbformat": 4,
 "nbformat_minor": 2
}
