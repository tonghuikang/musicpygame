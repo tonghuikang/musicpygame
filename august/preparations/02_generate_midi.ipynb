{
 "cells": [
  {
   "cell_type": "markdown",
   "metadata": {},
   "source": [
    "Given the `.npy` files in `./notes/` convert to midi files in `./midi/`"
   ]
  },
  {
   "cell_type": "code",
   "execution_count": 1,
   "metadata": {},
   "outputs": [],
   "source": [
    "from midiutil.MidiFile import MIDIFile\n",
    "import numpy as np"
   ]
  },
  {
   "cell_type": "code",
   "execution_count": 2,
   "metadata": {},
   "outputs": [],
   "source": [
    "def generate_midi_file(sound_id, time_array, note_array):\n",
    "#     filename, time_array, note_array = parse_row(csv_row)\n",
    "    \n",
    "    # create your MIDI object\n",
    "    num_tracks = 5\n",
    "    mf = MIDIFile(num_tracks)     # only 1 track\n",
    "    track = 0   # the only track\n",
    "\n",
    "    time = 0    # start at the beginning\n",
    "#     mf.addTrackName(track, time, \"Sample Track\")\n",
    "#     mf.addTempo(track, time, 120)\n",
    "\n",
    "    # add some notes\n",
    "    channel = 0\n",
    "    volume = 100\n",
    "    \n",
    "    for i in range(len(time_array)):\n",
    "        track = (track + 1) % 5\n",
    "        \n",
    "        pitch = 60 + note_array[i]             # C4 (middle C)\n",
    "        time = time_array[i]                   # start on beat 0\n",
    "        duration = np.random.uniform(0.8,0.9)\n",
    "        volume = np.random.randint(50,100)     # 1 beat long\n",
    "        mf.addNote(track, channel, pitch, time, duration, volume)\n",
    "    \n",
    "    with open(\"./midi/{}.mid\".format(sound_id), 'wb') as outf:\n",
    "        mf.writeFile(outf)"
   ]
  },
  {
   "cell_type": "code",
   "execution_count": 3,
   "metadata": {},
   "outputs": [
    {
     "name": "stdout",
     "output_type": "stream",
     "text": [
      "5\n"
     ]
    }
   ],
   "source": [
    "import glob\n",
    "\n",
    "notes = glob.glob(\"./notes/*\")\n",
    "print(len(notes))\n",
    "\n",
    "for filename in notes:\n",
    "    sound_id = filename[-20:-4]\n",
    "    time_note_array = np.load(filename)\n",
    "    time_array, note_array = np.transpose(time_note_array)\n",
    "    generate_midi_file(sound_id, time_array, np.array(note_array, dtype=int))"
   ]
  },
  {
   "cell_type": "code",
   "execution_count": 4,
   "metadata": {
    "scrolled": false
   },
   "outputs": [],
   "source": [
    "# print(filename)\n",
    "# print(sound_id)\n",
    "# print(time_note_array)\n",
    "# print(time_array, note_array)"
   ]
  },
  {
   "cell_type": "code",
   "execution_count": null,
   "metadata": {},
   "outputs": [],
   "source": []
  }
 ],
 "metadata": {
  "kernelspec": {
   "display_name": "Python [conda env:nd]",
   "language": "python",
   "name": "conda-env-nd-py"
  },
  "language_info": {
   "codemirror_mode": {
    "name": "ipython",
    "version": 3
   },
   "file_extension": ".py",
   "mimetype": "text/x-python",
   "name": "python",
   "nbconvert_exporter": "python",
   "pygments_lexer": "ipython3",
   "version": "3.6.5"
  }
 },
 "nbformat": 4,
 "nbformat_minor": 2
}
