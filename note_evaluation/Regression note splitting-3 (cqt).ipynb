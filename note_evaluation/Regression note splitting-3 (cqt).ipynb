{
 "cells": [
  {
   "cell_type": "markdown",
   "metadata": {},
   "source": [
    "# Regression model for note splitting"
   ]
  },
  {
   "cell_type": "code",
   "execution_count": 1,
   "metadata": {
    "collapsed": true
   },
   "outputs": [],
   "source": [
    "import numpy as np\n",
    "import soundfile as sf"
   ]
  },
  {
   "cell_type": "markdown",
   "metadata": {},
   "source": [
    "# Using pandas library"
   ]
  },
  {
   "cell_type": "code",
   "execution_count": 10,
   "metadata": {
    "collapsed": false
   },
   "outputs": [],
   "source": [
    "import statsmodels.api as sm\n",
    "import pandas as pd "
   ]
  },
  {
   "cell_type": "code",
   "execution_count": 150,
   "metadata": {
    "collapsed": false
   },
   "outputs": [
    {
     "name": "stdout",
     "output_type": "stream",
     "text": [
      "44100\n",
      "[ 0.19989014  0.33406753  0.24234739 ..., -0.0082267  -0.00873673\n",
      " -0.00867961]\n",
      "summary:                             OLS Regression Results                            \n",
      "==============================================================================\n",
      "Dep. Variable:                      0   R-squared:                       0.855\n",
      "Model:                            OLS   Adj. R-squared:                  0.854\n",
      "Method:                 Least Squares   F-statistic:                     999.2\n",
      "Date:                Mon, 14 May 2018   Prob (F-statistic):               0.00\n",
      "Time:                        15:38:36   Log-Likelihood:                -625.93\n",
      "No. Observations:                2048   AIC:                             1276.\n",
      "Df Residuals:                    2036   BIC:                             1343.\n",
      "Df Model:                          12                                         \n",
      "Covariance Type:            nonrobust                                         \n",
      "==============================================================================\n",
      "                 coef    std err          t      P>|t|      [95.0% Conf. Int.]\n",
      "------------------------------------------------------------------------------\n",
      "0              0.0139      0.008      1.727      0.084        -0.002     0.030\n",
      "1              0.4761      0.006     77.280      0.000         0.464     0.488\n",
      "2              0.0127      0.023      0.557      0.578        -0.032     0.058\n",
      "3             -0.0128      0.030     -0.425      0.671        -0.072     0.046\n",
      "4             -0.1183      0.008    -14.747      0.000        -0.134    -0.103\n",
      "5             -0.0196      0.011     -1.754      0.080        -0.041     0.002\n",
      "6              0.0204      0.008      2.704      0.007         0.006     0.035\n",
      "7             -0.7172      0.011    -68.295      0.000        -0.738    -0.697\n",
      "8              0.0366      0.017      2.198      0.028         0.004     0.069\n",
      "9              0.0168      0.008      2.202      0.028         0.002     0.032\n",
      "10             0.0108      0.010      1.025      0.305        -0.010     0.031\n",
      "11            -0.2744      0.011    -25.148      0.000        -0.296    -0.253\n",
      "==============================================================================\n",
      "Omnibus:                      907.720   Durbin-Watson:                   1.773\n",
      "Prob(Omnibus):                  0.000   Jarque-Bera (JB):          2349467.682\n",
      "Skew:                          -0.010   Prob(JB):                         0.00\n",
      "Kurtosis:                     168.930   Cond. No.                         5.12\n",
      "==============================================================================\n",
      "\n",
      "Warnings:\n",
      "[1] Standard Errors assume that the covariance matrix of the errors is correctly specified.\n"
     ]
    }
   ],
   "source": [
    "filename = 'C4_61_64_67_71.wav'\n",
    "\n",
    "#number of keys (should be 12) to be considered here\n",
    "num_notes = 12\n",
    "\n",
    "#level of significance\n",
    "alpha = 0.00001\n",
    "\n",
    "# assuming that we have 12 vectors of length 4096: A,A_sharp,B.......G_sharp\n",
    "#these are the fourier transforms of the notes\n",
    "# then we can make a matrix X, with the columns as these notes\n",
    "\n",
    "#X is a 2048 by 12 matrix\n",
    "X = np.zeros((2048,num_notes))\n",
    "\n",
    "\n",
    "#reading the sound file\n",
    "\n",
    "for i in range(12):\n",
    "    ref, sample_rate = sf.read('C4_' + str(i+60) +'_x_x_x.wav')\n",
    "    note = np.fft.fft(ref[20000:24096,0]) \n",
    "    note_new = note.real[0:len(note)/2]\n",
    "    X[:,i] = note_new\n",
    "    \n",
    "\n",
    "ref, sample_rate = sf.read(filename)\n",
    "note = np.fft.fft(ref[20000:24096,0])\n",
    "note_new = note.real[0:len(note)/2]\n",
    "Y = note_new\n",
    "print Y\n",
    "\n",
    "\n",
    "# define the predictors and target values in data frames\n",
    "x = pd.DataFrame(X)\n",
    "y = pd.DataFrame(Y)\n",
    "\n",
    "# Note the difference in argument order\n",
    "model = sm.OLS(y, x).fit()\n",
    "predictions = model.predict(x) # make the predictions by the model\n",
    "\n",
    "# Print out the statistics\n",
    "print \"summary:\", model.summary()\n"
   ]
  },
  {
   "cell_type": "code",
   "execution_count": 6,
   "metadata": {
    "collapsed": false
   },
   "outputs": [
    {
     "name": "stdout",
     "output_type": "stream",
     "text": [
      "r-squared value: 0.854838984231\n",
      "[61, 64, 67, 71]\n",
      "mystery chord is C4_61_64_67_71.wav\n",
      "degree of significance, alpha is: 1e-05\n"
     ]
    }
   ],
   "source": [
    "print \"r-squared value:\", model.rsquared\n",
    "\n",
    "involved_notes = []\n",
    "for i in range(len(model.pvalues)):\n",
    "    if model.pvalues[i] < alpha:\n",
    "        involved_notes.append(i+60)\n",
    "                      \n",
    "print involved_notes\n",
    "print \"mystery chord is\", filename\n",
    "print \"degree of significance, alpha is:\", alpha"
   ]
  },
  {
   "cell_type": "markdown",
   "metadata": {},
   "source": [
    "# Using librosa in cqt\n",
    "\n",
    "## Using librosa and plotting out a cqt plot"
   ]
  },
  {
   "cell_type": "code",
   "execution_count": 144,
   "metadata": {
    "collapsed": true
   },
   "outputs": [],
   "source": [
    "import librosa\n",
    "import librosa.display\n",
    "import os\n",
    "import matplotlib.pyplot as plt\n",
    "from matplotlib import cm"
   ]
  },
  {
   "cell_type": "code",
   "execution_count": 171,
   "metadata": {
    "collapsed": false
   },
   "outputs": [
    {
     "data": {
      "image/png": "[encoded data removed]",
      "text/plain": [
       "<matplotlib.figure.Figure at 0x10c3e970>"
      ]
     },
     "metadata": {},
     "output_type": "display_data"
    },
    {
     "data": {
      "text/plain": [
       "<matplotlib.text.Text at 0x12154e30>"
      ]
     },
     "execution_count": 171,
     "metadata": {},
     "output_type": "execute_result"
    }
   ],
   "source": [
    "y, sr = librosa.load('C4_61_x_x_x.wav', sr= None)\n",
    "#y, sr = librosa.load('C4_61_64_67_71.wav')\n",
    "\n",
    "#loading points into the data\n",
    "#there will be 1 sample taken at the start, and then another taken a hop_length away\n",
    "# y=y[16384:32768]  #empirically speaking, this is the best part of the note, that are in powers of 2\n",
    "\n",
    "\n",
    "C = librosa.cqt(y[16384:32768], sr=sr, hop_length=512, fmin=librosa.note_to_hz('C4'),\n",
    "                n_bins=12, bins_per_octave=12, tuning=None,\n",
    "                filter_scale=1, norm=1, sparsity=0.01)\n",
    "\n",
    "# Plotting\n",
    "librosa.display.specshow(librosa.amplitude_to_db(C, ref=np.max),\n",
    "                          sr=sr, x_axis='time', y_axis='chroma')\n",
    "\n",
    "#this line might be redundant. But the code didn't run on my comp when this wasn't in.\n",
    "librosa.display.cmap(librosa.amplitude_to_db(C, ref=np.max), robust=False, cmap_seq='magma',\n",
    "                     cmap_bool='gray_r', cmap_div='coolwarm')\n",
    "\n",
    "plt.colorbar(format='%+2.0f dB')\n",
    "plt.show()\n",
    "plt.title('Constant-Q power spectrum')\n",
    "#plt.tight_layout()\n",
    "\n"
   ]
  },
  {
   "cell_type": "code",
   "execution_count": 185,
   "metadata": {
    "collapsed": false
   },
   "outputs": [
    {
     "name": "stdout",
     "output_type": "stream",
     "text": [
      "summary:                             OLS Regression Results                            \n",
      "==============================================================================\n",
      "Dep. Variable:                      0   R-squared:                       0.344\n",
      "Model:                            OLS   Adj. R-squared:                  0.324\n",
      "Method:                 Least Squares   F-statistic:                     16.79\n",
      "Date:                Mon, 14 May 2018   Prob (F-statistic):           8.06e-29\n",
      "Time:                        16:16:27   Log-Likelihood:                 370.74\n",
      "No. Observations:                 396   AIC:                            -717.5\n",
      "Df Residuals:                     384   BIC:                            -669.7\n",
      "Df Model:                          12                                         \n",
      "Covariance Type:            nonrobust                                         \n",
      "==============================================================================\n",
      "                 coef    std err          t      P>|t|      [95.0% Conf. Int.]\n",
      "------------------------------------------------------------------------------\n",
      "0              0.0521      0.043      1.200      0.231        -0.033     0.138\n",
      "1              0.3866      0.030     13.001      0.000         0.328     0.445\n",
      "2             -0.0506      0.035     -1.441      0.150        -0.120     0.018\n",
      "3              0.0303      0.032      0.933      0.352        -0.034     0.094\n",
      "4             -0.0965      0.042     -2.314      0.021        -0.178    -0.014\n",
      "5              0.0250      0.035      0.712      0.477        -0.044     0.094\n",
      "6             -0.0399      0.040     -0.990      0.323        -0.119     0.039\n",
      "7             -0.1491      0.036     -4.183      0.000        -0.219    -0.079\n",
      "8              0.0328      0.037      0.887      0.376        -0.040     0.105\n",
      "9             -0.0937      0.046     -2.020      0.044        -0.185    -0.002\n",
      "10            -0.0267      0.068     -0.393      0.694        -0.160     0.107\n",
      "11             0.0103      0.069      0.149      0.882        -0.125     0.146\n",
      "==============================================================================\n",
      "Omnibus:                       82.927   Durbin-Watson:                   2.297\n",
      "Prob(Omnibus):                  0.000   Jarque-Bera (JB):             1582.814\n",
      "Skew:                           0.191   Prob(JB):                         0.00\n",
      "Kurtosis:                      12.787   Cond. No.                         2.41\n",
      "==============================================================================\n",
      "\n",
      "Warnings:\n",
      "[1] Standard Errors assume that the covariance matrix of the errors is correctly specified.\n"
     ]
    }
   ],
   "source": [
    "filename = 'C4_61_64_67_69.wav'\n",
    "\n",
    "#number of keys (should be 12) to be considered here\n",
    "num_notes = 12\n",
    "\n",
    "#level of significance\n",
    "alpha = 0.05\n",
    "\n",
    "# assuming that we have 12 vectors of length 396: A,A_sharp,B.......G_sharp\n",
    "#these are the CQTs of the notes\n",
    "# then we can make a matrix X, with the columns as these notes\n",
    "\n",
    "#X is a 396 by 12 matrix\n",
    "#We first realize that each \"C\", or each spectrogram, is a 12*33 np array.\n",
    "#That makes it 12*33=396 elements. We shall use vectors of 396 elements (instead of 2048 in linear regression)\n",
    "X = np.zeros((396,num_notes))\n",
    "\n",
    "\n",
    "#reading the sound file\n",
    "for i in range(12):\n",
    "    \n",
    "    ref, sample_rate = sf.read('C4_' + str(i+60) +'_x_x_x.wav')\n",
    "    C = librosa.cqt(ref[16384:32768,0], sr=sr, hop_length=512, fmin=librosa.note_to_hz('C4'),\n",
    "                n_bins=12, bins_per_octave=12, tuning=None,\n",
    "                filter_scale=1, norm=1, sparsity=0.01)\n",
    "    spec_vector = np.reshape(C.real, (396))\n",
    "    X[:,i] = spec_vector\n",
    "    \n",
    "\n",
    "ref, sample_rate = sf.read(filename)\n",
    "C = librosa.cqt(ref[16384:32768,0], sr=sr, hop_length=512, fmin=librosa.note_to_hz('C4'),\n",
    "            n_bins=12, bins_per_octave=12, tuning=None,\n",
    "            filter_scale=1, norm=1, sparsity=0.01)\n",
    "Y = np.reshape(C.real, (396))\n",
    "\n",
    "\n",
    "# define the predictors and target values in data frames\n",
    "x = pd.DataFrame(X)\n",
    "y = pd.DataFrame(Y)\n",
    "\n",
    "# Note the difference in argument order\n",
    "model = sm.OLS(y, x).fit()\n",
    "predictions = model.predict(x) # make the predictions by the model\n",
    "\n",
    "# Print out the statistics\n",
    "print \"summary:\", model.summary()\n",
    "\n"
   ]
  },
  {
   "cell_type": "code",
   "execution_count": 186,
   "metadata": {
    "collapsed": false
   },
   "outputs": [
    {
     "name": "stdout",
     "output_type": "stream",
     "text": [
      "r-squared value: 0.344120277936\n",
      "[61, 64, 67, 69]\n",
      "mystery chord is C4_61_64_67_69.wav\n",
      "degree of significance, alpha is: 0.05\n"
     ]
    }
   ],
   "source": [
    "print \"r-squared value:\", model.rsquared\n",
    "\n",
    "involved_notes = []\n",
    "for i in range(len(model.pvalues)):\n",
    "    if model.pvalues[i] < alpha:\n",
    "        involved_notes.append(i+60)\n",
    "                      \n",
    "print involved_notes\n",
    "print \"mystery chord is\", filename\n",
    "print \"degree of significance, alpha is:\", alpha"
   ]
  },
  {
   "cell_type": "code",
   "execution_count": null,
   "metadata": {
    "collapsed": true
   },
   "outputs": [],
   "source": []
  },
  {
   "cell_type": "code",
   "execution_count": 161,
   "metadata": {
    "collapsed": true
   },
   "outputs": [],
   "source": [
    "## Legacy code. Not using this function anymore. Good for reference\n",
    "## Taken from https://www.programcreek.com/python/example/98226/librosa.cqt\n",
    "## Minor edits to the taken one due to version errors and fitting in with our code\n",
    "\n",
    "def feature_extract(songfile_name):\n",
    "    '''\n",
    "    takes: filename\n",
    "    outputs: audio feature representation from that file (currently cqt)\n",
    "    **assumes working directory contains raw song files**\n",
    "    returns a tuple containing songfile name and numpy array of song features\n",
    "    '''\n",
    "    song_loc = os.path.abspath(songfile_name)\n",
    "    y, sr = librosa.load(song_loc)\n",
    "    print \"y\", len(y)\n",
    "    desire_spect_len = 2048\n",
    "    C = librosa.cqt(y=y[20000:24096], sr=sr, hop_length=4096, fmin=note_to_hz('C4'),\n",
    "                    n_bins=12, bins_per_octave=12, tuning=None,\n",
    "                    filter_scale=1, norm=1, sparsity=0.01)\n",
    "    print len(C),C\n",
    "    # get log-power spectrogram with noise floor of -80dB\n",
    "    C = librosa.amplitude_to_db(C[0]**2, ref = np.max)\n",
    "    # scale log-power spectrogram to positive integer value for smaller footpint\n",
    "    noise_floor_db = 80\n",
    "    scaling_factor = (2**16 - 1)/noise_floor_db\n",
    "    C += noise_floor_db\n",
    "    C *= scaling_factor\n",
    "    C = C.astype('uint16')\n",
    "    # if spectral respresentation too long, crop it, otherwise, zero-pad\n",
    "    #if C.shape[1] >= desire_spect_len:\n",
    "    #    C = C[:,0:desire_spect_len]\n",
    "    #else:\n",
    "    #    C = np.pad(C,((0,0),(0,desire_spect_len-C.shape[1])), 'constant')\n",
    "    return C "
   ]
  }
 ],
 "metadata": {
  "kernelspec": {
   "display_name": "Python 2",
   "language": "python",
   "name": "python2"
  },
  "language_info": {
   "codemirror_mode": {
    "name": "ipython",
    "version": 2
   },
   "file_extension": ".py",
   "mimetype": "text/x-python",
   "name": "python",
   "nbconvert_exporter": "python",
   "pygments_lexer": "ipython2",
   "version": "2.7.13"
  }
 },
 "nbformat": 4,
 "nbformat_minor": 2
}
