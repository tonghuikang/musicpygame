{
 "cells": [
  {
   "cell_type": "markdown",
   "metadata": {},
   "source": [
    "To generate scores in csv form, which is made up of an array of note number and time of onset."
   ]
  },
  {
   "cell_type": "code",
   "execution_count": 3,
   "metadata": {},
   "outputs": [],
   "source": [
    "import numpy as np\n",
    "import random\n",
    "\n",
    "\n",
    "csv_string = \"\"\n",
    "for _ in range(5): # change this number to generate many many files\n",
    "    csv_row = ''.join(random.choice('0123456789ABCDEF') for i in range(16))\n",
    "    \n",
    "    t = 0\n",
    "    while t < 20:\n",
    "        t += 0.3 + np.random.uniform(0.2)\n",
    "        \n",
    "        notes_played =[]\n",
    "        \n",
    "        if np.random.uniform() > 0.2:\n",
    "            new_note = np.random.randint(24)\n",
    "            if new_note not in notes_played:\n",
    "                notes_played.append(new_note)\n",
    "                \n",
    "        if np.random.uniform() > 0.2:\n",
    "            new_note = np.random.randint(24)\n",
    "            if new_note not in notes_played:\n",
    "                notes_played.append(new_note)\n",
    "            \n",
    "        if np.random.uniform() > 0.2:\n",
    "            new_note = np.random.randint(24)\n",
    "            if new_note not in notes_played:\n",
    "                notes_played.append(new_note)\n",
    "        \n",
    "        if np.random.uniform() > 0.2 or (t > 18 and t < 20):\n",
    "            new_note = np.random.randint(24)\n",
    "            if new_note not in notes_played:\n",
    "                notes_played.append(new_note)\n",
    "        \n",
    "            \n",
    "        for x in notes_played:\n",
    "            csv_row += ','\n",
    "            csv_row += str(np.round(t,3))\n",
    "\n",
    "            csv_row += ','\n",
    "            csv_row += str(x)\n",
    "\n",
    "    csv_string += csv_row\n",
    "    csv_string += '\\n'\n",
    "\n",
    "# print(csv_string)\n",
    "\n",
    "with open(\"notes.csv\", \"w\") as f:\n",
    "    f.write(csv_string[:-1])\n",
    "    "
   ]
  },
  {
   "cell_type": "code",
   "execution_count": 2,
   "metadata": {},
   "outputs": [],
   "source": [
    "# save as csv"
   ]
  },
  {
   "cell_type": "code",
   "execution_count": null,
   "metadata": {},
   "outputs": [],
   "source": []
  }
 ],
 "metadata": {
  "kernelspec": {
   "display_name": "Python 3",
   "language": "python",
   "name": "python3"
  },
  "language_info": {
   "codemirror_mode": {
    "name": "ipython",
    "version": 3
   },
   "file_extension": ".py",
   "mimetype": "text/x-python",
   "name": "python",
   "nbconvert_exporter": "python",
   "pygments_lexer": "ipython3",
   "version": "3.5.2"
  }
 },
 "nbformat": 4,
 "nbformat_minor": 2
}
