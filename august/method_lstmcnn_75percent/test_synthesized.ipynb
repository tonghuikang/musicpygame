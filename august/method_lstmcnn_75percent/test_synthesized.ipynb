{
 "cells": [
  {
   "cell_type": "code",
   "execution_count": 1,
   "metadata": {},
   "outputs": [
    {
     "name": "stderr",
     "output_type": "stream",
     "text": [
      "Using TensorFlow backend.\n",
      "model.ipynb:6: UserWarning: Update your `MaxPooling2D` call to the Keras 2 API: `MaxPooling2D(2, 2, padding=\"same\")`\n",
      "  \"metadata\": {},\n",
      "model.ipynb:9: UserWarning: Update your `MaxPooling2D` call to the Keras 2 API: `MaxPooling2D(2, 2, padding=\"same\")`\n",
      "  \"import pandas as pd\\n\",\n"
     ]
    },
    {
     "name": "stdout",
     "output_type": "stream",
     "text": [
      "[[0. 0. 0. 0. 0. 0. 0. 0. 0. 0. 0. 0. 0. 0. 0. 0. 0. 0. 0. 0. 0. 0. 0. 0.]]\n"
     ]
    }
   ],
   "source": [
    "%run model.ipynb"
   ]
  },
  {
   "cell_type": "code",
   "execution_count": 2,
   "metadata": {
    "collapsed": true
   },
   "outputs": [],
   "source": [
    "import sys\n",
    "sys.path.append('../preparations/')"
   ]
  },
  {
   "cell_type": "code",
   "execution_count": 3,
   "metadata": {
    "collapsed": true
   },
   "outputs": [],
   "source": [
    "import x01_generate_notes\n",
    "import x02_generate_midi\n",
    "import x03_generate_wav\n",
    "import x04_generate_wav_processed\n",
    "import x05_generate_spectrogram\n",
    "import x06_generate_label"
   ]
  },
  {
   "cell_type": "code",
   "execution_count": 4,
   "metadata": {},
   "outputs": [
    {
     "name": "stdout",
     "output_type": "stream",
     "text": [
      "mkdir: cannot create directory ‘notes’: File exists\n",
      "mkdir: cannot create directory ‘midi’: File exists\n",
      "mkdir: cannot create directory ‘wav’: File exists\n",
      "mkdir: cannot create directory ‘wav_processed’: File exists\n",
      "mkdir: cannot create directory ‘spectrogram’: File exists\n",
      "mkdir: cannot create directory ‘label’: File exists\n",
      "rm: cannot remove './notes/*': No such file or directory\n",
      "rm: cannot remove './midi/*': No such file or directory\n",
      "rm: cannot remove './wav/*': No such file or directory\n",
      "rm: cannot remove './wav_processed/*': No such file or directory\n",
      "rm: cannot remove './label/*': No such file or directory\n"
     ]
    }
   ],
   "source": [
    "!mkdir notes\n",
    "!mkdir midi\n",
    "!mkdir wav\n",
    "!mkdir wav_processed\n",
    "!mkdir spectrogram\n",
    "!mkdir label\n",
    "!rm ./notes/*\n",
    "!rm ./midi/*\n",
    "!rm ./wav/*\n",
    "!rm ./wav_processed/*\n",
    "!rm ./spectrogram/*\n",
    "!rm ./label/*"
   ]
  },
  {
   "cell_type": "code",
   "execution_count": 5,
   "metadata": {
    "collapsed": true
   },
   "outputs": [],
   "source": [
    "import numpy as np\n",
    "import random\n",
    "\n",
    "def generate_note_file():\n",
    "    sound_id = ''.join(random.choice('0123456789ABCDEF') for i in range(16))\n",
    "    \n",
    "    t = 0\n",
    "    note_time_array = []\n",
    "    \n",
    "    while t < 20:\n",
    "        t += 1.0 + np.random.uniform(1.0)\n",
    "        \n",
    "        notes_in_this_chord = []\n",
    "        \n",
    "        if np.random.uniform() > 0.2:\n",
    "            new_note = np.random.randint(24)\n",
    "            if new_note not in notes_in_this_chord:\n",
    "                note_time_array.append([t, new_note])\n",
    "                notes_in_this_chord.append(new_note)\n",
    "                \n",
    "        if np.random.uniform() > 0.2:\n",
    "            new_note = np.random.randint(24)\n",
    "            if new_note not in notes_in_this_chord:\n",
    "                note_time_array.append([t, new_note])\n",
    "                notes_in_this_chord.append(new_note)\n",
    "            \n",
    "        if np.random.uniform() > 0.2:\n",
    "            new_note = np.random.randint(24)\n",
    "            if new_note not in notes_in_this_chord:\n",
    "                note_time_array.append([t, new_note])\n",
    "                notes_in_this_chord.append(new_note)\n",
    "        \n",
    "        if np.random.uniform() > 0.2 or (t > 18 and t < 20):\n",
    "            new_note = np.random.randint(24)\n",
    "            if new_note not in notes_in_this_chord:\n",
    "                note_time_array.append([t, new_note])\n",
    "                notes_in_this_chord.append(new_note)\n",
    "                \n",
    "#     print(note_time_array)\n",
    "    np.save(\"./notes/\" + sound_id, note_time_array)"
   ]
  },
  {
   "cell_type": "code",
   "execution_count": 6,
   "metadata": {
    "collapsed": true
   },
   "outputs": [],
   "source": [
    "generate_note_file()"
   ]
  },
  {
   "cell_type": "code",
   "execution_count": 7,
   "metadata": {},
   "outputs": [
    {
     "name": "stdout",
     "output_type": "stream",
     "text": [
      "1\n"
     ]
    }
   ],
   "source": [
    "import glob\n",
    "\n",
    "notes = glob.glob(\"./notes/*.npy\")\n",
    "print(len(notes))\n",
    "\n",
    "for filename in notes:\n",
    "    sound_id = filename[-20:-4]\n",
    "    time_note_array = np.load(filename)\n",
    "    time_array, note_array = np.transpose(time_note_array)\n",
    "    x02_generate_midi.generate_midi_file(sound_id, time_array, np.array(note_array, dtype=int))"
   ]
  },
  {
   "cell_type": "code",
   "execution_count": 8,
   "metadata": {},
   "outputs": [
    {
     "name": "stdout",
     "output_type": "stream",
     "text": [
      "1\n"
     ]
    }
   ],
   "source": [
    "import glob\n",
    "\n",
    "notes = glob.glob(\"./midi/*\")\n",
    "print(len(notes))\n",
    "for filename in notes:\n",
    "    x03_generate_wav.convert_midi_to_signal(filename)"
   ]
  },
  {
   "cell_type": "code",
   "execution_count": 14,
   "metadata": {
    "scrolled": true
   },
   "outputs": [
    {
     "name": "stdout",
     "output_type": "stream",
     "text": [
      "1\n"
     ]
    }
   ],
   "source": [
    "files = glob.glob('./wav/*')\n",
    "save_location = './wav_processed/'\n",
    "print(len(files))\n",
    "for filename in files:\n",
    "    x04_generate_wav_processed.process_wav(filename, save_location)"
   ]
  },
  {
   "cell_type": "code",
   "execution_count": 15,
   "metadata": {},
   "outputs": [
    {
     "name": "stdout",
     "output_type": "stream",
     "text": [
      "1\n"
     ]
    }
   ],
   "source": [
    "import glob\n",
    "files = glob.glob('./wav_processed/*')\n",
    "print(len(files))\n",
    "for filename in files:\n",
    "    x05_generate_spectrogram.generate_spectrogram(filename)"
   ]
  },
  {
   "cell_type": "code",
   "execution_count": 16,
   "metadata": {
    "collapsed": true
   },
   "outputs": [],
   "source": [
    "# import glob\n",
    "# files = glob.glob('../*.wav')\n",
    "# print(len(files))\n",
    "# for filename in files:\n",
    "#     x05_generate_spectrogram.generate_spectrogram(filename)"
   ]
  },
  {
   "cell_type": "code",
   "execution_count": 17,
   "metadata": {
    "collapsed": true
   },
   "outputs": [],
   "source": [
    "import soundfile as sf\n",
    "import sounddevice as sd\n",
    "\n",
    "audio, sr = sf.read(files[0])\n",
    "\n",
    "sd.play(audio, samplerate=sr)"
   ]
  },
  {
   "cell_type": "code",
   "execution_count": 18,
   "metadata": {},
   "outputs": [
    {
     "name": "stdout",
     "output_type": "stream",
     "text": [
      "1\n"
     ]
    }
   ],
   "source": [
    "import glob\n",
    "\n",
    "notes = glob.glob(\"./notes/*.npy\")\n",
    "print(len(notes))\n",
    "\n",
    "for filename in notes:\n",
    "#     sound_id = filename[-20:-4]\n",
    "#     time_note_array = np.load(filename)\n",
    "#     time_array, note_array = np.transpose(time_note_array)\n",
    "    x06_generate_label.generate_label(filename)"
   ]
  },
  {
   "cell_type": "code",
   "execution_count": 19,
   "metadata": {},
   "outputs": [
    {
     "name": "stdout",
     "output_type": "stream",
     "text": [
      "31D386862A849137.npy\n",
      "31D386862A849137.mid\n",
      "31D386862A849137.wav\n",
      "31D386862A849137.wav\n",
      "31D386862A849137.npy\n",
      "31D386862A849137.npy\n"
     ]
    }
   ],
   "source": [
    "!ls ./notes/\n",
    "!ls ./midi/\n",
    "!ls ./wav/\n",
    "!ls ./wav_processed/\n",
    "!ls ./spectrogram/\n",
    "!ls ./label/"
   ]
  },
  {
   "cell_type": "code",
   "execution_count": 20,
   "metadata": {
    "collapsed": true
   },
   "outputs": [],
   "source": [
    "import glob\n",
    "import matplotlib.pyplot as plt\n",
    "\n",
    "glob_label = glob.glob('./label/*')\n",
    "glob_spectrogram = glob.glob('./spectrogram/*')\n",
    "glob_notes = glob.glob('./notes/*.npy')"
   ]
  },
  {
   "cell_type": "code",
   "execution_count": 21,
   "metadata": {},
   "outputs": [
    {
     "name": "stdout",
     "output_type": "stream",
     "text": [
      "./notes/31D386862A849137.npy ./label/31D386862A849137.npy ./spectrogram/31D386862A849137.npy\n",
      "(30, 2)\n"
     ]
    },
    {
     "data": {
      "image/png": "[encoded data removed]",
      "text/plain": [
       "<Figure size 1080x216 with 1 Axes>"
      ]
     },
     "metadata": {},
     "output_type": "display_data"
    },
    {
     "name": "stdout",
     "output_type": "stream",
     "text": [
      "(140, 24)\n"
     ]
    },
    {
     "data": {
      "image/png": "[encoded data removed]",
      "text/plain": [
       "<Figure size 1080x216 with 1 Axes>"
      ]
     },
     "metadata": {},
     "output_type": "display_data"
    }
   ],
   "source": [
    "for notes_, label_, spectrogram_ in zip(glob_notes, glob_label, glob_spectrogram):\n",
    "    print(notes_, label_, spectrogram_)\n",
    "    \n",
    "    notes = np.load(notes_)\n",
    "    label = np.load(label_)\n",
    "    spectrogram = np.load(spectrogram_)\n",
    "    \n",
    "    \n",
    "    print(np.shape(notes))\n",
    "    plt.figure(figsize=(15,3))\n",
    "    plt.scatter(notes[:,0],notes[:,1])\n",
    "    plt.show()\n",
    "    \n",
    "    \n",
    "    print(np.shape(label))\n",
    "    plt.figure(figsize=(15,3))\n",
    "    for i,time_slice in enumerate(label):\n",
    "        for j,note in enumerate(time_slice):\n",
    "            if note != 0:\n",
    "                plt.scatter(i,j)\n",
    "    plt.show()\n",
    "    "
   ]
  },
  {
   "cell_type": "code",
   "execution_count": 22,
   "metadata": {},
   "outputs": [
    {
     "name": "stdout",
     "output_type": "stream",
     "text": [
      "(108, 4221)\n",
      "(108, 4221)\n",
      "(108, 1, 108, 153)\n",
      "(153, 1, 108, 108)\n",
      "(1, 108, 108)\n"
     ]
    },
    {
     "data": {
      "image/png": "[encoded data removed]",
      "text/plain": [
       "<Figure size 432x288 with 2 Axes>"
      ]
     },
     "metadata": {},
     "output_type": "display_data"
    }
   ],
   "source": [
    "for notes_, label_, spectrogram_ in zip(glob_notes, glob_label, glob_spectrogram):\n",
    "    print(np.shape(spectrogram))\n",
    "    print(np.shape(spectrogram[:,:]))\n",
    "    cnn_inputs = np.array(list(zip([spectrogram[:,i:-108+i:27] for i in range(108)])))\n",
    "    print(np.shape(cnn_inputs))\n",
    "    cnn_inputs = np.swapaxes(cnn_inputs,0,3)\n",
    "    print(np.shape(cnn_inputs))\n",
    "    cnn_inputs = [cnn_input for cnn_input in cnn_inputs]\n",
    "    print(np.shape(cnn_inputs[1]))\n",
    "    plt.imshow(cnn_inputs[7][0,:,:])\n",
    "    plt.colorbar()\n",
    "    plt.show()\n",
    "    "
   ]
  },
  {
   "cell_type": "code",
   "execution_count": 23,
   "metadata": {
    "scrolled": false
   },
   "outputs": [
    {
     "name": "stdout",
     "output_type": "stream",
     "text": [
      "(140, 24)\n",
      "(20, 24)\n",
      "(160, 24)\n",
      "(140, 1, 20, 24)\n"
     ]
    },
    {
     "data": {
      "image/png": "[encoded data removed]",
      "text/plain": [
       "<Figure size 1080x216 with 1 Axes>"
      ]
     },
     "metadata": {},
     "output_type": "display_data"
    }
   ],
   "source": [
    "for notes_, label_, spectrogram_ in zip(glob_notes, glob_label, glob_spectrogram):\n",
    "    print(np.shape(label))\n",
    "    print(np.shape(np.zeros((20,24))))\n",
    "    lstm_label = np.append(np.zeros((20,24)),label,axis=0)\n",
    "    print(np.shape(lstm_label))\n",
    "    \n",
    "    lstm_inputs = np.array(list(zip([lstm_label[i:-20+i] for i in range(20)])))\n",
    "    lstm_inputs = np.swapaxes(lstm_inputs,0,2)\n",
    "    print(np.shape(lstm_inputs))\n",
    "    \n",
    "    plt.figure(figsize=(15,3))\n",
    "    ground_truth = []\n",
    "    for i,lstm_input in enumerate(lstm_inputs):\n",
    "        for time_slice in lstm_input[:,-1,:]:\n",
    "            for j,note in enumerate(time_slice):\n",
    "#                 print(note)\n",
    "                if note != 0:\n",
    "                    ground_truth.append((i,j))\n",
    "    \n",
    "    ground_truth = np.transpose(ground_truth)\n",
    "    plt.scatter(ground_truth[:][0],ground_truth[:][1])\n",
    "plt.show()"
   ]
  },
  {
   "cell_type": "code",
   "execution_count": 24,
   "metadata": {
    "scrolled": false
   },
   "outputs": [
    {
     "data": {
      "image/png": "[encoded data removed]",
      "text/plain": [
       "<Figure size 1080x216 with 1 Axes>"
      ]
     },
     "metadata": {},
     "output_type": "display_data"
    }
   ],
   "source": [
    "plt.figure(figsize=(15,3))\n",
    "lstm_memory = np.zeros((1,20,24))\n",
    "predicted_score = []\n",
    "\n",
    "for i,(cnn_input, lstm_input) in enumerate(list(zip(cnn_inputs, lstm_inputs))):\n",
    "    \n",
    "#     print(np.shape(cnn_input))\n",
    "#     print(np.shape(lstm_input))\n",
    "#     give_prediction(classifier, np.zeros((1,20,24)), np.zeros((1,108,108,1)))\n",
    "#     print(lstm_input[-1,-1])\n",
    "#     print(result)\n",
    "    result = give_prediction(classifier, lstm_memory, cnn_input.reshape((1,108,108,1)))\n",
    "    lstm_memory[0,:-1] = np.copy(lstm_memory[0,1:])\n",
    "    lstm_memory[0,-1] = np.copy(result)\n",
    "    for j, note in enumerate(result[0]):\n",
    "        if note != 0:\n",
    "            predicted_score.append([i,j])\n",
    "\n",
    "predicted_score = np.transpose(predicted_score)\n",
    "plt.scatter(predicted_score[0], predicted_score[1], marker='o')            \n",
    "plt.scatter(ground_truth[0], ground_truth[1], marker='x')\n",
    "plt.show()"
   ]
  },
  {
   "cell_type": "code",
   "execution_count": null,
   "metadata": {
    "collapsed": true
   },
   "outputs": [],
   "source": []
  },
  {
   "cell_type": "code",
   "execution_count": null,
   "metadata": {
    "collapsed": true
   },
   "outputs": [],
   "source": []
  },
  {
   "cell_type": "code",
   "execution_count": null,
   "metadata": {
    "collapsed": true
   },
   "outputs": [],
   "source": []
  }
 ],
 "metadata": {
  "kernelspec": {
   "display_name": "Python [conda env:mir]",
   "language": "python",
   "name": "conda-env-mir-py"
  },
  "language_info": {
   "codemirror_mode": {
    "name": "ipython",
    "version": 3
   },
   "file_extension": ".py",
   "mimetype": "text/x-python",
   "name": "python",
   "nbconvert_exporter": "python",
   "pygments_lexer": "ipython3",
   "version": "3.6.2"
  }
 },
 "nbformat": 4,
 "nbformat_minor": 2
}
