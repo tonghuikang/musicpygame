{
 "cells": [
  {
   "cell_type": "markdown",
   "metadata": {},
   "source": [
    "Given the soundfiles in `./wav_processed/` make spectrograms and save in `./spectrogram/`"
   ]
  },
  {
   "cell_type": "code",
   "execution_count": 1,
   "metadata": {},
   "outputs": [],
   "source": [
    "import numpy as np\n",
    "import soundfile as sf\n",
    "import librosa\n",
    "import matplotlib.pyplot as plt"
   ]
  },
  {
   "cell_type": "code",
   "execution_count": 4,
   "metadata": {},
   "outputs": [],
   "source": [
    "# save as spectrogram\n",
    "\n",
    "def save_array(filename):\n",
    "    audio,sr = sf.read(filename)\n",
    "    if type(audio[0]) != float or type(audio[0]) != int: \n",
    "        # if stereo (expected)\n",
    "        signal = audio[:,0]  \n",
    "    else:    \n",
    "        # if mono (but I have yet to try this out)\n",
    "        signal = audio[:]\n",
    "    assert (signal[0] != float or signal[0] != int)\n",
    "    \n",
    "    \n",
    "    signal = signal[:44100*10]\n",
    "    signal += 0.0001*np.random.randn(len(signal))  # Gaussian\n",
    "    signal += np.cumsum(0.0005*np.random.randn(len(signal)))  # Brownian\n",
    "    fmin = librosa.core.note_to_hz(\"B3\")\n",
    "    cqt_array = librosa.cqt(signal, \n",
    "                            sr=44100, \n",
    "                            hop_length=2**7, \n",
    "                            bins_per_octave=36, \n",
    "                            fmin=fmin, \n",
    "                            n_bins=108)\n",
    "    CQT = librosa.magphase(cqt_array)[0]\n",
    "    assert np.shape(CQT) == (108,3446)\n",
    "    \n",
    "#     plt.figure(figsize=(15,4))\n",
    "#     plt.imshow(CQT, cmap=\"YlOrBr\")\n",
    "#     plt.show()\n",
    "    \n",
    "    np.save(\"./spectrogram/\" + filename[-20:-4], CQT)"
   ]
  },
  {
   "cell_type": "code",
   "execution_count": 5,
   "metadata": {},
   "outputs": [
    {
     "name": "stdout",
     "output_type": "stream",
     "text": [
      "5\n"
     ]
    }
   ],
   "source": [
    "import glob\n",
    "files = glob.glob('./wav_processed/*')\n",
    "print(len(files))\n",
    "for filename in files:\n",
    "    save_array(filename)"
   ]
  },
  {
   "cell_type": "code",
   "execution_count": null,
   "metadata": {},
   "outputs": [],
   "source": []
  },
  {
   "cell_type": "code",
   "execution_count": null,
   "metadata": {},
   "outputs": [],
   "source": []
  }
 ],
 "metadata": {
  "kernelspec": {
   "display_name": "Python 3",
   "language": "python",
   "name": "python3"
  },
  "language_info": {
   "codemirror_mode": {
    "name": "ipython",
    "version": 3
   },
   "file_extension": ".py",
   "mimetype": "text/x-python",
   "name": "python",
   "nbconvert_exporter": "python",
   "pygments_lexer": "ipython3",
   "version": "3.5.2"
  }
 },
 "nbformat": 4,
 "nbformat_minor": 2
}
