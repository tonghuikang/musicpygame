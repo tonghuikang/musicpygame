{
 "cells": [
  {
   "cell_type": "code",
   "execution_count": 2,
   "metadata": {},
   "outputs": [],
   "source": [
    "#This file reads the note_csv, spectrums. Generate and save the numpy arrays which are inputs to the model"
   ]
  },
  {
   "cell_type": "code",
   "execution_count": 3,
   "metadata": {},
   "outputs": [],
   "source": [
    "import numpy as np\n",
    "import glob"
   ]
  },
  {
   "cell_type": "code",
   "execution_count": 4,
   "metadata": {},
   "outputs": [],
   "source": [
    "spectrums = 'E:/notes_database/spectrograms_1/'\n",
    "files = glob.glob('E:/notes_database/index/*')"
   ]
  },
  {
   "cell_type": "code",
   "execution_count": 5,
   "metadata": {},
   "outputs": [],
   "source": [
    "def parse_row(csv_row):  # same as generate_database.ipynb\n",
    "\n",
    "    csv_row_array = csv_row.split(\",\")\n",
    "\n",
    "    filename = csv_row_array[0]\n",
    "    time_array = [float(t) for t in csv_row_array[1::2]]\n",
    "    note_array = [int(x) for x in csv_row_array[2::2]]\n",
    "\n",
    "    assert len(time_array) == len(note_array)\n",
    "\n",
    "#     print(time_array)\n",
    "#     print(note_array)\n",
    "\n",
    "    return filename, time_array, note_array"
   ]
  },
  {
   "cell_type": "code",
   "execution_count": 6,
   "metadata": {},
   "outputs": [],
   "source": [
    "def parse_csv(csv_file): # Convert the csv files into numpy arrays\n",
    "    \n",
    "    with open(csv_file, 'r') as csvfile:\n",
    "        csv_rows = csvfile.read().split(\"\\n\")\n",
    "\n",
    "    filenames = []\n",
    "    time_arrays = []\n",
    "    note_arrays = []\n",
    "    \n",
    "    for csv_row in csv_rows:\n",
    "        filename, time_array, note_array = parse_row(csv_row)\n",
    "        \n",
    "        filenames.append(filename)\n",
    "        time_arrays.append(time_array)\n",
    "        note_arrays.append(note_array)\n",
    "    \n",
    "    return filenames,time_arrays,note_arrays"
   ]
  },
  {
   "cell_type": "code",
   "execution_count": 7,
   "metadata": {},
   "outputs": [],
   "source": [
    "def prepare_inputs(csv_name):\n",
    "    # the time for a unit width of spectrum is about 0.003 second\n",
    "    # however a unit in time_array is 0.5 second, so to calculate the unit numbers, should divide the time_number by 0.006\n",
    "    filenames,time,note = parse_csv(csv_name)\n",
    "    one_row = np.zeros(24)\n",
    "    lstm_all_inputs = []\n",
    "    cnn_all_inputs = []\n",
    "    y_all_train = []\n",
    "    for file in range(len(filenames)):\n",
    "        previous_time = [time[file][0]]\n",
    "        spectrum = np.load(spectrums+filenames[file]+'.npy')\n",
    "        y_train = []\n",
    "        # load the spectrum numpy array from 20 units before the timing(onset) to 88 units after the timing\n",
    "        for i in range(len(time[file])):\n",
    "            flag = 0\n",
    "            if time[file][i] == previous_time[-1]:\n",
    "                one_row[note[file][i]] = 1\n",
    "            else:\n",
    "                #append lstm input\n",
    "                lstm_input = np.zeros((5,24))\n",
    "                for num in range(len(previous_time)):\n",
    "                    # 5(steps) * 81(4/5 108 units, overlapped by 1/5) * 0.006 = 2.43\n",
    "                    if previous_time[-1] - previous_time[num] < 2.43:\n",
    "                        checkpoint = num\n",
    "                        break\n",
    "                        \n",
    "                start_time = previous_time[-1] - (81*5 + 20)*0.006\n",
    "                if start_time < 0:\n",
    "                    start_time = 0\n",
    "                \n",
    "                for num in range(checkpoint, len(y_train)):\n",
    "                    position = int(((previous_time[num]-start_time)//0.006)//81) \n",
    "                    lstm_input[position] = y_train[num]\n",
    "                lstm_all_inputs.append(lstm_input)\n",
    "                \n",
    "                #append y_train\n",
    "                y_train.append(one_row)\n",
    "                y_all_train.append(one_row)\n",
    "                \n",
    "                #append cnn input\n",
    "                cnn_input = spectrum[:, int(previous_time[-1]//0.006-20):int(previous_time[-1]//0.006+88)]\n",
    "                cnn_all_inputs.append(cnn_input)\n",
    "                \n",
    "                one_row = np.zeros(24)\n",
    "                one_row[note[file][i]] = 1\n",
    "                previous_time.append(time[file][i])\n",
    "                \n",
    "        #check if the last cnn_input has right shape\n",
    "        if cnn_all_inputs[-1].shape != (108, 108):\n",
    "            cnn_all_inputs = cnn_all_inputs[:-1]\n",
    "            lstm_all_inputs = lstm_all_inputs[:-1]\n",
    "            y_all_train = y_all_train[:-1]\n",
    "            \n",
    "    lstm_all_inputs = np.array(lstm_all_inputs)\n",
    "    cnn_all_inputs = np.array(cnn_all_inputs).reshape(len(cnn_all_inputs), 108, 108, 1)\n",
    "    y_all_train = np.array(y_all_train)\n",
    "    return lstm_all_inputs, cnn_all_inputs, y_all_train"
   ]
  },
  {
   "cell_type": "code",
   "execution_count": 8,
   "metadata": {},
   "outputs": [],
   "source": [
    "save = 'E:/notes_database/'"
   ]
  },
  {
   "cell_type": "code",
   "execution_count": 9,
   "metadata": {},
   "outputs": [],
   "source": [
    "count = 0\n",
    "number = 0\n",
    "lstm_save, cnn_save, y_train_save = prepare_inputs(files[0])\n",
    "for i in range(len(files))[1:]:\n",
    "    if number < 5:\n",
    "        lstm, cnn, y_train = prepare_inputs(files[i])\n",
    "        lstm_save = np.append(lstm_save, lstm, axis=0)\n",
    "        cnn_save = np.append(cnn_save, cnn, axis=0)\n",
    "        y_train_save = np.append(y_train_save, y_train, axis=0)\n",
    "        number += 1\n",
    "    elif number >= 5:\n",
    "        np.save(save+'lstm_inputs_1/{}.npy'.format(count), lstm_save.astype(np.float16))\n",
    "        np.save(save+'cnn_inputs_1/{}.npy'.format(count), cnn_save.astype(np.float16))\n",
    "        np.save(save+'y_train_1/{}.npy'.format(count), y_train_save.astype(np.float16))\n",
    "        count += 1\n",
    "        number = 1\n",
    "        lstm_save, cnn_save, y_train_save = prepare_inputs(files[i])\n",
    "        \n",
    "np.save(save+'lstm_inputs_1/{}.npy'.format(count), lstm_save.astype(np.float16))\n",
    "np.save(save+'cnn_inputs_1/{}.npy'.format(count), cnn_save.astype(np.float16))\n",
    "np.save(save+'y_train_1/{}.npy'.format(count), y_train_save.astype(np.float16))"
   ]
  },
  {
   "cell_type": "code",
   "execution_count": 10,
   "metadata": {},
   "outputs": [],
   "source": [
    "spectrums = 'E:/notes_database/spectrograms_2/'"
   ]
  },
  {
   "cell_type": "code",
   "execution_count": 11,
   "metadata": {},
   "outputs": [],
   "source": [
    "count = 0\n",
    "number = 0\n",
    "lstm_save, cnn_save, y_train_save = prepare_inputs(files[0])\n",
    "for i in range(len(files))[1:]:\n",
    "    if number < 5:\n",
    "        lstm, cnn, y_train = prepare_inputs(files[i])\n",
    "        lstm_save = np.append(lstm_save, lstm, axis=0)\n",
    "        cnn_save = np.append(cnn_save, cnn, axis=0)\n",
    "        y_train_save = np.append(y_train_save, y_train, axis=0)\n",
    "        number += 1\n",
    "    elif number >= 5:\n",
    "        np.save(save+'lstm_inputs_2/{}.npy'.format(count), lstm_save.astype(np.float16))\n",
    "        np.save(save+'cnn_inputs_2/{}.npy'.format(count), cnn_save.astype(np.float16))\n",
    "        np.save(save+'y_train_2/{}.npy'.format(count), y_train_save.astype(np.float16))\n",
    "        count += 1\n",
    "        number = 1\n",
    "        lstm_save, cnn_save, y_train_save = prepare_inputs(files[i])\n",
    "        \n",
    "np.save(save+'lstm_inputs_2/{}.npy'.format(count), lstm_save.astype(np.float16))\n",
    "np.save(save+'cnn_inputs_2/{}.npy'.format(count), cnn_save.astype(np.float16))\n",
    "np.save(save+'y_train_2/{}.npy'.format(count), y_train_save.astype(np.float16))"
   ]
  }
 ],
 "metadata": {
  "kernelspec": {
   "display_name": "Python 3",
   "language": "python",
   "name": "python3"
  },
  "language_info": {
   "codemirror_mode": {
    "name": "ipython",
    "version": 3
   },
   "file_extension": ".py",
   "mimetype": "text/x-python",
   "name": "python",
   "nbconvert_exporter": "python",
   "pygments_lexer": "ipython3",
   "version": "3.5.2"
  }
 },
 "nbformat": 4,
 "nbformat_minor": 2
}
