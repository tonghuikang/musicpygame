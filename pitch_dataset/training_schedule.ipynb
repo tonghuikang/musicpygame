{
 "cells": [
  {
   "cell_type": "markdown",
   "metadata": {},
   "source": [
    "Hui-Kang Tong admin, [2 Apr 2018 at 19:31:29]:\n",
    "ok we can now automatically generate midi files, convert midi files to wave files (with hk’s mac)\n",
    "\n",
    "However to create training data, we need many data (audio samples) with the same target/label (note). So these are a few ways to vary it:\n",
    "- note velocity\n",
    "- note volume\n",
    "- noise\n",
    "- onset timing (one slightly later than the other)\n",
    "- soundfont (which mean instrument)\n",
    "\n",
    "So I will write a notebook which\n",
    "- leave a space for the function to create .mid file with note\n",
    "- use fluidsynth to convert this .mid file .wav\n",
    "- call this .mid file, identify onset with our onset function, and splice 4096 entries from it\n",
    "- leave a space for the training function\n",
    "- delete the .mid file and .wav file\n",
    "- repeat\n",
    "\n",
    "What needs to be considered/written\n",
    "what kind of model are we using, how do we train such a model, what sort of instructions does the .mid files have"
   ]
  },
  {
   "cell_type": "code",
   "execution_count": 5,
   "metadata": {},
   "outputs": [],
   "source": [
    "from midiutil.MidiFile import MIDIFile\n",
    "from itertools import combinations\n",
    "import os\n",
    "import subprocess\n",
    "from time import sleep\n",
    "\n",
    "scales = range(4,5) #C1 to C4\n",
    "no_of_notes = range(2, 5) #2 notes to 4 notes\n",
    "\n",
    "channel = 0\n",
    "time = 0\n",
    "duration = 2\n",
    "tempo = 100\n",
    "volume = 100"
   ]
  },
  {
   "cell_type": "code",
   "execution_count": 6,
   "metadata": {},
   "outputs": [],
   "source": [
    "from midiutil.MidiFile import MIDIFile\n",
    "from itertools import combinations\n",
    "import os\n",
    "import subprocess\n",
    "\n",
    "def generate_and_train(no_,track,com,channel=0):\n",
    "# for each cycle\n",
    "\n",
    "    # generate and save midifile\n",
    "    mf = MIDIFile(no_)\n",
    "\n",
    "    for num in range(no_):\n",
    "        mf.addNote(track[num], channel, com[num], time, duration, volume)\n",
    "\n",
    "    code = []\n",
    "    for num in com:\n",
    "        code.append(num)\n",
    "    while len(code) < 4:\n",
    "        code.append(\"x\")\n",
    "\n",
    "    filename = \"C{}_{}_{}_{}_{}\".format(scale, code[0], code[1], code[2], code[3])\n",
    "    with open(\"midifile_sch/{}.mid\".format(filename), \"wb\") as outf:\n",
    "        mf.writeFile(outf)\n",
    "\n",
    "    # generate sound\n",
    "    subprocess.run(\"fluidsynth -F soundfile_sch/{}.wav ~/mgen/Sonatina_Symphonic_Orchestra.sf2 midifile_sch/{}.mid\".format(filename,filename),shell=True)\n",
    "    sleep(1)\n",
    "    subprocess.run(\"rm midifile_sch/{}.mid\".format(filename),shell=True) # remove midifile\n",
    "\n",
    "    # CALL SOME TRAINING FUNCTION HERE, UPDATE THE MODEL\n",
    "    sleep(1)\n",
    "    subprocess.run(\"rm soundfile_sch/{}.wav\".format(filename),shell=True) # remove soundfile"
   ]
  },
  {
   "cell_type": "code",
   "execution_count": 7,
   "metadata": {},
   "outputs": [
    {
     "ename": "KeyboardInterrupt",
     "evalue": "",
     "output_type": "error",
     "traceback": [
      "\u001b[0;31m---------------------------------------------------------------------------\u001b[0m",
      "\u001b[0;31mKeyboardInterrupt\u001b[0m                         Traceback (most recent call last)",
      "\u001b[0;32m<ipython-input-7-ee146147e264>\u001b[0m in \u001b[0;36m<module>\u001b[0;34m()\u001b[0m\n\u001b[1;32m      9\u001b[0m         \u001b[0mcount\u001b[0m \u001b[0;34m=\u001b[0m \u001b[0;36m0\u001b[0m\u001b[0;34m\u001b[0m\u001b[0m\n\u001b[1;32m     10\u001b[0m         \u001b[0;32mfor\u001b[0m \u001b[0mcom\u001b[0m \u001b[0;32min\u001b[0m \u001b[0mcomb\u001b[0m\u001b[0;34m:\u001b[0m\u001b[0;34m\u001b[0m\u001b[0m\n\u001b[0;32m---> 11\u001b[0;31m             \u001b[0mgenerate_and_train\u001b[0m\u001b[0;34m(\u001b[0m\u001b[0mno_\u001b[0m\u001b[0;34m,\u001b[0m\u001b[0mtrack\u001b[0m\u001b[0;34m,\u001b[0m\u001b[0mcom\u001b[0m\u001b[0;34m,\u001b[0m\u001b[0mchannel\u001b[0m\u001b[0;34m=\u001b[0m\u001b[0mchannel\u001b[0m\u001b[0;34m)\u001b[0m\u001b[0;34m\u001b[0m\u001b[0m\n\u001b[0m\u001b[1;32m     12\u001b[0m \u001b[0;34m\u001b[0m\u001b[0m\n\u001b[1;32m     13\u001b[0m             \u001b[0mcount\u001b[0m \u001b[0;34m+=\u001b[0m \u001b[0;36m1\u001b[0m\u001b[0;34m\u001b[0m\u001b[0m\n",
      "\u001b[0;32m<ipython-input-6-1b106199dc54>\u001b[0m in \u001b[0;36mgenerate_and_train\u001b[0;34m(no_, track, com, channel)\u001b[0m\n\u001b[1;32m     25\u001b[0m     \u001b[0;31m# generate sound\u001b[0m\u001b[0;34m\u001b[0m\u001b[0;34m\u001b[0m\u001b[0m\n\u001b[1;32m     26\u001b[0m     \u001b[0msubprocess\u001b[0m\u001b[0;34m.\u001b[0m\u001b[0mrun\u001b[0m\u001b[0;34m(\u001b[0m\u001b[0;34m\"fluidsynth -F soundfile_sch/{}.wav ~/mgen/Sonatina_Symphonic_Orchestra.sf2 midifile_sch/{}.mid\"\u001b[0m\u001b[0;34m.\u001b[0m\u001b[0mformat\u001b[0m\u001b[0;34m(\u001b[0m\u001b[0mfilename\u001b[0m\u001b[0;34m,\u001b[0m\u001b[0mfilename\u001b[0m\u001b[0;34m)\u001b[0m\u001b[0;34m,\u001b[0m\u001b[0mshell\u001b[0m\u001b[0;34m=\u001b[0m\u001b[0;32mTrue\u001b[0m\u001b[0;34m)\u001b[0m\u001b[0;34m\u001b[0m\u001b[0m\n\u001b[0;32m---> 27\u001b[0;31m     \u001b[0msleep\u001b[0m\u001b[0;34m(\u001b[0m\u001b[0;36m1\u001b[0m\u001b[0;34m)\u001b[0m\u001b[0;34m\u001b[0m\u001b[0m\n\u001b[0m\u001b[1;32m     28\u001b[0m     \u001b[0msubprocess\u001b[0m\u001b[0;34m.\u001b[0m\u001b[0mrun\u001b[0m\u001b[0;34m(\u001b[0m\u001b[0;34m\"rm midifile_sch/{}.mid\"\u001b[0m\u001b[0;34m.\u001b[0m\u001b[0mformat\u001b[0m\u001b[0;34m(\u001b[0m\u001b[0mfilename\u001b[0m\u001b[0;34m)\u001b[0m\u001b[0;34m,\u001b[0m\u001b[0mshell\u001b[0m\u001b[0;34m=\u001b[0m\u001b[0;32mTrue\u001b[0m\u001b[0;34m)\u001b[0m \u001b[0;31m# remove midifile\u001b[0m\u001b[0;34m\u001b[0m\u001b[0m\n\u001b[1;32m     29\u001b[0m \u001b[0;34m\u001b[0m\u001b[0m\n",
      "\u001b[0;31mKeyboardInterrupt\u001b[0m: "
     ]
    }
   ],
   "source": [
    "# can loop in other ways or random\n",
    "for scale in scales:\n",
    "    for no_ in no_of_notes:\n",
    "        \n",
    "        pitch = range(12*(scale+1), 12*(scale+2))\n",
    "        comb = [x for x in combinations(pitch, no_)]\n",
    "        track = range(no_)\n",
    "        \n",
    "        count = 0    \n",
    "        for com in comb:\n",
    "            generate_and_train(no_,track,com,channel=channel)\n",
    "            \n",
    "            count += 1"
   ]
  },
  {
   "cell_type": "code",
   "execution_count": null,
   "metadata": {},
   "outputs": [],
   "source": []
  },
  {
   "cell_type": "code",
   "execution_count": null,
   "metadata": {},
   "outputs": [],
   "source": []
  }
 ],
 "metadata": {
  "kernelspec": {
   "display_name": "Python [conda env:mir]",
   "language": "python",
   "name": "conda-env-mir-py"
  },
  "language_info": {
   "codemirror_mode": {
    "name": "ipython",
    "version": 3
   },
   "file_extension": ".py",
   "mimetype": "text/x-python",
   "name": "python",
   "nbconvert_exporter": "python",
   "pygments_lexer": "ipython3",
   "version": "3.5.0"
  }
 },
 "nbformat": 4,
 "nbformat_minor": 2
}
