{
 "cells": [
  {
   "cell_type": "code",
   "execution_count": 1,
   "metadata": {},
   "outputs": [
    {
     "name": "stderr",
     "output_type": "stream",
     "text": [
      "/anaconda3/envs/nd/lib/python3.6/importlib/_bootstrap.py:219: RuntimeWarning: numpy.dtype size changed, may indicate binary incompatibility. Expected 96, got 88\n",
      "  return f(*args, **kwds)\n",
      "/anaconda3/envs/nd/lib/python3.6/importlib/_bootstrap.py:219: RuntimeWarning: numpy.dtype size changed, may indicate binary incompatibility. Expected 96, got 88\n",
      "  return f(*args, **kwds)\n",
      "/anaconda3/envs/nd/lib/python3.6/site-packages/h5py/__init__.py:34: FutureWarning: Conversion of the second argument of issubdtype from `float` to `np.floating` is deprecated. In future, it will be treated as `np.float64 == np.dtype(float).type`.\n",
      "  from ._conv import register_converters as _register_converters\n",
      "Using TensorFlow backend.\n",
      "model.ipynb:6: UserWarning: Update your `MaxPooling2D` call to the Keras 2 API: `MaxPooling2D(2, 2, padding=\"same\")`\n",
      "  \"metadata\": {},\n",
      "model.ipynb:9: UserWarning: Update your `MaxPooling2D` call to the Keras 2 API: `MaxPooling2D(2, 2, padding=\"same\")`\n",
      "  \"import pandas as pd\\n\",\n"
     ]
    },
    {
     "name": "stdout",
     "output_type": "stream",
     "text": [
      "[[0. 0. 0. 0. 0. 0. 0. 0. 0. 0. 0. 0. 0. 0. 0. 0. 0. 0. 0. 0. 0. 0. 0. 0.]]\n"
     ]
    }
   ],
   "source": [
    "%run model.ipynb"
   ]
  },
  {
   "cell_type": "code",
   "execution_count": 2,
   "metadata": {},
   "outputs": [],
   "source": [
    "import sys\n",
    "sys.path.append('../preparations/')"
   ]
  },
  {
   "cell_type": "code",
   "execution_count": 3,
   "metadata": {},
   "outputs": [],
   "source": [
    "import x01_generate_notes\n",
    "import x02_generate_midi\n",
    "import x03_generate_wav\n",
    "import x04_generate_wav_processed\n",
    "import x05_generate_spectrogram\n",
    "import x06_generate_label"
   ]
  },
  {
   "cell_type": "code",
   "execution_count": 4,
   "metadata": {},
   "outputs": [
    {
     "name": "stdout",
     "output_type": "stream",
     "text": [
      "mkdir: notes: File exists\n",
      "mkdir: midi: File exists\n",
      "mkdir: wav: File exists\n",
      "mkdir: wav_processed: File exists\n",
      "mkdir: spectrogram: File exists\n",
      "mkdir: label: File exists\n"
     ]
    }
   ],
   "source": [
    "!mkdir notes\n",
    "!mkdir midi\n",
    "!mkdir wav\n",
    "!mkdir wav_processed\n",
    "!mkdir spectrogram\n",
    "!mkdir label\n",
    "!rm ./notes/*\n",
    "!rm ./midi/*\n",
    "!rm ./wav/*\n",
    "!rm ./wav_processed/*\n",
    "!rm ./spectrogram/*\n",
    "!rm ./label/*"
   ]
  },
  {
   "cell_type": "code",
   "execution_count": null,
   "metadata": {},
   "outputs": [],
   "source": [
    "import glob\n",
    "files = glob.glob('../*.wav')\n",
    "print(len(files))\n",
    "for filename in files:\n",
    "    print(filename)\n",
    "    x05_generate_spectrogram.generate_spectrogram(filename)"
   ]
  },
  {
   "cell_type": "code",
   "execution_count": null,
   "metadata": {},
   "outputs": [],
   "source": [
    "import soundfile as sf\n",
    "import sounddevice as sd\n",
    "\n",
    "audio, sr = sf.read(files[0])\n",
    "\n",
    "sd.play(audio, samplerate=sr)"
   ]
  },
  {
   "cell_type": "code",
   "execution_count": null,
   "metadata": {},
   "outputs": [],
   "source": [
    "!ls ./spectrogram/"
   ]
  },
  {
   "cell_type": "code",
   "execution_count": null,
   "metadata": {},
   "outputs": [],
   "source": [
    "!ls ./notes/\n",
    "!ls ./midi/\n",
    "!ls ./wav/\n",
    "!ls ./wav_processed/\n",
    "!ls ./spectrogram/\n",
    "!ls ./label/"
   ]
  },
  {
   "cell_type": "code",
   "execution_count": null,
   "metadata": {},
   "outputs": [],
   "source": [
    "import glob\n",
    "import matplotlib.pyplot as plt\n",
    "\n",
    "glob_spectrogram = glob.glob('./spectrogram/*')\n"
   ]
  },
  {
   "cell_type": "code",
   "execution_count": null,
   "metadata": {},
   "outputs": [],
   "source": [
    "for spectrogram_ in glob_spectrogram:\n",
    "    \n",
    "    spectrogram = np.load(spectrogram_)\n",
    "    print(np.shape(spectrogram))\n",
    "    print(np.shape(spectrogram[:,:]))\n",
    "    cnn_inputs = np.array(list(zip([spectrogram[:,i:-108+i:27] for i in range(108)])))\n",
    "    print(np.shape(cnn_inputs))\n",
    "    cnn_inputs = np.swapaxes(cnn_inputs,0,3)\n",
    "    print(np.shape(cnn_inputs))\n",
    "    cnn_inputs = [cnn_input for cnn_input in cnn_inputs]\n",
    "    print(np.shape(cnn_inputs[1]))\n",
    "    plt.imshow(cnn_inputs[7][0,:,:])\n",
    "    plt.colorbar()\n",
    "    plt.show()\n",
    "    \n",
    "print(np.shape(cnn_inputs))\n"
   ]
  },
  {
   "cell_type": "code",
   "execution_count": null,
   "metadata": {
    "scrolled": false
   },
   "outputs": [],
   "source": [
    "plt.figure(figsize=(15,3))\n",
    "lstm_memory = np.zeros((1,20,24))\n",
    "predicted_score = []\n",
    "\n",
    "print(np.shape(cnn_inputs))\n",
    "for i, cnn_input in enumerate(cnn_inputs):\n",
    "    \n",
    "#     print(np.shape(cnn_input))\n",
    "#     print(np.shape(lstm_input))\n",
    "#     give_prediction(classifier, np.zeros((1,20,24)), np.zeros((1,108,108,1)))\n",
    "#     print(lstm_input[-1,-1])\n",
    "#     print(result)\n",
    "    result = give_prediction(classifier, lstm_memory, cnn_input.reshape((1,108,108,1)))\n",
    "    lstm_memory[0,:-1] = np.copy(lstm_memory[0,1:])\n",
    "    lstm_memory[0,-1] = np.copy(result)\n",
    "    for j, note in enumerate(result[0]):\n",
    "        if note != 0:\n",
    "            predicted_score.append([i,j])\n",
    "\n",
    "predicted_score = np.transpose(predicted_score)\n",
    "plt.scatter(predicted_score[0], predicted_score[1], marker='o')            \n",
    "plt.show()"
   ]
  },
  {
   "cell_type": "code",
   "execution_count": null,
   "metadata": {},
   "outputs": [],
   "source": []
  },
  {
   "cell_type": "code",
   "execution_count": null,
   "metadata": {},
   "outputs": [],
   "source": []
  },
  {
   "cell_type": "code",
   "execution_count": null,
   "metadata": {},
   "outputs": [],
   "source": []
  },
  {
   "cell_type": "code",
   "execution_count": null,
   "metadata": {},
   "outputs": [],
   "source": []
  }
 ],
 "metadata": {
  "kernelspec": {
   "display_name": "Python [conda env:nd]",
   "language": "python",
   "name": "conda-env-nd-py"
  },
  "language_info": {
   "codemirror_mode": {
    "name": "ipython",
    "version": 3
   },
   "file_extension": ".py",
   "mimetype": "text/x-python",
   "name": "python",
   "nbconvert_exporter": "python",
   "pygments_lexer": "ipython3",
   "version": "3.6.5"
  }
 },
 "nbformat": 4,
 "nbformat_minor": 2
}
