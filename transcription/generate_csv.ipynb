{
 "cells": [
  {
   "cell_type": "markdown",
   "metadata": {},
   "source": [
    "To generate scores in csv form, which is made up of an array of note number and time of onset."
   ]
  },
  {
   "cell_type": "code",
   "execution_count": 11,
   "metadata": {},
   "outputs": [
    {
     "name": "stdout",
     "output_type": "stream",
     "text": [
      "0660BFF02AD550D4,1.105,1,1.105,0,1.105,12,1.956,19,1.956,9,1.956,14,1.956,1,3.23,1,3.23,3,3.23,10,3.23,14,3.773,3,3.773,17,5.07,11,5.07,20,5.07,12,5.07,10,5.575,17,5.575,11,5.575,12,6.39,11,6.39,18,6.39,21,7.43,8,7.43,2,7.43,14,7.43,11,8.082,8,8.082,5,8.082,14,8.082,6,8.584,16,8.584,10,8.584,7,8.584,9,9.133,18,9.133,14,9.133,16,9.875,20,9.875,7,9.875,3,9.875,19,10.698,14,10.698,10,11.229,20,11.229,6,11.229,0,12.446,17,12.446,4,12.446,19,12.446,3,13.505,21,13.505,10,13.505,17,14.456,8,14.456,23,14.456,18,15.598,22,15.598,2,15.598,5,15.598,15,16.183,18,16.183,9,16.183,13,16.183,7,16.82,5,16.82,1,17.771,2,17.771,17,17.771,20,18.335,2,18.335,23,19.082,3,19.082,20,19.082,11,20.273,23,20.273,18\n",
      "6BA55A9C4ACD43F7,0.745,11,0.745,15,0.745,10,0.745,21,1.456,11,1.456,17,1.456,10,2.156,19,2.156,6,2.156,15,2.156,23,3.12,12,3.12,1,3.12,7,4.397,7,4.397,12,4.397,13,4.397,10,5.408,11,5.408,15,5.408,0,6.515,12,6.515,11,6.515,3,6.515,14,7.738,22,7.738,21,7.738,11,8.331,20,8.331,13,8.331,15,9.283,3,9.283,14,9.283,5,10.411,2,10.411,13,11.114,5,11.114,14,11.114,18,11.114,8,12.191,2,12.191,21,13.222,16,13.222,9,13.222,0,13.222,12,14.466,20,14.466,0,15.159,11,15.159,14,15.159,20,15.747,15,15.747,17,15.747,18,16.629,22,16.629,15,16.629,4,17.683,21,18.603,20,18.603,10,18.603,21,18.603,8,19.532,1,19.532,19,19.532,12,20.146,5,20.146,19,20.146,17\n",
      "D49571F7D5147B52,1.249,10,1.249,2,1.249,19,1.249,5,1.758,23,1.758,5,1.758,20,2.338,8,2.338,13,2.338,9,2.338,4,3.372,12,4.185,23,5.087,11,5.087,2,5.087,22,6.296,11,6.296,23,7.233,23,7.233,1,7.233,19,7.233,14,7.825,15,7.825,20,7.825,22,8.502,13,8.502,1,8.502,19,8.502,6,9.578,22,9.578,18,10.135,9,10.135,20,10.135,14,10.135,18,11.412,21,11.412,2,11.412,22,12.099,10,12.099,5,13.099,20,13.099,9,13.099,3,13.792,13,14.787,18,14.787,6,14.787,4,14.787,23,15.664,1,15.664,12,15.664,6,16.252,20,16.252,1,16.252,3,16.935,8,16.935,9,16.935,7,17.929,0,17.929,9,17.929,10,17.929,12,19.192,10,19.192,22,19.192,18,20.183,23,20.183,2\n",
      "\n"
     ]
    }
   ],
   "source": [
    "import numpy as np\n",
    "import random\n",
    "\n",
    "\n",
    "csv_string = \"\"\n",
    "for _ in range(3): # change this number to generate many many files\n",
    "    csv_row = ''.join(random.choice('0123456789ABCDEF') for i in range(16))\n",
    "    \n",
    "    t = 0\n",
    "    while t < 20:\n",
    "        t += 0.3 + np.random.uniform(0.2)\n",
    "        \n",
    "        notes_played =[]\n",
    "        \n",
    "        if np.random.uniform() > 0.2:\n",
    "            new_note = np.random.randint(24)\n",
    "            if new_note not in notes_played:\n",
    "                notes_played.append(new_note)\n",
    "                \n",
    "        if np.random.uniform() > 0.2:\n",
    "            new_note = np.random.randint(24)\n",
    "            if new_note not in notes_played:\n",
    "                notes_played.append(new_note)\n",
    "            \n",
    "        if np.random.uniform() > 0.2:\n",
    "            new_note = np.random.randint(24)\n",
    "            if new_note not in notes_played:\n",
    "                notes_played.append(new_note)\n",
    "        \n",
    "        if np.random.uniform() > 0.2 or (t > 18 and t < 20):\n",
    "            new_note = np.random.randint(24)\n",
    "            if new_note not in notes_played:\n",
    "                notes_played.append(new_note)\n",
    "        \n",
    "            \n",
    "        for x in notes_played:\n",
    "            csv_row += ','\n",
    "            csv_row += str(np.round(t,3))\n",
    "\n",
    "            csv_row += ','\n",
    "            csv_row += str(x)\n",
    "\n",
    "    csv_string += csv_row\n",
    "    csv_string += '\\n'\n",
    "\n",
    "# print(csv_string)\n",
    "\n",
    "with open(\"notes.csv\", \"w\") as f:\n",
    "    f.write(csv_string[:-1])\n",
    "    "
   ]
  },
  {
   "cell_type": "code",
   "execution_count": 12,
   "metadata": {},
   "outputs": [],
   "source": [
    "# save as csv"
   ]
  },
  {
   "cell_type": "code",
   "execution_count": 13,
   "metadata": {},
   "outputs": [
    {
     "data": {
      "text/plain": [
       "0.22206450050843596"
      ]
     },
     "execution_count": 13,
     "metadata": {},
     "output_type": "execute_result"
    }
   ],
   "source": [
    "np.random.uniform()"
   ]
  },
  {
   "cell_type": "code",
   "execution_count": null,
   "metadata": {},
   "outputs": [],
   "source": []
  }
 ],
 "metadata": {
  "kernelspec": {
   "display_name": "Python 3",
   "language": "python",
   "name": "python3"
  },
  "language_info": {
   "codemirror_mode": {
    "name": "ipython",
    "version": 3
   },
   "file_extension": ".py",
   "mimetype": "text/x-python",
   "name": "python",
   "nbconvert_exporter": "python",
   "pygments_lexer": "ipython3",
   "version": "3.5.2"
  }
 },
 "nbformat": 4,
 "nbformat_minor": 2
}
