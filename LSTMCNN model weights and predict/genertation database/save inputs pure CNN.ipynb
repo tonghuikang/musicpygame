{
 "cells": [
  {
   "cell_type": "code",
   "execution_count": 2,
   "metadata": {},
   "outputs": [],
   "source": [
    "#This file reads the note_csv, spectrums. Generate and save the numpy arrays which are inputs to the model"
   ]
  },
  {
   "cell_type": "code",
   "execution_count": 3,
   "metadata": {},
   "outputs": [],
   "source": [
    "import numpy as np\n",
    "import glob"
   ]
  },
  {
   "cell_type": "code",
   "execution_count": 4,
   "metadata": {},
   "outputs": [],
   "source": [
    "files = glob.glob('E:/notes_database/index/*')"
   ]
  },
  {
   "cell_type": "code",
   "execution_count": 5,
   "metadata": {},
   "outputs": [],
   "source": [
    "def parse_row(csv_row):  # same as generate_database.ipynb\n",
    "\n",
    "    csv_row_array = csv_row.split(\",\")\n",
    "\n",
    "    filename = csv_row_array[0]\n",
    "    time_array = [float(t) for t in csv_row_array[1::2]]\n",
    "    note_array = [int(x) for x in csv_row_array[2::2]]\n",
    "\n",
    "    assert len(time_array) == len(note_array)\n",
    "\n",
    "#     print(time_array)\n",
    "#     print(note_array)\n",
    "\n",
    "    return filename, time_array, note_array"
   ]
  },
  {
   "cell_type": "code",
   "execution_count": 6,
   "metadata": {},
   "outputs": [],
   "source": [
    "def parse_csv(csv_file): # Convert the csv files into numpy arrays\n",
    "    \n",
    "    with open(csv_file, 'r') as csvfile:\n",
    "        csv_rows = csvfile.read().split(\"\\n\")\n",
    "\n",
    "    filenames = []\n",
    "    time_arrays = []\n",
    "    note_arrays = []\n",
    "    \n",
    "    for csv_row in csv_rows:\n",
    "        filename, time_array, note_array = parse_row(csv_row)\n",
    "        \n",
    "        filenames.append(filename)\n",
    "        time_arrays.append(time_array)\n",
    "        note_arrays.append(note_array)\n",
    "    \n",
    "    return filenames,time_arrays,note_arrays"
   ]
  },
  {
   "cell_type": "code",
   "execution_count": 7,
   "metadata": {},
   "outputs": [],
   "source": [
    "def prepare_inputs(csv_name):\n",
    "    # the time for a unit width of spectrum is about 0.003 second\n",
    "    # however a unit in time_array is 0.5 second, so to calculate the unit numbers, should divide the time_number by 0.006\n",
    "    filenames,time,note = parse_csv(csv_name)\n",
    "    cnn_all_previous = []\n",
    "    cnn_all_inputs = []\n",
    "    y_all_train = []\n",
    "    for file in range(len(filenames)):\n",
    "        one_row = np.zeros(24)\n",
    "        previous_time = [time[file][0]]\n",
    "        spectrum = np.load(spectrums+filenames[file]+'.npy')\n",
    "        y_train = []\n",
    "        # load the spectrum numpy array from 20 units before the timing(onset) to 44 units after the timing\n",
    "        for i in range(len(time[file])):\n",
    "            \n",
    "            if time[file][i] == previous_time[-1]:\n",
    "                one_row[note[file][i]] = 1\n",
    "            else:\n",
    "                #append previous input (width:256)\n",
    "                position = previous_time[-1]//0.006\n",
    "                if position-20 < 256:\n",
    "                    cnn_previous = np.zeros((108, 256))\n",
    "                    cnn_previous[:, int(256-position+20):] = spectrum[:, :int(position-20)]\n",
    "                else:\n",
    "                    cnn_previous = spectrum[:, int(position-20-256):int(position-20)]\n",
    "                cnn_all_previous.append(cnn_previous)\n",
    "                \n",
    "                #append y_train\n",
    "                y_train.append(one_row)\n",
    "                y_all_train.append(one_row)\n",
    "                \n",
    "                #append cnn input\n",
    "                cnn_input = spectrum[:, int(previous_time[-1]//0.006-20):int(previous_time[-1]//0.006+44)]\n",
    "                cnn_all_inputs.append(cnn_input)\n",
    "\n",
    "                one_row = np.zeros(24)\n",
    "                one_row[note[file][i]] = 1\n",
    "                previous_time.append(time[file][i])\n",
    "                \n",
    "            if i == len(time[file]) - 1:\n",
    "                #append previous input (width:256)\n",
    "                position = previous_time[-1]//0.006\n",
    "                if position-20 < 256:\n",
    "                    cnn_previous = np.zeros((108, 256))\n",
    "                    cnn_previous[:, int(256-position+20):] = spectrum[:, :int(position-20)]\n",
    "                else:\n",
    "                    cnn_previous = spectrum[:, int(position-20-256):int(position-20)]\n",
    "                cnn_all_previous.append(cnn_previous)\n",
    "                \n",
    "                #append y_train\n",
    "                y_train.append(one_row)\n",
    "                y_all_train.append(one_row)\n",
    "                \n",
    "                #append cnn input\n",
    "                cnn_input = spectrum[:, int(previous_time[-1]//0.006-20):int(previous_time[-1]//0.006+44)]\n",
    "                cnn_all_inputs.append(cnn_input)\n",
    "                \n",
    "        #check if the last cnn_input has right shape\n",
    "        if cnn_all_inputs[-1].shape != (108, 64):\n",
    "            cnn_all_inputs = cnn_all_inputs[:-1]\n",
    "            cnn_all_previous = cnn_all_previous[:-1]\n",
    "            y_all_train = y_all_train[:-1]\n",
    "            \n",
    "    cnn_all_previous = np.array(cnn_all_previous).reshape(len(cnn_all_previous), 108, 256, 1)\n",
    "    cnn_all_inputs = np.array(cnn_all_inputs).reshape(len(cnn_all_inputs), 108, 64, 1)\n",
    "    y_all_train = np.array(y_all_train)\n",
    "    return cnn_all_previous, cnn_all_inputs, y_all_train"
   ]
  },
  {
   "cell_type": "code",
   "execution_count": 8,
   "metadata": {},
   "outputs": [],
   "source": [
    "save = 'E:/notes_database/'"
   ]
  },
  {
   "cell_type": "code",
   "execution_count": 9,
   "metadata": {},
   "outputs": [],
   "source": [
    "spectrums = 'E:/notes_database/spectrograms/'"
   ]
  },
  {
   "cell_type": "code",
   "execution_count": 10,
   "metadata": {},
   "outputs": [],
   "source": [
    "count = 0\n",
    "number = 0\n",
    "prev_save, cnn_save, y_train_save = prepare_inputs(files[0])\n",
    "for i in range(len(files))[1:]:\n",
    "    if number < 5:\n",
    "        cnn_prev, cnn, y_train = prepare_inputs(files[i])\n",
    "        prev_save = np.append(prev_save, cnn_prev, axis=0)\n",
    "        cnn_save = np.append(cnn_save, cnn, axis=0)\n",
    "        y_train_save = np.append(y_train_save, y_train, axis=0)\n",
    "        number += 1\n",
    "    elif number >= 5:\n",
    "        np.save(save+'CNN_previous/{}.npy'.format(count), prev_save.astype(np.float16))\n",
    "        np.save(save+'pureCNN/{}.npy'.format(count), cnn_save.astype(np.float16))\n",
    "        np.save(save+'y_pureCNN/{}.npy'.format(count), y_train_save.astype(np.float16))\n",
    "        count += 1\n",
    "        number = 1\n",
    "        prev_save, cnn_save, y_train_save = prepare_inputs(files[i])\n",
    "        \n",
    "np.save(save+'CNN_previous/{}.npy'.format(count), prev_save.astype(np.float16))\n",
    "np.save(save+'pureCNN/{}.npy'.format(count), cnn_save.astype(np.float16))\n",
    "np.save(save+'y_pureCNN/{}.npy'.format(count), y_train_save.astype(np.float16))"
   ]
  }
 ],
 "metadata": {
  "kernelspec": {
   "display_name": "Python 3",
   "language": "python",
   "name": "python3"
  },
  "language_info": {
   "codemirror_mode": {
    "name": "ipython",
    "version": 3
   },
   "file_extension": ".py",
   "mimetype": "text/x-python",
   "name": "python",
   "nbconvert_exporter": "python",
   "pygments_lexer": "ipython3",
   "version": "3.5.2"
  }
 },
 "nbformat": 4,
 "nbformat_minor": 2
}
