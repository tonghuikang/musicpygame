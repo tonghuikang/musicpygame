{
 "cells": [
  {
   "cell_type": "markdown",
   "metadata": {},
   "source": [
    "Hui-Kang Tong admin, [2 Apr 2018 at 19:31:29]:\n",
    "ok we can now automatically generate midi files, convert midi files to wave files (with hk’s mac)\n",
    "\n",
    "However to create training data, we need many data (audio samples) with the same target/label (note). So these are a few ways to vary it:\n",
    "- note velocity\n",
    "- note volume\n",
    "- noise\n",
    "- onset timing (one slightly later than the other)\n",
    "- soundfont (which mean instrument)\n",
    "\n",
    "So I will write a notebook which\n",
    "- leave a space for the function to create .mid file with note\n",
    "- use fluidsynth to convert this .mid file .wav\n",
    "- call this .mid file, identify onset with our onset function, and splice 4096 entries from it\n",
    "- leave a space for the training function\n",
    "- delete the .mid file and .wav file\n",
    "- repeat\n",
    "\n",
    "What needs to be considered/written\n",
    "what kind of model are we using, how do we train such a model, what sort of instructions does the .mid files have"
   ]
  },
  {
   "cell_type": "code",
   "execution_count": 1,
   "metadata": {},
   "outputs": [],
   "source": [
    "from midiutil.MidiFile import MIDIFile\n",
    "from itertools import combinations\n",
    "import os\n",
    "import subprocess\n",
    "\n",
    "scales = range(4,5) #C1 to C4\n",
    "no_of_notes = range(2, 5) #2 notes to 4 notes\n",
    "\n",
    "channel = 0\n",
    "time = 0\n",
    "duration = 2\n",
    "tempo = 100\n",
    "volume = 100"
   ]
  },
  {
   "cell_type": "code",
   "execution_count": 2,
   "metadata": {},
   "outputs": [],
   "source": [
    "from midiutil.MidiFile import MIDIFile\n",
    "from itertools import combinations\n",
    "import os\n",
    "import subprocess\n",
    "\n",
    "def generate_and_train(no_,track,com,channel=0):\n",
    "# for each cycle\n",
    "\n",
    "    # generate and save midifile\n",
    "    mf = MIDIFile(no_)\n",
    "\n",
    "    for num in range(no_):\n",
    "        mf.addNote(track[num], channel, com[num], time, duration, volume)\n",
    "\n",
    "    code = []\n",
    "    for num in com:\n",
    "        code.append(num)\n",
    "    while len(code) < 4:\n",
    "        code.append(\"x\")\n",
    "\n",
    "    filename = \"C{}_{}_{}_{}_{}\".format(scale, code[0], code[1], code[2], code[3])\n",
    "    with open(\"midifile_sch/{}.mid\".format(filename), \"wb\") as outf:\n",
    "        mf.writeFile(outf)\n",
    "\n",
    "    # generate sound\n",
    "    subprocess.run(\"fluidsynth -F soundfile_sch/{}.wav ~/mgen/Sonatina_Symphonic_Orchestra.sf2 midifile_sch/{}.mid\".format(filename,filename),shell=True)\n",
    "    subprocess.run(\"rm midifile_sch/{}.mid\".format(filename),shell=True) # remove midifile\n",
    "\n",
    "    # CALL SOME TRAINING FUNCTION HERE, UPDATE THE MODEL\n",
    "    subprocess.run(\"rm soundfile_sch/{}.wav\".format(filename),shell=True) # remove soundfile"
   ]
  },
  {
   "cell_type": "code",
   "execution_count": null,
   "metadata": {},
   "outputs": [],
   "source": [
    "# can loop in other ways or random\n",
    "for scale in scales:\n",
    "    for no_ in no_of_notes:\n",
    "        \n",
    "        pitch = range(12*(scale+1), 12*(scale+2))\n",
    "        comb = [x for x in combinations(pitch, no_)]\n",
    "        track = range(no_)\n",
    "        \n",
    "        count = 0    \n",
    "        for com in comb:\n",
    "            generate_and_train(no_,track,com,channel=channel)\n",
    "            \n",
    "            count += 1"
   ]
  },
  {
   "cell_type": "code",
   "execution_count": null,
   "metadata": {},
   "outputs": [],
   "source": []
  },
  {
   "cell_type": "code",
   "execution_count": null,
   "metadata": {},
   "outputs": [],
   "source": []
  }
 ],
 "metadata": {
  "kernelspec": {
   "display_name": "Python [conda env:mir]",
   "language": "python",
   "name": "conda-env-mir-py"
  },
  "language_info": {
   "codemirror_mode": {
    "name": "ipython",
    "version": 3
   },
   "file_extension": ".py",
   "mimetype": "text/x-python",
   "name": "python",
   "nbconvert_exporter": "python",
   "pygments_lexer": "ipython3",
   "version": "3.5.0"
  }
 },
 "nbformat": 4,
 "nbformat_minor": 2
}
