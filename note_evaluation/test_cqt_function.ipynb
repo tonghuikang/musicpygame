{
 "cells": [
  {
   "cell_type": "code",
   "execution_count": null,
   "metadata": {},
   "outputs": [],
   "source": [
    "# basically this means `import note_evaluation_helper`\n",
    "%run 'note_evaluation_helper.ipynb'"
   ]
  },
  {
   "cell_type": "code",
   "execution_count": null,
   "metadata": {},
   "outputs": [],
   "source": [
    "def cqt_function(signal_to_ayse):\n",
    "    '''\n",
    "    Compute the cqt response over a set of notes.\n",
    "\n",
    "    Parameters\n",
    "    ----------\n",
    "    signal_to_ayse : input array, real\n",
    "                     4096 entries long\n",
    "\n",
    "    Output\n",
    "    ----------\n",
    "    MIDI numbers\n",
    "    60 is middle C, which is C4\n",
    "    \n",
    "    Todo\n",
    "    ----\n",
    "    We should not be generating the kernels every time.\n",
    "    Actually we could simply multiply with the FFT of the signal.\n",
    "    So:\n",
    "    Make it customisable to a random starting note.\n",
    "    Outsource the precomputation to a function instead - do something like load kernels.\n",
    "    Do both of these at the same time.\n",
    "    (but anyway we just want an accurate demo, computation time doesn't seem to be a problem here)\n",
    "    '''\n",
    "\n",
    "    length = len(signal_to_ayse)\n",
    "#     print(length)\n",
    "\n",
    "    # fast fourier transform\n",
    "    freq_domain = np.fft.fft(signal_to_ayse)\n",
    "    \n",
    "    # defining the 36 notes bins\n",
    "    bins = 40\n",
    "    freq_ref_notes = [261.625565 * (2. ** (n / 36. - 5. / 72.)) for n in range(bins)]\n",
    "\n",
    "    # defining the time kernel\n",
    "    # different note have different \"kernels\"\n",
    "    bell_curves = []\n",
    "    for note in range(len(freq_ref_notes)):\n",
    "        # I don't think this is defined properly?\n",
    "        bell_curve = np.exp(-((np.arange(-1., 1., 2. / length)) * (2. ** (note / 36.))) ** 2.)\n",
    "        bell_curves.append(bell_curve)\n",
    "\n",
    "    # multiplying the waveform with the window\n",
    "    kernels = []\n",
    "    for note in range(bins):\n",
    "        # generate cosine/sine wave\n",
    "        wave = np.exp((np.arange(length) - length / 2.) * -1.j * 2. * np.pi * freq_ref_notes[note] / 44100.)\n",
    "        # multiplying a window over it\n",
    "        kernels.append(np.multiply(wave, bell_curves[note]))\n",
    "\n",
    "    # taking fourier transform for the frequency kernel\n",
    "    fft_kernels = []\n",
    "    for note in range(bins):\n",
    "        fft_kernels.append(np.fft.fft(kernels[note]))\n",
    "    # all of the above should be run only once\n",
    "    # but the maximum complexity is only the FFT, it is still not a problem\n",
    "    # the focus is an MVP anyway\n",
    "    # we prioritse accuracy here though\n",
    "    # creating arrays to populate for each one-third-semitone\n",
    "    cqt_resp_specs = []\n",
    "    cqt_resp = []\n",
    "\n",
    "    # populating the arrays\n",
    "    for note in range(bins):\n",
    "        cqt_resp_spec = []\n",
    "        for entry in range(length):\n",
    "            cqt_resp_spec.append(fft_kernels[note][entry] * freq_domain[entry])\n",
    "        cqt_resp_specs.append(cqt_resp_spec)\n",
    "        cqt_resp.append(sum([abs(x) for x in cqt_resp_spec]))\n",
    "\n",
    "    # finding peaks in the cqt response\n",
    "    notesrum = cqt_resp  # remove redundant variable please\n",
    "\n",
    "    #     plt.figure(figsize=(16,2))\n",
    "    #     plt.plot(np.linspace(0, 70*44100/4096, num=70, endpoint=False),\n",
    "    #              np.absolute(freq_domain[:70])/np.max(np.absolute(freq_domain[:70])))\n",
    "    #     plt.plot(np.geomspace(261.625565*2**(-3/36), 261.625565*2**(37/36), num=40, endpoint=False),\n",
    "    #              np.absolute(cqt_resp)/np.max(np.absolute(cqt_resp)))\n",
    "    #     plt.show()\n",
    "\n",
    "    notesrum_peak_only = [0.0] * len(notesrum)\n",
    "    notesrum_sum = sum(notesrum)\n",
    "\n",
    "    for index in range(bins - 1)[1:]:\n",
    "        if notesrum[index - 1] < notesrum[index] and notesrum[index + 1] < notesrum[index]:\n",
    "            notesrum_peak_only[index] = notesrum[index]\n",
    "\n",
    "        # known_octave = notesrum_peak_only[12:12+36] # don't know what is this for\n",
    "    known_octave = notesrum_peak_only[2:-2]\n",
    "    # print(np.round(known_octave,5)/notesrum_sum)\n",
    "\n",
    "    notesrum_peak_only_sum = sum(notesrum_peak_only)\n",
    "\n",
    "    for x in range(36):\n",
    "        # if known_octave[x]/notesrum_sum < 0.1:\n",
    "        if known_octave[x] / notesrum_peak_only_sum < 0.2:\n",
    "            known_octave[x] = 0\n",
    "\n",
    "    known_octave_notes = []\n",
    "    for notes in range(36 // 3):\n",
    "        known_octave_notes.append(known_octave[3 * notes]\n",
    "                                  + known_octave[3 * notes + 1]\n",
    "                                  + known_octave[3 * notes + 2])\n",
    "\n",
    "    # notestrum_sum = sum(notesrum)  # alternate demoninator to calc threshold\n",
    "    # print(np.round(known_octave_notes,5)/notesrum_peak_only_sum)\n",
    "    # print(\"check\")\n",
    "\n",
    "    notesrum_peak_only_sum = sum(notesrum_peak_only)\n",
    "\n",
    "    output = []\n",
    "\n",
    "    for x in range(12):\n",
    "        if known_octave_notes[x] / notesrum_peak_only_sum > 0.1:\n",
    "            output.append(x + 60)\n",
    "\n",
    "    #     plt.figure(figsize=(16,2))\n",
    "    #     plt.plot(notesrum_peak_only)\n",
    "    #     plt.plot(notesrum)\n",
    "    #     plt.axhline(y=0.1*notesrum_peak_only_sum, color='r', linestyle='-')\n",
    "    #     plt.show()\n",
    "    return output"
   ]
  },
  {
   "cell_type": "code",
   "execution_count": null,
   "metadata": {
    "scrolled": false
   },
   "outputs": [],
   "source": [
    "if __name__ == '__main__':\n",
    "    test_function_accuracy(cqt_function, plotting=True, deleting=True, generating=False)"
   ]
  },
  {
   "cell_type": "code",
   "execution_count": 47,
   "metadata": {},
   "outputs": [
    {
     "name": "stdout",
     "output_type": "stream",
     "text": [
      "(108, 25)\n"
     ]
    }
   ],
   "source": [
    "import matplotlib.pyplot as plt\n",
    "import librosa\n",
    "from librosa.display import specshow\n",
    "import numpy as np\n",
    "bins_per_octave = 36\n",
    "n_bins = 108\n",
    "y, sr = librosa.load(librosa.util.example_audio_file())\n",
    "C = librosa.magphase(librosa.cqt(y[30000:42288], \n",
    "                                 sr=sr, \n",
    "                                 bins_per_octave=bins_per_octave, \n",
    "                                 n_bins=n_bins))[0]\n",
    "print(np.shape(C))"
   ]
  },
  {
   "cell_type": "code",
   "execution_count": 48,
   "metadata": {},
   "outputs": [
    {
     "data": {
      "image/png": "[encoded data removed]",
      "text/plain": [
       "<Figure size 432x288 with 2 Axes>"
      ]
     },
     "metadata": {},
     "output_type": "display_data"
    }
   ],
   "source": [
    "specshow(librosa.amplitude_to_db(C, ref=np.max), \n",
    "         sr=sr, \n",
    "         bins_per_octave=bins_per_octave,  \n",
    "         x_axis='time', \n",
    "         y_axis='cqt_note')\n",
    "plt.colorbar(format='%+2.0f dB')\n",
    "plt.title('Constant-Q power spectrum')\n",
    "plt.tight_layout()"
   ]
  },
  {
   "cell_type": "code",
   "execution_count": 50,
   "metadata": {},
   "outputs": [
    {
     "name": "stdout",
     "output_type": "stream",
     "text": [
      "[[0.02879963 0.02873071 0.02834362 ... 0.00501853 0.00475675 0.00469513]\n",
      " [0.0069545  0.00782394 0.00996879 ... 0.03617099 0.03609787 0.0360813 ]\n",
      " [0.06512047 0.06520102 0.06567099 ... 0.09866266 0.09910592 0.09921081]\n",
      " ...\n",
      " [0.00418099 0.00479283 0.00760534 ... 0.18312053 0.17701678 0.17358147]\n",
      " [0.01126487 0.01190018 0.01465814 ... 0.07219569 0.04256104 0.01385226]\n",
      " [0.03238824 0.02958853 0.02169969 ... 0.0164349  0.02796725 0.03285818]]\n"
     ]
    }
   ],
   "source": [
    "print(C)  # you see this is just a 2D array"
   ]
  },
  {
   "cell_type": "code",
   "execution_count": 51,
   "metadata": {},
   "outputs": [
    {
     "data": {
      "image/png": "[encoded data removed]",
      "text/plain": [
       "<Figure size 720x720 with 1 Axes>"
      ]
     },
     "metadata": {},
     "output_type": "display_data"
    }
   ],
   "source": [
    "plt.figure(figsize=(10,10))\n",
    "plt.imshow(C)\n",
    "plt.show()"
   ]
  },
  {
   "cell_type": "code",
   "execution_count": 52,
   "metadata": {},
   "outputs": [
    {
     "data": {
      "image/png": "[encoded data removed]",
      "text/plain": [
       "<Figure size 720x720 with 1 Axes>"
      ]
     },
     "metadata": {},
     "output_type": "display_data"
    }
   ],
   "source": [
    "plt.figure(figsize=(10,10))\n",
    "plt.imshow(C[10:,10:])\n",
    "plt.show()"
   ]
  },
  {
   "cell_type": "code",
   "execution_count": null,
   "metadata": {},
   "outputs": [],
   "source": []
  }
 ],
 "metadata": {
  "kernelspec": {
   "display_name": "Python [conda env:mir]",
   "language": "python",
   "name": "conda-env-mir-py"
  },
  "language_info": {
   "codemirror_mode": {
    "name": "ipython",
    "version": 3
   },
   "file_extension": ".py",
   "mimetype": "text/x-python",
   "name": "python",
   "nbconvert_exporter": "python",
   "pygments_lexer": "ipython3",
   "version": "3.6.5"
  }
 },
 "nbformat": 4,
 "nbformat_minor": 2
}
