{
 "cells": [
  {
   "cell_type": "code",
   "execution_count": 3,
   "metadata": {},
   "outputs": [],
   "source": [
    "from midiutil.MidiFile import MIDIFile\n",
    "from itertools import combinations\n",
    "from time import sleep\n",
    "import subprocess\n",
    "import numpy as np\n",
    "import soundfile as sf\n",
    "import os\n",
    "import sounddevice as sd\n",
    "import librosa\n",
    "import librosa.display\n",
    "import matplotlib.pyplot as plt\n",
    "import csv\n",
    "from math import log10, floor"
   ]
  },
  {
   "cell_type": "code",
   "execution_count": 4,
   "metadata": {},
   "outputs": [],
   "source": [
    "# load csv \n",
    "#015F887DB7FE9E2F,1.03,20,2.325,1,3.578,7,4.274,3,4.842,18,5.902,22,6.583,16,7.774,7,9.053,13,9.618,11,10.883,15,\n",
    "#259D689DBD5445C6,1.24,7,2.454,2,11,3.074,9,17,5,3.662,16,4.405,23,18,5.499,23,19,6.098,18,18,7.064,5,2,13,7.604,9,3,8.742,19,9.496,5,19,1,10.181,3,8,2"
   ]
  },
  {
   "cell_type": "code",
   "execution_count": 193,
   "metadata": {},
   "outputs": [],
   "source": [
    "def parse_row(csv_row):\n",
    "\n",
    "    csv_row_array = csv_row.split(\",\")\n",
    "\n",
    "    filename = csv_row_array[0]\n",
    "    time_array = [float(t) for t in csv_row_array[1::2]]\n",
    "    note_array = [int(x) for x in csv_row_array[2::2]]\n",
    "\n",
    "    assert len(time_array) == len(note_array)\n",
    "\n",
    "#     print(time_array)\n",
    "#     print(note_array)\n",
    "\n",
    "    return filename, time_array, note_array"
   ]
  },
  {
   "cell_type": "code",
   "execution_count": 194,
   "metadata": {},
   "outputs": [
    {
     "name": "stdout",
     "output_type": "stream",
     "text": [
      "[0.85, 0.85, 0.85, 0.85, 1.535, 1.535, 2.656, 2.656, 2.656, 3.764, 3.764, 3.764, 3.764, 4.848, 4.848, 4.848, 4.848, 5.778, 5.778, 5.778, 5.778, 6.406, 6.406, 6.406, 7.478, 7.478, 7.478, 8.536, 8.536, 8.536, 9.501, 9.501, 9.501, 9.501, 10.457, 10.457, 10.457, 11.004, 11.004, 11.999, 11.999, 12.929, 12.929, 12.929, 14.083, 14.083, 14.083, 15.103, 15.103, 15.103, 15.103, 15.951, 15.951, 15.951, 16.455, 16.455, 16.455, 16.455, 17.015, 17.015, 17.015, 17.015, 17.522, 17.522, 17.522, 17.522, 18.591, 18.591, 18.591, 18.591, 19.779, 19.779, 19.779, 19.779, 20.735, 20.735, 20.735]\n",
      "[0, 7, 1, 22, 2, 9, 1, 0, 6, 17, 1, 10, 3, 9, 18, 13, 3, 2, 17, 8, 22, 13, 8, 3, 4, 21, 15, 22, 13, 16, 15, 3, 1, 12, 7, 2, 10, 14, 6, 14, 1, 21, 9, 3, 11, 5, 0, 10, 11, 20, 9, 22, 13, 23, 19, 21, 18, 2, 16, 4, 19, 17, 14, 21, 18, 19, 13, 4, 15, 23, 20, 13, 19, 17, 15, 8, 10]\n"
     ]
    }
   ],
   "source": [
    "csv_row = \"06727653EA13A8BC,0.85,0,0.85,7,0.85,1,0.85,22,1.535,2,1.535,9,2.656,1,2.656,0,2.656,6,3.764,17,3.764,1,3.764,10,3.764,3,4.848,9,4.848,18,4.848,13,4.848,3,5.778,2,5.778,17,5.778,8,5.778,22,6.406,13,6.406,8,6.406,3,7.478,4,7.478,21,7.478,15,8.536,22,8.536,13,8.536,16,9.501,15,9.501,3,9.501,1,9.501,12,10.457,7,10.457,2,10.457,10,11.004,14,11.004,6,11.999,14,11.999,1,12.929,21,12.929,9,12.929,3,14.083,11,14.083,5,14.083,0,15.103,10,15.103,11,15.103,20,15.103,9,15.951,22,15.951,13,15.951,23,16.455,19,16.455,21,16.455,18,16.455,2,17.015,16,17.015,4,17.015,19,17.015,17,17.522,14,17.522,21,17.522,18,17.522,19,18.591,13,18.591,4,18.591,15,18.591,23,19.779,20,19.779,13,19.779,19,19.779,17,20.735,15,20.735,8,20.735,10\"\n",
    "filename, time_array, note_array = parse_row(csv_row)\n",
    "print(time_array)\n",
    "print(note_array)"
   ]
  },
  {
   "cell_type": "code",
   "execution_count": 195,
   "metadata": {},
   "outputs": [],
   "source": [
    "def generate_midi_file(csv_row):\n",
    "    filename, time_array, note_array = parse_row(csv_row)\n",
    "    \n",
    "    # create your MIDI object\n",
    "    num_tracks = 5\n",
    "    mf = MIDIFile(num_tracks)     # only 1 track\n",
    "    track = 0   # the only track\n",
    "\n",
    "    time = 0    # start at the beginning\n",
    "#     mf.addTrackName(track, time, \"Sample Track\")\n",
    "#     mf.addTempo(track, time, 120)\n",
    "\n",
    "    # add some notes\n",
    "    channel = 0\n",
    "    volume = 100\n",
    "    \n",
    "    for i in range(len(time_array)):\n",
    "        track = (track + 1) % 5\n",
    "        \n",
    "        pitch = 60 + note_array[i]             # C4 (middle C)\n",
    "        time = time_array[i]                   # start on beat 0\n",
    "        duration = np.random.uniform(0.8,0.9)\n",
    "        volume = np.random.randint(50,100)     # 1 beat long\n",
    "        mf.addNote(track, channel, pitch, time, duration, volume)\n",
    "    \n",
    "    with open(\"./midifiles/{}.mid\".format(filename), 'wb') as outf:\n",
    "        mf.writeFile(outf)\n",
    "        \n",
    "    return filename"
   ]
  },
  {
   "cell_type": "code",
   "execution_count": 196,
   "metadata": {},
   "outputs": [
    {
     "data": {
      "text/plain": [
       "'06727653EA13A8BC'"
      ]
     },
     "execution_count": 196,
     "metadata": {},
     "output_type": "execute_result"
    }
   ],
   "source": [
    "generate_midi_file(csv_row)"
   ]
  },
  {
   "cell_type": "code",
   "execution_count": 197,
   "metadata": {},
   "outputs": [],
   "source": [
    "def convert_midi_to_signal(filename):\n",
    "    '''\n",
    "    Given filename, create soundfile.\n",
    "    It uses fluidsynth to convert the midifile from the directory \n",
    "    into a soundfile in another directory.\n",
    "    Installation of fluidsynth is necessary to run this.\n",
    "    https://github.com/FluidSynth/fluidsynth/wiki/BuildingWithCMake\n",
    "    returns mono signal - could we use stereo information for evaluation someday?\n",
    "    '''\n",
    "    soundfont_dir = \"~/soundfonts/Sonatina_Symphonic_Orchestra.sf2\"\n",
    "    \n",
    "    subprocess.run(\"fluidsynth -F ./soundfiles/{}.wav {} ./midifiles/{}.mid\"\n",
    "                   .format(filename,soundfont_dir,filename),shell=True)\n",
    "    sleep(0.2)\n",
    "    audio,sr = sf.read(\"./soundfiles/{}.wav\".format(filename))\n",
    "    if type(audio[0]) != float or type(audio[0]) != int: \n",
    "        # if stereo (expected)\n",
    "        signal = audio[:,0]  \n",
    "    else:    \n",
    "        # if mono (but I have yet to try this out)\n",
    "        signal = audio[:]\n",
    "    assert (signal[0] != float or signal[0] != int)\n",
    "    return signal"
   ]
  },
  {
   "cell_type": "code",
   "execution_count": 198,
   "metadata": {},
   "outputs": [],
   "source": [
    "signal = convert_midi_to_signal(filename)"
   ]
  },
  {
   "cell_type": "code",
   "execution_count": 199,
   "metadata": {},
   "outputs": [],
   "source": [
    "# save as spectrogram\n",
    "\n",
    "def save_array(signal, filename):\n",
    "    signal = signal[:44100*10]\n",
    "    sd.play(signal)\n",
    "    # signal += 0.0005*np.random.randn(len(signal))  # Gaussian\n",
    "    signal += np.cumsum(0.0005*np.random.randn(len(signal)))  # Brownian\n",
    "    fmin = librosa.core.note_to_hz(\"B3\")\n",
    "    cqt_array = librosa.cqt(signal, \n",
    "                            sr=44100, \n",
    "                            hop_length=2**7, \n",
    "                            bins_per_octave=36, \n",
    "                            fmin=fmin, \n",
    "                            n_bins=108)\n",
    "    CQT = librosa.magphase(cqt_array)[0]\n",
    "    assert np.shape(CQT) == (108,3446)\n",
    "    plt.imshow(CQT)\n",
    "    plt.show()\n",
    "    np.save(filename, CQT)"
   ]
  },
  {
   "cell_type": "code",
   "execution_count": 200,
   "metadata": {},
   "outputs": [
    {
     "data": {
      "image/png": "[encoded data removed]",
      "text/plain": [
       "<Figure size 432x288 with 1 Axes>"
      ]
     },
     "metadata": {},
     "output_type": "display_data"
    }
   ],
   "source": [
    "save_array(signal, filename)"
   ]
  },
  {
   "cell_type": "code",
   "execution_count": 201,
   "metadata": {},
   "outputs": [
    {
     "name": "stdout",
     "output_type": "stream",
     "text": [
      "(108, 3446)\n"
     ]
    },
    {
     "data": {
      "image/png": "[encoded data removed]",
      "text/plain": [
       "<Figure size 432x288 with 1 Axes>"
      ]
     },
     "metadata": {},
     "output_type": "display_data"
    }
   ],
   "source": [
    "loaded_CQT = np.load(filename+\".npy\")\n",
    "print(np.shape(loaded_CQT))\n",
    "plt.imshow(loaded_CQT)\n",
    "plt.show()"
   ]
  },
  {
   "cell_type": "code",
   "execution_count": 202,
   "metadata": {},
   "outputs": [],
   "source": [
    "def convert_csv(csv_file):\n",
    "    \n",
    "    with open(csv_file, 'r') as csvfile:\n",
    "        csv_rows = csvfile.read().split(\"\\n\")\n",
    "        \n",
    "    print(len(csv_rows))\n",
    "        \n",
    "    for csv_row in csv_rows:\n",
    "        filename = generate_midi_file(csv_row)\n",
    "        signal = convert_midi_to_signal(filename)\n",
    "        save_array(signal, \"./spectrograms/{}\".format(filename))\n",
    "        \n",
    "        \n",
    "#     for i,csv_row in \n",
    "#     return csv_rows\n"
   ]
  },
  {
   "cell_type": "code",
   "execution_count": 203,
   "metadata": {},
   "outputs": [
    {
     "name": "stdout",
     "output_type": "stream",
     "text": [
      "3\n"
     ]
    },
    {
     "data": {
      "image/png": "[encoded data removed]",
      "text/plain": [
       "<Figure size 432x288 with 1 Axes>"
      ]
     },
     "metadata": {},
     "output_type": "display_data"
    },
    {
     "data": {
      "image/png": "[encoded data removed]",
      "text/plain": [
       "<Figure size 432x288 with 1 Axes>"
      ]
     },
     "metadata": {},
     "output_type": "display_data"
    },
    {
     "data": {
      "image/png": "[encoded data removed]",
      "text/plain": [
       "<Figure size 432x288 with 1 Axes>"
      ]
     },
     "metadata": {},
     "output_type": "display_data"
    }
   ],
   "source": [
    "convert_csv('notes.csv')"
   ]
  },
  {
   "cell_type": "code",
   "execution_count": null,
   "metadata": {},
   "outputs": [],
   "source": []
  }
 ],
 "metadata": {
  "kernelspec": {
   "display_name": "Python 3",
   "language": "python",
   "name": "python3"
  },
  "language_info": {
   "codemirror_mode": {
    "name": "ipython",
    "version": 3
   },
   "file_extension": ".py",
   "mimetype": "text/x-python",
   "name": "python",
   "nbconvert_exporter": "python",
   "pygments_lexer": "ipython3",
   "version": "3.5.2"
  }
 },
 "nbformat": 4,
 "nbformat_minor": 2
}
