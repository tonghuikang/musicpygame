{
 "cells": [
  {
   "cell_type": "markdown",
   "metadata": {},
   "source": [
    "Generate scores in note-time form given the rules that we set.\n",
    "\n",
    "Outputs numpy files."
   ]
  },
  {
   "cell_type": "code",
   "execution_count": 1,
   "metadata": {},
   "outputs": [],
   "source": [
    "import numpy as np\n",
    "import random"
   ]
  },
  {
   "cell_type": "code",
   "execution_count": 2,
   "metadata": {},
   "outputs": [
    {
     "name": "stdout",
     "output_type": "stream",
     "text": [
      "mkdir: notes: File exists\n",
      "mkdir: midi: File exists\n",
      "mkdir: wav: File exists\n",
      "mkdir: wav_processed: File exists\n",
      "mkdir: spectrograms: File exists\n",
      "mkdir: label: File exists\n",
      "rm: ./spectrogram/*: No such file or directory\n",
      "rm: ./label/*: No such file or directory\n",
      "rm: *.pyc: No such file or directory\n"
     ]
    }
   ],
   "source": [
    "!mkdir notes\n",
    "!mkdir midi\n",
    "!mkdir wav\n",
    "!mkdir wav_processed\n",
    "!mkdir spectrograms\n",
    "!mkdir label\n",
    "!rm ./notes/*\n",
    "!rm ./midi/*\n",
    "!rm ./wav/*\n",
    "!rm ./wav_processed/*\n",
    "!rm ./spectrogram/*\n",
    "!rm ./label/*\n",
    "!rm *.pyc"
   ]
  },
  {
   "cell_type": "code",
   "execution_count": 3,
   "metadata": {},
   "outputs": [],
   "source": [
    "import x01_generate_notes"
   ]
  },
  {
   "cell_type": "code",
   "execution_count": 4,
   "metadata": {},
   "outputs": [],
   "source": [
    "for _ in range(3): # change this number to generate many many files\n",
    "    x01_generate_notes.generate_note_file()"
   ]
  },
  {
   "cell_type": "code",
   "execution_count": null,
   "metadata": {},
   "outputs": [],
   "source": []
  }
 ],
 "metadata": {
  "kernelspec": {
   "display_name": "Python [default]",
   "language": "python",
   "name": "python3"
  },
  "language_info": {
   "codemirror_mode": {
    "name": "ipython",
    "version": 3
   },
   "file_extension": ".py",
   "mimetype": "text/x-python",
   "name": "python",
   "nbconvert_exporter": "python",
   "pygments_lexer": "ipython3",
   "version": "3.6.4"
  }
 },
 "nbformat": 4,
 "nbformat_minor": 2
}
