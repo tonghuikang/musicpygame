{
 "cells": [
  {
   "cell_type": "markdown",
   "metadata": {},
   "source": [
    "# Regression model for note splitting"
   ]
  },
  {
   "cell_type": "code",
   "execution_count": 1,
   "metadata": {
    "collapsed": true
   },
   "outputs": [],
   "source": [
    "import numpy as np\n",
    "import soundfile as sf"
   ]
  },
  {
   "cell_type": "markdown",
   "metadata": {},
   "source": [
    "# Using pandas library"
   ]
  },
  {
   "cell_type": "code",
   "execution_count": 2,
   "metadata": {
    "collapsed": true
   },
   "outputs": [],
   "source": [
    "import statsmodels.api as sm\n",
    "import pandas as pd "
   ]
  },
  {
   "cell_type": "code",
   "execution_count": 5,
   "metadata": {
    "collapsed": false
   },
   "outputs": [
    {
     "name": "stdout",
     "output_type": "stream",
     "text": [
      "[ 0.19989014  0.33406753  0.24234739 ..., -0.0082267  -0.00873673\n",
      " -0.00867961]\n",
      "summary:                             OLS Regression Results                            \n",
      "==============================================================================\n",
      "Dep. Variable:                      0   R-squared:                       0.855\n",
      "Model:                            OLS   Adj. R-squared:                  0.854\n",
      "Method:                 Least Squares   F-statistic:                     999.2\n",
      "Date:                Sat, 12 May 2018   Prob (F-statistic):               0.00\n",
      "Time:                        03:46:29   Log-Likelihood:                -625.93\n",
      "No. Observations:                2048   AIC:                             1276.\n",
      "Df Residuals:                    2036   BIC:                             1343.\n",
      "Df Model:                          12                                         \n",
      "Covariance Type:            nonrobust                                         \n",
      "==============================================================================\n",
      "                 coef    std err          t      P>|t|      [95.0% Conf. Int.]\n",
      "------------------------------------------------------------------------------\n",
      "0              0.0139      0.008      1.727      0.084        -0.002     0.030\n",
      "1              0.4761      0.006     77.280      0.000         0.464     0.488\n",
      "2              0.0127      0.023      0.557      0.578        -0.032     0.058\n",
      "3             -0.0128      0.030     -0.425      0.671        -0.072     0.046\n",
      "4             -0.1183      0.008    -14.747      0.000        -0.134    -0.103\n",
      "5             -0.0196      0.011     -1.754      0.080        -0.041     0.002\n",
      "6              0.0204      0.008      2.704      0.007         0.006     0.035\n",
      "7             -0.7172      0.011    -68.295      0.000        -0.738    -0.697\n",
      "8              0.0366      0.017      2.198      0.028         0.004     0.069\n",
      "9              0.0168      0.008      2.202      0.028         0.002     0.032\n",
      "10             0.0108      0.010      1.025      0.305        -0.010     0.031\n",
      "11            -0.2744      0.011    -25.148      0.000        -0.296    -0.253\n",
      "==============================================================================\n",
      "Omnibus:                      907.720   Durbin-Watson:                   1.773\n",
      "Prob(Omnibus):                  0.000   Jarque-Bera (JB):          2349467.682\n",
      "Skew:                          -0.010   Prob(JB):                         0.00\n",
      "Kurtosis:                     168.930   Cond. No.                         5.12\n",
      "==============================================================================\n",
      "\n",
      "Warnings:\n",
      "[1] Standard Errors assume that the covariance matrix of the errors is correctly specified.\n"
     ]
    }
   ],
   "source": [
    "filename = 'C4_61_64_67_71.wav'\n",
    "\n",
    "#number of keys (should be 12) to be considered here\n",
    "num_notes = 12\n",
    "\n",
    "#level of significance\n",
    "alpha = 0.00001\n",
    "\n",
    "# assuming that we have 12 vectors of length 4096: A,A_sharp,B.......G_sharp\n",
    "#these are the fourier transforms of the notes\n",
    "# then we can make a matrix X, with the columns as these notes\n",
    "\n",
    "#X is a 2048 by 12 matrix\n",
    "X = np.zeros((2048,num_notes))\n",
    "\n",
    "\n",
    "#reading the sound file\n",
    "\n",
    "for i in range(12):\n",
    "    ref, sample_rate = sf.read('C4_' + str(i+60) +'_x_x_x.wav')\n",
    "    note = np.fft.fft(ref[20000:24096,0]) \n",
    "    note_new = note.real[0:len(note)/2]\n",
    "    X[:,i] = note_new\n",
    "    \n",
    "\n",
    "ref, sample_rate = sf.read(filename)\n",
    "note = np.fft.fft(ref[20000:24096,0])\n",
    "note_new = note.real[0:len(note)/2]\n",
    "Y = note_new\n",
    "print Y\n",
    "\n",
    "\n",
    "# define the predictors and target values in data frames\n",
    "x = pd.DataFrame(X)\n",
    "y = pd.DataFrame(Y)\n",
    "\n",
    "# Note the difference in argument order\n",
    "model = sm.OLS(y, x).fit()\n",
    "predictions = model.predict(x) # make the predictions by the model\n",
    "\n",
    "# Print out the statistics\n",
    "print \"summary:\", model.summary()\n"
   ]
  },
  {
   "cell_type": "code",
   "execution_count": 6,
   "metadata": {
    "collapsed": false
   },
   "outputs": [
    {
     "name": "stdout",
     "output_type": "stream",
     "text": [
      "r-squared value: 0.854838984231\n",
      "[61, 64, 67, 71]\n",
      "mystery chord is C4_61_64_67_71.wav\n",
      "degree of significance, alpha is: 1e-05\n"
     ]
    }
   ],
   "source": [
    "print \"r-squared value:\", model.rsquared\n",
    "\n",
    "involved_notes = []\n",
    "for i in range(len(model.pvalues)):\n",
    "    if model.pvalues[i] < alpha:\n",
    "        involved_notes.append(i+60)\n",
    "                      \n",
    "print involved_notes\n",
    "print \"mystery chord is\", filename\n",
    "print \"degree of significance, alpha is:\", alpha"
   ]
  },
  {
   "cell_type": "code",
   "execution_count": null,
   "metadata": {
    "collapsed": true
   },
   "outputs": [],
   "source": []
  }
 ],
 "metadata": {
  "kernelspec": {
   "display_name": "Python 2",
   "language": "python",
   "name": "python2"
  },
  "language_info": {
   "codemirror_mode": {
    "name": "ipython",
    "version": 2
   },
   "file_extension": ".py",
   "mimetype": "text/x-python",
   "name": "python",
   "nbconvert_exporter": "python",
   "pygments_lexer": "ipython2",
   "version": "2.7.13"
  }
 },
 "nbformat": 4,
 "nbformat_minor": 2
}
