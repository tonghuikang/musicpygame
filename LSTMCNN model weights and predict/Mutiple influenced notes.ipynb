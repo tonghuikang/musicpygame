{
 "cells": [
  {
   "cell_type": "code",
   "execution_count": 1,
   "metadata": {
    "scrolled": false
   },
   "outputs": [
    {
     "name": "stderr",
     "output_type": "stream",
     "text": [
      "Using TensorFlow backend.\n"
     ]
    }
   ],
   "source": [
    "import pandas as pd\n",
    "import numpy as np\n",
    "import glob\n",
    "import gc\n",
    "import keras \n",
    "from keras.layers import LSTM, Dense, TimeDistributed, Dropout, MaxPooling2D, Conv2D, Input\n",
    "from keras.layers import Flatten, BatchNormalization, Activation, Reshape, concatenate\n",
    "from keras.models import Model\n",
    "import random\n",
    "from sklearn.model_selection import KFold\n",
    "import keras.backend as K\n",
    "from sklearn.utils import class_weight"
   ]
  },
  {
   "cell_type": "code",
   "execution_count": 2,
   "metadata": {},
   "outputs": [],
   "source": [
    "gc.enable()"
   ]
  },
  {
   "cell_type": "code",
   "execution_count": 3,
   "metadata": {},
   "outputs": [],
   "source": [
    "steps = 5\n",
    "height = 108\n",
    "width = 108"
   ]
  },
  {
   "cell_type": "code",
   "execution_count": 4,
   "metadata": {},
   "outputs": [],
   "source": [
    "#change the path to where you save the input numpy arrays\n",
    "lstm = np.array(glob.glob('E:/notes_database/lstm_inputs/*'))\n",
    "cnn = np.array(glob.glob('E:/notes_database/cnn_inputs/*'))\n",
    "y_train = np.array(glob.glob('E:/notes_database/y_train/*'))"
   ]
  },
  {
   "cell_type": "code",
   "execution_count": 5,
   "metadata": {},
   "outputs": [],
   "source": [
    "#The function analyzes the actual accuracy\n",
    "def load_test_score(model, cnn_test, lstm_test, y_test):\n",
    "    prediction = model.predict([cnn_test, lstm_test])\n",
    "    error = (prediction - y_test) ** 2\n",
    "    error = (error/y_test.shape[0]).sum()\n",
    "    wrong = 0\n",
    "    for x in range(prediction.shape[0]):\n",
    "        for y in range(prediction.shape[1]):\n",
    "            if abs(prediction[x][y] - y_test[x][y]) > 0.5:\n",
    "                wrong += 1\n",
    "                break\n",
    "    accuracy = 1 - wrong/(prediction.shape[0])\n",
    "    return error, accuracy"
   ]
  },
  {
   "cell_type": "code",
   "execution_count": 6,
   "metadata": {},
   "outputs": [],
   "source": [
    "def inputs_to_model(order, num, start, ending):\n",
    "    cnn_inputs = np.load(cnn[order[num][0]])\n",
    "    labels_inputs = np.load(y_train[order[num][0]])\n",
    "    lstm_inputs = np.load(lstm[order[num][0]])\n",
    "    \n",
    "    count = 0\n",
    "    ce = 0\n",
    "    for file in order[num][start+1:ending]:\n",
    "        if count == ce + 50:\n",
    "            print(count)\n",
    "            ce = count\n",
    "        count+=1\n",
    "        \n",
    "        lstm_inputs = np.append(lstm_inputs, np.load(lstm[file]), axis=0)\n",
    "        cnn_inputs = np.append(cnn_inputs, np.load(cnn[file]), axis=0)\n",
    "        labels_inputs = np.append(labels_inputs, np.load(y_train[file]), axis=0)\n",
    "        \n",
    "    return lstm_inputs, cnn_inputs, labels_inputs"
   ]
  },
  {
   "cell_type": "code",
   "execution_count": 7,
   "metadata": {},
   "outputs": [],
   "source": [
    "def main(optimizer='adam', loss='mean_squared_error', metrix='accuracy'):\n",
    "    #cnn\n",
    "    cnn_inputs = Input(shape=(height, width, 1), name='cnn_inputs')\n",
    "    layers = Conv2D(32, (3,3), padding=\"same\", activation=\"relu\")(cnn_inputs)\n",
    "    layers = BatchNormalization()(layers)\n",
    "    layers = MaxPooling2D(2,2, border_mode='same')(layers)\n",
    "    layers = Conv2D(32, (3,3), activation='relu')(layers)\n",
    "    layers = BatchNormalization()(layers)\n",
    "    layers = MaxPooling2D(2,2, border_mode='same')(layers)\n",
    "    layers = Conv2D(64, (3,3), activation='relu')(layers)\n",
    "    layers = BatchNormalization()(layers)\n",
    "    layers = MaxPooling2D(2,2, border_mode='same')(layers)\n",
    "    layers = Conv2D(64, (3,3), activation='relu')(layers)\n",
    "    layers = BatchNormalization()(layers)\n",
    "    layers = MaxPooling2D(2,2, border_mode='same')(layers)\n",
    "    layers = Flatten()(layers)\n",
    "    layers = Dropout(0.3)(layers)\n",
    "    layers = Dense(32, activation='relu')(layers)\n",
    "    \n",
    "    #lstm\n",
    "    lstm_inputs = Input(shape=(steps, 24), name='lstm_inputs')\n",
    "    lstm_layers = LSTM(16, return_sequences=True)(lstm_inputs)\n",
    "    lstm_layers = LSTM(32)(lstm_layers)\n",
    "    lstm_layers = Dense(32, activation='relu')(lstm_layers)\n",
    "    lstm_layers = Dense(24, activation='relu')(lstm_layers)\n",
    "    \n",
    "    #main route\n",
    "    main_ = concatenate([layers, lstm_layers])\n",
    "    main_ = BatchNormalization()(main_)\n",
    "    main_ = Dense(64, activation='relu')(main_)\n",
    "    main_ = Dense(64, activation='relu')(main_)\n",
    "    output = Dense(24, activation='sigmoid')(main_)\n",
    "    \n",
    "    model = Model(inputs=[cnn_inputs, lstm_inputs], outputs=[output])\n",
    "    model.compile(optimizer=optimizer, loss=loss, metrics=[metrix])\n",
    "    return model"
   ]
  },
  {
   "cell_type": "code",
   "execution_count": 8,
   "metadata": {},
   "outputs": [],
   "source": [
    "def main_2(optimizer, loss):\n",
    "    #cnn\n",
    "    cnn_inputs = Input(shape=(height, width, 1), name='cnn_inputs')\n",
    "    layers = Conv2D(32, (3,3), padding=\"same\", activation=\"relu\")(cnn_inputs)\n",
    "    layers = BatchNormalization()(layers)\n",
    "    layers = Dropout(0.3)(layers)\n",
    "    layers = MaxPooling2D(2,2, border_mode='same')(layers)\n",
    "    layers = Conv2D(32, (3,3), activation='relu')(layers)\n",
    "    layers = Conv2D(64, (3,3), activation='relu')(layers)\n",
    "    layers = BatchNormalization()(layers)\n",
    "    layers = MaxPooling2D(2,2, border_mode='same')(layers)\n",
    "    layers = Conv2D(64, (3,3), activation='relu')(layers)\n",
    "    layers = Conv2D(32, (3,3), activation='relu')(layers)\n",
    "    layers = BatchNormalization()(layers)\n",
    "    layers = MaxPooling2D(2,2, border_mode='same')(layers)\n",
    "    layers = Conv2D(32, (3,3), activation='relu')(layers)\n",
    "    layers = BatchNormalization()(layers)\n",
    "    layers = Flatten()(layers)\n",
    "    layers = Dense(32, activation='relu')(layers)\n",
    "    \n",
    "    #lstm\n",
    "    lstm_inputs = Input(shape=(steps, 24), name='lstm_inputs')\n",
    "    lstm_layers = LSTM(16, return_sequences=True)(lstm_inputs)\n",
    "    lstm_layers = LSTM(32, return_sequences=True)(lstm_layers)\n",
    "    lstm_layers = LSTM(64, return_sequences=True)(lstm_layers)\n",
    "    lstm_layers = LSTM(32)(lstm_layers)\n",
    "    lstm_layers = Dense(32, activation='relu')(lstm_layers)\n",
    "    lstm_layers = Dense(24, activation='relu')(lstm_layers)\n",
    "    \n",
    "    #main route\n",
    "    main_ = concatenate([layers, lstm_layers])\n",
    "    main_ = BatchNormalization()(main_)\n",
    "    main_ = Dense(64, activation='relu')(main_)\n",
    "    main_ = Dense(64, activation='relu')(main_)\n",
    "    output = Dense(24, activation='sigmoid')(main_)\n",
    "    \n",
    "    model = Model(inputs=[cnn_inputs, lstm_inputs], outputs=[output])\n",
    "    model.compile(optimizer=optimizer, loss=loss, metrics=['accuracy'])\n",
    "    return model"
   ]
  },
  {
   "cell_type": "code",
   "execution_count": 9,
   "metadata": {},
   "outputs": [],
   "source": [
    "def main_3(optimizer='adam', loss='mean_squared_error', metrix='accuracy'):\n",
    "    #cnn\n",
    "    cnn_inputs = Input(shape=(height, width, 1), name='cnn_inputs')\n",
    "    layers = Conv2D(32, (3,3), padding=\"same\", activation=\"relu\")(cnn_inputs)\n",
    "    layers = BatchNormalization()(layers)\n",
    "    layers = MaxPooling2D(2,2, border_mode='same')(layers)\n",
    "    layers = Conv2D(32, (3,3), activation='relu')(layers)\n",
    "    layers = BatchNormalization()(layers)\n",
    "    layers = MaxPooling2D(2,2, border_mode='same')(layers)\n",
    "    layers = Flatten()(layers)\n",
    "    layers = Dropout(0.3)(layers)\n",
    "    layers = Dense(32, activation='relu')(layers)\n",
    "    \n",
    "    #lstm\n",
    "    lstm_inputs = Input(shape=(steps, 24), name='lstm_inputs')\n",
    "    lstm_layers = LSTM(16, return_sequences=True)(lstm_inputs)\n",
    "    lstm_layers = LSTM(16)(lstm_layers)\n",
    "    lstm_layers = Dense(24, activation='relu')(lstm_layers)\n",
    "    \n",
    "    #main route\n",
    "    main_ = concatenate([layers, lstm_layers])\n",
    "    main_ = BatchNormalization()(main_)\n",
    "    main_ = Dense(64, activation='relu')(main_)\n",
    "    output = Dense(24, activation='sigmoid')(main_)\n",
    "    \n",
    "    model = Model(inputs=[cnn_inputs, lstm_inputs], outputs=[output])\n",
    "    model.compile(optimizer=optimizer, loss=loss, metrics=[metrix])\n",
    "    return model"
   ]
  },
  {
   "cell_type": "code",
   "execution_count": 17,
   "metadata": {},
   "outputs": [],
   "source": [
    "def train_test_whole(classifier, num, name, epochs=100, batchsize=32):\n",
    "    lstm_inputs, cnn_inputs, labels_inputs = inputs_to_model(train_order, num, 0, train_order[num].shape[0]+1)\n",
    "    \n",
    "    classifier.fit([cnn_inputs, lstm_inputs], labels_inputs, epochs=epochs, batch_size=batchsize, verbose=1,\n",
    "                  validation_data = ([cnn_test, lstm_test], labels_test))\n",
    "    \n",
    "    #CV_loss, accuracy = load_test_score(classifier, cnn_test, lstm_test, y_test)\n",
    "    #print('val_loss: ', CV_loss)\n",
    "    #print('val_accuarcy', accuracy)\n",
    "    \n",
    "    classifier.save_weights(name, overwrite=True)   \n",
    "    del classifier\n",
    "    K.clear_session()"
   ]
  },
  {
   "cell_type": "code",
   "execution_count": 14,
   "metadata": {
    "scrolled": true
   },
   "outputs": [],
   "source": [
    "#Generate the CV sets\n",
    "kf = KFold(n_splits=3, random_state=7)\n",
    "\n",
    "train_order = []\n",
    "test_order = []\n",
    "length = np.arange(len(lstm))\n",
    "\n",
    "for x,y in kf.split(length):\n",
    "    train_order.append(length[x])\n",
    "    test_order.append(length[y])\n",
    "train_order = np.array(train_order)\n",
    "test_order = np.array(test_order)"
   ]
  },
  {
   "cell_type": "code",
   "execution_count": 15,
   "metadata": {},
   "outputs": [
    {
     "name": "stdout",
     "output_type": "stream",
     "text": [
      "50\n"
     ]
    }
   ],
   "source": [
    "lstm_test, cnn_test, labels_test = inputs_to_model(test_order, 0, 0, test_order[0].shape[0]+1)"
   ]
  },
  {
   "cell_type": "code",
   "execution_count": 12,
   "metadata": {
    "collapsed": true
   },
   "outputs": [
    {
     "name": "stderr",
     "output_type": "stream",
     "text": [
      "c:\\users\\zheng\\anaconda3\\envs\\tensorflow-gpu\\lib\\site-packages\\ipykernel_launcher.py:6: UserWarning: Update your `MaxPooling2D` call to the Keras 2 API: `MaxPooling2D(2, 2, padding=\"same\")`\n",
      "  \n",
      "c:\\users\\zheng\\anaconda3\\envs\\tensorflow-gpu\\lib\\site-packages\\ipykernel_launcher.py:9: UserWarning: Update your `MaxPooling2D` call to the Keras 2 API: `MaxPooling2D(2, 2, padding=\"same\")`\n",
      "  if __name__ == '__main__':\n"
     ]
    },
    {
     "name": "stdout",
     "output_type": "stream",
     "text": [
      "50\n",
      "50\n",
      "100\n",
      "Train on 72054 samples, validate on 36454 samples\n",
      "Epoch 1/50\n",
      "72054/72054 [==============================] - 74s 1ms/step - loss: 0.0590 - acc: 0.9805 - val_loss: 0.1714 - val_acc: 0.9374\n",
      "Epoch 2/50\n",
      "72054/72054 [==============================] - 69s 951us/step - loss: 0.0344 - acc: 0.9895 - val_loss: 0.0422 - val_acc: 0.9886\n",
      "Epoch 3/50\n",
      "72054/72054 [==============================] - 69s 964us/step - loss: 0.0304 - acc: 0.9909 - val_loss: 0.0405 - val_acc: 0.9891\n",
      "Epoch 4/50\n",
      "72054/72054 [==============================] - 68s 949us/step - loss: 0.0282 - acc: 0.9915 - val_loss: 0.0288 - val_acc: 0.9917\n",
      "Epoch 5/50\n",
      "72054/72054 [==============================] - 69s 960us/step - loss: 0.0267 - acc: 0.9920 - val_loss: 0.0259 - val_acc: 0.9924\n",
      "Epoch 6/50\n",
      "72054/72054 [==============================] - 70s 965us/step - loss: 0.0256 - acc: 0.9923 - val_loss: 0.0294 - val_acc: 0.9917\n",
      "Epoch 7/50\n",
      "72054/72054 [==============================] - 71s 981us/step - loss: 0.0244 - acc: 0.9927 - val_loss: 0.0279 - val_acc: 0.9921\n",
      "Epoch 8/50\n",
      "72054/72054 [==============================] - 72s 1ms/step - loss: 0.0238 - acc: 0.9928 - val_loss: 0.0280 - val_acc: 0.9922\n",
      "Epoch 9/50\n",
      "72054/72054 [==============================] - 73s 1ms/step - loss: 0.0233 - acc: 0.9930 - val_loss: 0.0256 - val_acc: 0.9929\n",
      "Epoch 10/50\n",
      "72054/72054 [==============================] - 70s 975us/step - loss: 0.0227 - acc: 0.9932 - val_loss: 0.0287 - val_acc: 0.9928\n",
      "Epoch 11/50\n",
      "72054/72054 [==============================] - 71s 987us/step - loss: 0.0225 - acc: 0.9932 - val_loss: 0.0244 - val_acc: 0.9933\n",
      "Epoch 12/50\n",
      "72054/72054 [==============================] - 71s 990us/step - loss: 0.0218 - acc: 0.9934 - val_loss: 0.0265 - val_acc: 0.9925\n",
      "Epoch 13/50\n",
      "72054/72054 [==============================] - 71s 980us/step - loss: 0.0216 - acc: 0.9935 - val_loss: 0.0244 - val_acc: 0.9933\n",
      "Epoch 14/50\n",
      "72054/72054 [==============================] - 71s 983us/step - loss: 0.0212 - acc: 0.9935 - val_loss: 0.0237 - val_acc: 0.9932\n",
      "Epoch 15/50\n",
      "72054/72054 [==============================] - 71s 984us/step - loss: 0.0209 - acc: 0.9936 - val_loss: 0.0288 - val_acc: 0.9918\n",
      "Epoch 16/50\n",
      "72054/72054 [==============================] - 71s 982us/step - loss: 0.0207 - acc: 0.9937 - val_loss: 0.0242 - val_acc: 0.9933\n",
      "Epoch 17/50\n",
      "72054/72054 [==============================] - 71s 986us/step - loss: 0.0206 - acc: 0.9938 - val_loss: 0.0248 - val_acc: 0.9933\n",
      "Epoch 18/50\n",
      "72054/72054 [==============================] - 72s 1ms/step - loss: 0.0204 - acc: 0.9938 - val_loss: 0.0241 - val_acc: 0.9934\n",
      "Epoch 19/50\n",
      "72054/72054 [==============================] - 71s 987us/step - loss: 0.0202 - acc: 0.9939 - val_loss: 0.0268 - val_acc: 0.9931\n",
      "Epoch 20/50\n",
      "72054/72054 [==============================] - 72s 993us/step - loss: 0.0199 - acc: 0.9940 - val_loss: 0.0289 - val_acc: 0.9932\n",
      "Epoch 21/50\n",
      "72054/72054 [==============================] - 70s 970us/step - loss: 0.0198 - acc: 0.9940 - val_loss: 0.0237 - val_acc: 0.9935\n",
      "Epoch 22/50\n",
      "72054/72054 [==============================] - 71s 985us/step - loss: 0.0195 - acc: 0.9941 - val_loss: 0.0237 - val_acc: 0.9935\n",
      "Epoch 23/50\n",
      "72054/72054 [==============================] - 71s 988us/step - loss: 0.0197 - acc: 0.9940 - val_loss: 0.0230 - val_acc: 0.9936\n",
      "Epoch 24/50\n",
      "72054/72054 [==============================] - 73s 1ms/step - loss: 0.0193 - acc: 0.9941 - val_loss: 0.0240 - val_acc: 0.9934\n",
      "Epoch 25/50\n",
      "72054/72054 [==============================] - 72s 1ms/step - loss: 0.0193 - acc: 0.9941 - val_loss: 0.0236 - val_acc: 0.9937\n",
      "Epoch 26/50\n",
      "72054/72054 [==============================] - 71s 986us/step - loss: 0.0193 - acc: 0.9941 - val_loss: 0.0237 - val_acc: 0.9938\n",
      "Epoch 27/50\n",
      "72054/72054 [==============================] - 71s 988us/step - loss: 0.0190 - acc: 0.9942 - val_loss: 0.0235 - val_acc: 0.9935\n",
      "Epoch 28/50\n",
      "72054/72054 [==============================] - 71s 990us/step - loss: 0.0191 - acc: 0.9942 - val_loss: 0.0240 - val_acc: 0.9935\n",
      "Epoch 29/50\n",
      "72054/72054 [==============================] - 73s 1ms/step - loss: 0.0189 - acc: 0.9942 - val_loss: 0.0246 - val_acc: 0.9934\n",
      "Epoch 30/50\n",
      "72054/72054 [==============================] - 72s 994us/step - loss: 0.0190 - acc: 0.9942 - val_loss: 0.0247 - val_acc: 0.9935\n",
      "Epoch 31/50\n",
      "72054/72054 [==============================] - 72s 998us/step - loss: 0.0188 - acc: 0.9943 - val_loss: 0.0258 - val_acc: 0.9932\n",
      "Epoch 32/50\n",
      "72054/72054 [==============================] - 72s 1ms/step - loss: 0.0186 - acc: 0.9943 - val_loss: 0.0260 - val_acc: 0.9936\n",
      "Epoch 33/50\n",
      "72054/72054 [==============================] - 72s 1000us/step - loss: 0.0186 - acc: 0.9944 - val_loss: 0.0242 - val_acc: 0.9935\n",
      "Epoch 34/50\n",
      "72054/72054 [==============================] - 70s 967us/step - loss: 0.0185 - acc: 0.9944 - val_loss: 0.0250 - val_acc: 0.9935\n",
      "Epoch 35/50\n",
      "72054/72054 [==============================] - 70s 968us/step - loss: 0.0184 - acc: 0.9944 - val_loss: 0.0248 - val_acc: 0.9932\n",
      "Epoch 36/50\n",
      "72054/72054 [==============================] - 70s 967us/step - loss: 0.0187 - acc: 0.9943 - val_loss: 0.0305 - val_acc: 0.9933\n",
      "Epoch 37/50\n",
      "72054/72054 [==============================] - 70s 967us/step - loss: 0.0183 - acc: 0.9944 - val_loss: 1.0934 - val_acc: 0.9020\n",
      "Epoch 38/50\n",
      "72054/72054 [==============================] - 70s 967us/step - loss: 0.0184 - acc: 0.9944 - val_loss: 0.0237 - val_acc: 0.9937\n",
      "Epoch 39/50\n",
      "72054/72054 [==============================] - 70s 966us/step - loss: 0.0185 - acc: 0.9944 - val_loss: 0.0239 - val_acc: 0.9937\n",
      "Epoch 40/50\n",
      "72054/72054 [==============================] - 70s 966us/step - loss: 0.0182 - acc: 0.9945 - val_loss: 0.0238 - val_acc: 0.9937\n",
      "Epoch 41/50\n",
      "72054/72054 [==============================] - 70s 967us/step - loss: 0.0182 - acc: 0.9945 - val_loss: 0.0239 - val_acc: 0.9938\n",
      "Epoch 42/50\n",
      "72054/72054 [==============================] - 70s 966us/step - loss: 0.0182 - acc: 0.9944 - val_loss: 0.0238 - val_acc: 0.9937\n",
      "Epoch 43/50\n",
      "72054/72054 [==============================] - 70s 967us/step - loss: 0.0181 - acc: 0.9945 - val_loss: 0.0248 - val_acc: 0.9936\n",
      "Epoch 44/50\n",
      "72054/72054 [==============================] - 70s 968us/step - loss: 0.0180 - acc: 0.9945 - val_loss: 0.0246 - val_acc: 0.9937\n",
      "Epoch 45/50\n",
      "72054/72054 [==============================] - 70s 967us/step - loss: 0.0181 - acc: 0.9945 - val_loss: 0.0233 - val_acc: 0.9939\n",
      "Epoch 46/50\n",
      "72054/72054 [==============================] - 69s 963us/step - loss: 0.0180 - acc: 0.9945 - val_loss: 0.0261 - val_acc: 0.9933\n",
      "Epoch 47/50\n",
      "72054/72054 [==============================] - 68s 942us/step - loss: 0.0178 - acc: 0.9945 - val_loss: 0.0236 - val_acc: 0.9937\n",
      "Epoch 48/50\n",
      "72054/72054 [==============================] - 68s 942us/step - loss: 0.0179 - acc: 0.9945 - val_loss: 0.0249 - val_acc: 0.9936\n",
      "Epoch 49/50\n",
      "72054/72054 [==============================] - 68s 943us/step - loss: 0.0177 - acc: 0.9946 - val_loss: 0.0238 - val_acc: 0.9939\n",
      "Epoch 50/50\n",
      "72054/72054 [==============================] - 68s 943us/step - loss: 0.0178 - acc: 0.9946 - val_loss: 0.0227 - val_acc: 0.9940\n"
     ]
    },
    {
     "data": {
      "text/plain": [
       "18648"
      ]
     },
     "execution_count": 12,
     "metadata": {},
     "output_type": "execute_result"
    }
   ],
   "source": [
    "adam = keras.optimizers.Adam(lr=0.01)\n",
    "classifier = main_3(optimizer=adam, loss='binary_crossentropy')\n",
    "train_test_whole(classifier, 0, 'weight-spectrums2-simpler-lstmcnn.hdf5', epochs=50)\n",
    "gc.collect()"
   ]
  },
  {
   "cell_type": "code",
   "execution_count": 18,
   "metadata": {
    "scrolled": true
   },
   "outputs": [
    {
     "name": "stderr",
     "output_type": "stream",
     "text": [
      "c:\\users\\zheng\\anaconda3\\envs\\tensorflow-gpu\\lib\\site-packages\\ipykernel_launcher.py:6: UserWarning: Update your `MaxPooling2D` call to the Keras 2 API: `MaxPooling2D(2, 2, padding=\"same\")`\n",
      "  \n",
      "c:\\users\\zheng\\anaconda3\\envs\\tensorflow-gpu\\lib\\site-packages\\ipykernel_launcher.py:9: UserWarning: Update your `MaxPooling2D` call to the Keras 2 API: `MaxPooling2D(2, 2, padding=\"same\")`\n",
      "  if __name__ == '__main__':\n"
     ]
    },
    {
     "data": {
      "text/plain": [
       "(0.13227028, 0.9193229823887639)"
      ]
     },
     "execution_count": 18,
     "metadata": {},
     "output_type": "execute_result"
    }
   ],
   "source": [
    "classifier = main_3(loss='binary_crossentropy')\n",
    "classifier.load_weights('weight-spectrums2-simpler-lstmcnn.hdf5')\n",
    "load_test_score(classifier, cnn_test, lstm_test, labels_test)"
   ]
  },
  {
   "cell_type": "code",
   "execution_count": 14,
   "metadata": {
    "scrolled": true
   },
   "outputs": [
    {
     "name": "stderr",
     "output_type": "stream",
     "text": [
      "c:\\users\\zheng\\anaconda3\\envs\\tensorflow-gpu\\lib\\site-packages\\ipykernel_launcher.py:7: UserWarning: Update your `MaxPooling2D` call to the Keras 2 API: `MaxPooling2D(2, 2, padding=\"same\")`\n",
      "  import sys\n",
      "c:\\users\\zheng\\anaconda3\\envs\\tensorflow-gpu\\lib\\site-packages\\ipykernel_launcher.py:11: UserWarning: Update your `MaxPooling2D` call to the Keras 2 API: `MaxPooling2D(2, 2, padding=\"same\")`\n",
      "  # This is added back by InteractiveShellApp.init_path()\n",
      "c:\\users\\zheng\\anaconda3\\envs\\tensorflow-gpu\\lib\\site-packages\\ipykernel_launcher.py:15: UserWarning: Update your `MaxPooling2D` call to the Keras 2 API: `MaxPooling2D(2, 2, padding=\"same\")`\n",
      "  from ipykernel import kernelapp as app\n"
     ]
    },
    {
     "name": "stdout",
     "output_type": "stream",
     "text": [
      "50\n",
      "50\n",
      "100\n",
      "Train on 72054 samples, validate on 36454 samples\n",
      "Epoch 1/30\n",
      "72054/72054 [==============================] - 120s 2ms/step - loss: 0.0976 - acc: 0.9665 - val_loss: 0.0847 - val_acc: 0.9715\n",
      "Epoch 2/30\n",
      "72054/72054 [==============================] - 116s 2ms/step - loss: 0.0510 - acc: 0.9844 - val_loss: 0.1273 - val_acc: 0.9759\n",
      "Epoch 3/30\n",
      "72054/72054 [==============================] - 116s 2ms/step - loss: 0.0431 - acc: 0.9871 - val_loss: 0.1006 - val_acc: 0.9826\n",
      "Epoch 4/30\n",
      "72054/72054 [==============================] - 116s 2ms/step - loss: 0.0384 - acc: 0.9886 - val_loss: 0.0864 - val_acc: 0.9866\n",
      "Epoch 5/30\n",
      "72054/72054 [==============================] - 116s 2ms/step - loss: 0.0353 - acc: 0.9896 - val_loss: 0.1546 - val_acc: 0.9788\n",
      "Epoch 6/30\n",
      "72054/72054 [==============================] - 116s 2ms/step - loss: 0.0332 - acc: 0.9903 - val_loss: 0.1435 - val_acc: 0.9763\n",
      "Epoch 7/30\n",
      "72054/72054 [==============================] - 116s 2ms/step - loss: 0.0315 - acc: 0.9908 - val_loss: 0.0298 - val_acc: 0.9915\n",
      "Epoch 8/30\n",
      "72054/72054 [==============================] - 116s 2ms/step - loss: 0.0299 - acc: 0.9913 - val_loss: 0.0327 - val_acc: 0.9910\n",
      "Epoch 9/30\n",
      "72054/72054 [==============================] - 116s 2ms/step - loss: 0.0285 - acc: 0.9917 - val_loss: 2.1518 - val_acc: 0.8468\n",
      "Epoch 10/30\n",
      "72054/72054 [==============================] - 117s 2ms/step - loss: 0.0283 - acc: 0.9918 - val_loss: 0.1409 - val_acc: 0.9833\n",
      "Epoch 11/30\n",
      "72054/72054 [==============================] - 118s 2ms/step - loss: 0.0271 - acc: 0.9921 - val_loss: 0.0295 - val_acc: 0.9920\n",
      "Epoch 12/30\n",
      "72054/72054 [==============================] - 116s 2ms/step - loss: 0.0266 - acc: 0.9924 - val_loss: 0.0596 - val_acc: 0.9880\n",
      "Epoch 13/30\n",
      "72054/72054 [==============================] - 116s 2ms/step - loss: 0.0259 - acc: 0.9925 - val_loss: 0.0320 - val_acc: 0.9914\n",
      "Epoch 14/30\n",
      "72054/72054 [==============================] - 116s 2ms/step - loss: 0.0257 - acc: 0.9926 - val_loss: 0.0290 - val_acc: 0.9918\n",
      "Epoch 15/30\n",
      "72054/72054 [==============================] - 116s 2ms/step - loss: 0.0249 - acc: 0.9928 - val_loss: 0.0963 - val_acc: 0.9889\n",
      "Epoch 16/30\n",
      "72054/72054 [==============================] - 116s 2ms/step - loss: 0.0246 - acc: 0.9928 - val_loss: 0.0704 - val_acc: 0.9873\n",
      "Epoch 17/30\n",
      "72054/72054 [==============================] - 116s 2ms/step - loss: 0.0242 - acc: 0.9930 - val_loss: 0.1258 - val_acc: 0.9856\n",
      "Epoch 18/30\n",
      "72054/72054 [==============================] - 116s 2ms/step - loss: 0.0243 - acc: 0.9930 - val_loss: 0.1028 - val_acc: 0.9906\n",
      "Epoch 19/30\n",
      "72054/72054 [==============================] - 116s 2ms/step - loss: 0.0240 - acc: 0.9931 - val_loss: 0.0435 - val_acc: 0.9907\n",
      "Epoch 20/30\n",
      "72054/72054 [==============================] - 114s 2ms/step - loss: 0.0236 - acc: 0.9932 - val_loss: 0.0352 - val_acc: 0.9905\n",
      "Epoch 21/30\n",
      "72054/72054 [==============================] - 114s 2ms/step - loss: 0.0232 - acc: 0.9933 - val_loss: 0.5861 - val_acc: 0.9315\n",
      "Epoch 22/30\n",
      "72054/72054 [==============================] - 114s 2ms/step - loss: 0.0229 - acc: 0.9934 - val_loss: 0.0283 - val_acc: 0.9922\n",
      "Epoch 23/30\n",
      "72054/72054 [==============================] - 114s 2ms/step - loss: 0.0229 - acc: 0.9934 - val_loss: 0.0364 - val_acc: 0.9917\n",
      "Epoch 24/30\n",
      "72054/72054 [==============================] - 114s 2ms/step - loss: 0.0227 - acc: 0.9934 - val_loss: 0.0368 - val_acc: 0.9901\n",
      "Epoch 25/30\n",
      "72054/72054 [==============================] - 114s 2ms/step - loss: 0.0225 - acc: 0.9935 - val_loss: 0.0591 - val_acc: 0.9910\n",
      "Epoch 26/30\n",
      "72054/72054 [==============================] - 114s 2ms/step - loss: 0.0226 - acc: 0.9935 - val_loss: 0.3798 - val_acc: 0.8898\n",
      "Epoch 27/30\n",
      "72054/72054 [==============================] - 114s 2ms/step - loss: 0.0220 - acc: 0.9937 - val_loss: 0.0347 - val_acc: 0.9912\n",
      "Epoch 28/30\n",
      "72054/72054 [==============================] - 115s 2ms/step - loss: 0.0222 - acc: 0.9936 - val_loss: 0.1093 - val_acc: 0.9870\n",
      "Epoch 29/30\n",
      "72054/72054 [==============================] - 116s 2ms/step - loss: 0.0220 - acc: 0.9937 - val_loss: 0.0350 - val_acc: 0.9915\n",
      "Epoch 30/30\n",
      "72054/72054 [==============================] - 120s 2ms/step - loss: 0.0217 - acc: 0.9938 - val_loss: 0.1482 - val_acc: 0.9800\n"
     ]
    },
    {
     "data": {
      "text/plain": [
       "64158"
      ]
     },
     "execution_count": 14,
     "metadata": {},
     "output_type": "execute_result"
    }
   ],
   "source": [
    "adam = keras.optimizers.Adam(lr=0.01)\n",
    "classifier = main_2(optimizer=adam, loss='binary_crossentropy')\n",
    "train_test_whole(classifier, 0, 'weight-spectrums2-main_2-lr0.01.hdf5', epochs=30)\n",
    "gc.collect()"
   ]
  },
  {
   "cell_type": "code",
   "execution_count": 43,
   "metadata": {
    "collapsed": true
   },
   "outputs": [
    {
     "name": "stderr",
     "output_type": "stream",
     "text": [
      "c:\\users\\zheng\\anaconda3\\envs\\tensorflow-gpu\\lib\\site-packages\\ipykernel_launcher.py:6: UserWarning: Update your `MaxPooling2D` call to the Keras 2 API: `MaxPooling2D(2, 2, padding=\"same\")`\n",
      "  \n",
      "c:\\users\\zheng\\anaconda3\\envs\\tensorflow-gpu\\lib\\site-packages\\ipykernel_launcher.py:9: UserWarning: Update your `MaxPooling2D` call to the Keras 2 API: `MaxPooling2D(2, 2, padding=\"same\")`\n",
      "  if __name__ == '__main__':\n"
     ]
    },
    {
     "name": "stdout",
     "output_type": "stream",
     "text": [
      "50\n",
      "50\n",
      "100\n",
      "Train on 72696 samples, validate on 36736 samples\n",
      "Epoch 1/50\n",
      "72696/72696 [==============================] - 72s 997us/step - loss: 9.3860e-05 - acc: 0.9775 - val_loss: 0.0383 - val_acc: 0.9877\n",
      "Epoch 2/50\n",
      "72696/72696 [==============================] - 71s 976us/step - loss: 4.2672e-05 - acc: 0.9885 - val_loss: 0.0275 - val_acc: 0.9910\n",
      "Epoch 3/50\n",
      "72696/72696 [==============================] - 71s 972us/step - loss: 3.2742e-05 - acc: 0.9899 - val_loss: 0.0234 - val_acc: 0.9927\n",
      "Epoch 4/50\n",
      "72696/72696 [==============================] - 70s 963us/step - loss: 2.8194e-05 - acc: 0.9908 - val_loss: 0.0239 - val_acc: 0.9923\n",
      "Epoch 5/50\n",
      "72696/72696 [==============================] - 69s 952us/step - loss: 2.4658e-05 - acc: 0.9913 - val_loss: 0.0263 - val_acc: 0.9916\n",
      "Epoch 6/50\n",
      "72696/72696 [==============================] - 68s 936us/step - loss: 2.2302e-05 - acc: 0.9917 - val_loss: 0.0299 - val_acc: 0.9904\n",
      "Epoch 7/50\n",
      "72696/72696 [==============================] - 68s 936us/step - loss: 2.0486e-05 - acc: 0.9920 - val_loss: 0.0169 - val_acc: 0.9951\n",
      "Epoch 8/50\n",
      "72696/72696 [==============================] - 68s 936us/step - loss: 1.8665e-05 - acc: 0.9924 - val_loss: 0.0182 - val_acc: 0.9947\n",
      "Epoch 9/50\n",
      "72696/72696 [==============================] - 68s 936us/step - loss: 1.8101e-05 - acc: 0.9925 - val_loss: 0.0247 - val_acc: 0.9930\n",
      "Epoch 10/50\n",
      "72696/72696 [==============================] - 68s 936us/step - loss: 1.6921e-05 - acc: 0.9929 - val_loss: 0.0192 - val_acc: 0.9948\n",
      "Epoch 11/50\n",
      "72696/72696 [==============================] - 68s 936us/step - loss: 1.5150e-05 - acc: 0.9933 - val_loss: 0.0235 - val_acc: 0.9931\n",
      "Epoch 12/50\n",
      "72696/72696 [==============================] - 68s 938us/step - loss: 1.4823e-05 - acc: 0.9935 - val_loss: 0.0230 - val_acc: 0.9933\n",
      "Epoch 13/50\n",
      "72696/72696 [==============================] - 68s 938us/step - loss: 1.4481e-05 - acc: 0.9934 - val_loss: 0.0176 - val_acc: 0.9953\n",
      "Epoch 14/50\n",
      "72696/72696 [==============================] - 68s 937us/step - loss: 1.2931e-05 - acc: 0.9939 - val_loss: 0.0223 - val_acc: 0.9935\n",
      "Epoch 15/50\n",
      "72696/72696 [==============================] - 68s 937us/step - loss: 1.2783e-05 - acc: 0.9940 - val_loss: 0.0225 - val_acc: 0.9939\n",
      "Epoch 16/50\n",
      "72696/72696 [==============================] - 68s 936us/step - loss: 1.2813e-05 - acc: 0.9941 - val_loss: 0.0212 - val_acc: 0.9940\n",
      "Epoch 17/50\n",
      "72696/72696 [==============================] - 68s 936us/step - loss: 1.2039e-05 - acc: 0.9943 - val_loss: 0.0160 - val_acc: 0.9958\n",
      "Epoch 18/50\n",
      "72696/72696 [==============================] - 68s 942us/step - loss: 1.1398e-05 - acc: 0.9943 - val_loss: 0.0180 - val_acc: 0.9956\n",
      "Epoch 19/50\n",
      "72696/72696 [==============================] - 67s 921us/step - loss: 1.1930e-05 - acc: 0.9944 - val_loss: 0.0153 - val_acc: 0.9962\n",
      "Epoch 20/50\n",
      "72696/72696 [==============================] - 67s 921us/step - loss: 1.1006e-05 - acc: 0.9947 - val_loss: 0.0169 - val_acc: 0.9957\n",
      "Epoch 21/50\n",
      "72696/72696 [==============================] - 67s 920us/step - loss: 1.1098e-05 - acc: 0.9946 - val_loss: 0.0216 - val_acc: 0.9945\n",
      "Epoch 22/50\n",
      "72696/72696 [==============================] - 68s 929us/step - loss: 1.0861e-05 - acc: 0.9946 - val_loss: 0.0161 - val_acc: 0.9962\n",
      "Epoch 23/50\n",
      "72696/72696 [==============================] - 67s 922us/step - loss: 1.0446e-05 - acc: 0.9949 - val_loss: 0.0179 - val_acc: 0.9956\n",
      "Epoch 24/50\n",
      "72696/72696 [==============================] - 67s 917us/step - loss: 9.6566e-06 - acc: 0.9952 - val_loss: 0.0176 - val_acc: 0.9959\n",
      "Epoch 25/50\n",
      "72696/72696 [==============================] - 67s 918us/step - loss: 1.0218e-05 - acc: 0.9950 - val_loss: 0.0174 - val_acc: 0.9960\n",
      "Epoch 26/50\n",
      "72696/72696 [==============================] - 67s 918us/step - loss: 9.5188e-06 - acc: 0.9952 - val_loss: 0.0195 - val_acc: 0.9954\n",
      "Epoch 27/50\n",
      "72696/72696 [==============================] - 67s 919us/step - loss: 1.0122e-05 - acc: 0.9950 - val_loss: 0.0145 - val_acc: 0.9968\n",
      "Epoch 28/50\n",
      "72696/72696 [==============================] - 67s 918us/step - loss: 9.5357e-06 - acc: 0.9954 - val_loss: 0.0215 - val_acc: 0.9947\n",
      "Epoch 29/50\n",
      "72696/72696 [==============================] - 67s 918us/step - loss: 9.6192e-06 - acc: 0.9953 - val_loss: 0.0177 - val_acc: 0.9959\n",
      "Epoch 30/50\n",
      "72696/72696 [==============================] - 67s 922us/step - loss: 9.6354e-06 - acc: 0.9955 - val_loss: 0.0170 - val_acc: 0.9960\n",
      "Epoch 31/50\n",
      "72696/72696 [==============================] - 67s 919us/step - loss: 9.2303e-06 - acc: 0.9955 - val_loss: 0.0152 - val_acc: 0.9966\n",
      "Epoch 32/50\n",
      "72696/72696 [==============================] - 67s 918us/step - loss: 9.5572e-06 - acc: 0.9955 - val_loss: 0.0168 - val_acc: 0.9963\n",
      "Epoch 33/50\n",
      "72696/72696 [==============================] - 67s 920us/step - loss: 9.1312e-06 - acc: 0.9955 - val_loss: 0.0151 - val_acc: 0.9967\n",
      "Epoch 34/50\n",
      "72696/72696 [==============================] - 67s 920us/step - loss: 8.4977e-06 - acc: 0.9956 - val_loss: 0.0177 - val_acc: 0.9963\n",
      "Epoch 35/50\n",
      "72696/72696 [==============================] - 67s 920us/step - loss: 8.8575e-06 - acc: 0.9956 - val_loss: 0.0169 - val_acc: 0.9964\n",
      "Epoch 36/50\n",
      "72696/72696 [==============================] - 67s 919us/step - loss: 9.3385e-06 - acc: 0.9955 - val_loss: 0.0164 - val_acc: 0.9966\n",
      "Epoch 37/50\n",
      "72696/72696 [==============================] - 67s 920us/step - loss: 8.8473e-06 - acc: 0.9957 - val_loss: 0.0161 - val_acc: 0.9967\n",
      "Epoch 38/50\n",
      "72696/72696 [==============================] - 67s 919us/step - loss: 8.7707e-06 - acc: 0.9956 - val_loss: 0.0173 - val_acc: 0.9962\n",
      "Epoch 39/50\n",
      "72696/72696 [==============================] - 67s 919us/step - loss: 8.7478e-06 - acc: 0.9956 - val_loss: 0.0164 - val_acc: 0.9966\n",
      "Epoch 40/50\n",
      "72696/72696 [==============================] - 67s 920us/step - loss: 8.9402e-06 - acc: 0.9957 - val_loss: 0.0167 - val_acc: 0.9965\n",
      "Epoch 41/50\n",
      "72696/72696 [==============================] - 67s 920us/step - loss: 8.4933e-06 - acc: 0.9957 - val_loss: 0.0229 - val_acc: 0.9948\n",
      "Epoch 42/50\n",
      "72696/72696 [==============================] - 67s 924us/step - loss: 8.3926e-06 - acc: 0.9958 - val_loss: 0.0165 - val_acc: 0.9965\n",
      "Epoch 43/50\n",
      "72696/72696 [==============================] - 67s 926us/step - loss: 8.6266e-06 - acc: 0.9958 - val_loss: 0.0171 - val_acc: 0.9965\n",
      "Epoch 44/50\n",
      "72696/72696 [==============================] - 67s 924us/step - loss: 7.7548e-06 - acc: 0.9959 - val_loss: 0.0166 - val_acc: 0.9966\n",
      "Epoch 45/50\n",
      "72696/72696 [==============================] - 67s 918us/step - loss: 8.4056e-06 - acc: 0.9959 - val_loss: 0.0158 - val_acc: 0.9969\n",
      "Epoch 46/50\n",
      "72696/72696 [==============================] - 67s 918us/step - loss: 8.4757e-06 - acc: 0.9958 - val_loss: 0.0162 - val_acc: 0.9968\n",
      "Epoch 47/50\n",
      "72696/72696 [==============================] - 67s 918us/step - loss: 7.9521e-06 - acc: 0.9959 - val_loss: 0.0152 - val_acc: 0.9969\n",
      "Epoch 48/50\n",
      "72696/72696 [==============================] - 67s 916us/step - loss: 8.4882e-06 - acc: 0.9958 - val_loss: 0.0166 - val_acc: 0.9965\n",
      "Epoch 49/50\n",
      "72696/72696 [==============================] - 67s 916us/step - loss: 7.9286e-06 - acc: 0.9960 - val_loss: 0.0167 - val_acc: 0.9965\n",
      "Epoch 50/50\n",
      "72696/72696 [==============================] - 67s 923us/step - loss: 7.8426e-06 - acc: 0.9960 - val_loss: 0.0182 - val_acc: 0.9961\n"
     ]
    },
    {
     "data": {
      "text/plain": [
       "23088"
      ]
     },
     "execution_count": 43,
     "metadata": {},
     "output_type": "execute_result"
    }
   ],
   "source": [
    "adam = keras.optimizers.Adam(lr=0.01)\n",
    "classifier = main_3(optimizer=adam, loss='binary_crossentropy')\n",
    "train_test_whole(classifier, 0, 'sample-weight-simpler-lstmcnn.hdf5', epochs=50)\n",
    "gc.collect()"
   ]
  },
  {
   "cell_type": "code",
   "execution_count": 54,
   "metadata": {
    "collapsed": true
   },
   "outputs": [
    {
     "name": "stderr",
     "output_type": "stream",
     "text": [
      "c:\\users\\zheng\\anaconda3\\envs\\tensorflow-gpu\\lib\\site-packages\\ipykernel_launcher.py:6: UserWarning: Update your `MaxPooling2D` call to the Keras 2 API: `MaxPooling2D(2, 2, padding=\"same\")`\n",
      "  \n",
      "c:\\users\\zheng\\anaconda3\\envs\\tensorflow-gpu\\lib\\site-packages\\ipykernel_launcher.py:9: UserWarning: Update your `MaxPooling2D` call to the Keras 2 API: `MaxPooling2D(2, 2, padding=\"same\")`\n",
      "  if __name__ == '__main__':\n"
     ]
    },
    {
     "data": {
      "text/plain": [
       "(0.08483475, 0.9171657229965157)"
      ]
     },
     "execution_count": 54,
     "metadata": {},
     "output_type": "execute_result"
    }
   ],
   "source": [
    "classifier = main_3(loss='binary_crossentropy')\n",
    "classifier.load_weights('sample-weight-simpler-lstmcnn.hdf5')\n",
    "load_test_score(classifier, cnn_test, prevcnn_test, labels_test)"
   ]
  },
  {
   "cell_type": "code",
   "execution_count": 16,
   "metadata": {
    "collapsed": true
   },
   "outputs": [
    {
     "name": "stderr",
     "output_type": "stream",
     "text": [
      "c:\\users\\zheng\\anaconda3\\envs\\tensorflow-gpu\\lib\\site-packages\\ipykernel_launcher.py:6: UserWarning: Update your `MaxPooling2D` call to the Keras 2 API: `MaxPooling2D(2, 2, padding=\"same\")`\n",
      "  \n",
      "c:\\users\\zheng\\anaconda3\\envs\\tensorflow-gpu\\lib\\site-packages\\ipykernel_launcher.py:9: UserWarning: Update your `MaxPooling2D` call to the Keras 2 API: `MaxPooling2D(2, 2, padding=\"same\")`\n",
      "  if __name__ == '__main__':\n",
      "c:\\users\\zheng\\anaconda3\\envs\\tensorflow-gpu\\lib\\site-packages\\ipykernel_launcher.py:12: UserWarning: Update your `MaxPooling2D` call to the Keras 2 API: `MaxPooling2D(2, 2, padding=\"same\")`\n",
      "  if sys.path[0] == '':\n",
      "c:\\users\\zheng\\anaconda3\\envs\\tensorflow-gpu\\lib\\site-packages\\ipykernel_launcher.py:15: UserWarning: Update your `MaxPooling2D` call to the Keras 2 API: `MaxPooling2D(2, 2, padding=\"same\")`\n",
      "  from ipykernel import kernelapp as app\n"
     ]
    },
    {
     "name": "stdout",
     "output_type": "stream",
     "text": [
      "50\n",
      "100\n",
      "Train on 72696 samples, validate on 36736 samples\n",
      "Epoch 1/70\n",
      "72696/72696 [==============================] - 80s 1ms/step - loss: 2.0676e-04 - acc: 0.9509 - val_loss: 0.1713 - val_acc: 0.9456\n",
      "Epoch 2/70\n",
      "72696/72696 [==============================] - 75s 1ms/step - loss: 8.8679e-05 - acc: 0.9787 - val_loss: 0.0506 - val_acc: 0.9843\n",
      "Epoch 3/70\n",
      "72696/72696 [==============================] - 75s 1ms/step - loss: 7.0044e-05 - acc: 0.9827 - val_loss: 0.0386 - val_acc: 0.9884\n",
      "Epoch 4/70\n",
      "72696/72696 [==============================] - 75s 1ms/step - loss: 5.9352e-05 - acc: 0.9849 - val_loss: 0.0493 - val_acc: 0.9850\n",
      "Epoch 5/70\n",
      "72696/72696 [==============================] - 75s 1ms/step - loss: 5.2505e-05 - acc: 0.9861 - val_loss: 0.0414 - val_acc: 0.9876\n",
      "Epoch 6/70\n",
      "72696/72696 [==============================] - 75s 1ms/step - loss: 4.7743e-05 - acc: 0.9871 - val_loss: 0.0316 - val_acc: 0.9909\n",
      "Epoch 7/70\n",
      "72696/72696 [==============================] - 75s 1ms/step - loss: 4.4382e-05 - acc: 0.9879 - val_loss: 0.0363 - val_acc: 0.9900\n",
      "Epoch 8/70\n",
      "72696/72696 [==============================] - 75s 1ms/step - loss: 4.1386e-05 - acc: 0.9885 - val_loss: 0.0310 - val_acc: 0.9918\n",
      "Epoch 9/70\n",
      "72696/72696 [==============================] - 75s 1ms/step - loss: 3.9704e-05 - acc: 0.9890 - val_loss: 0.0311 - val_acc: 0.9916\n",
      "Epoch 10/70\n",
      "72696/72696 [==============================] - 75s 1ms/step - loss: 3.7023e-05 - acc: 0.9895 - val_loss: 0.0307 - val_acc: 0.9917\n",
      "Epoch 11/70\n",
      "72696/72696 [==============================] - 75s 1ms/step - loss: 3.5790e-05 - acc: 0.9898 - val_loss: 0.0229 - val_acc: 0.9941\n",
      "Epoch 12/70\n",
      "72696/72696 [==============================] - 75s 1ms/step - loss: 3.4534e-05 - acc: 0.9899 - val_loss: 0.0265 - val_acc: 0.9931\n",
      "Epoch 13/70\n",
      "72696/72696 [==============================] - 75s 1ms/step - loss: 3.3121e-05 - acc: 0.9904 - val_loss: 0.0270 - val_acc: 0.9928\n",
      "Epoch 14/70\n",
      "72696/72696 [==============================] - 75s 1ms/step - loss: 3.2457e-05 - acc: 0.9904 - val_loss: 0.0228 - val_acc: 0.9939\n",
      "Epoch 15/70\n",
      "72696/72696 [==============================] - 75s 1ms/step - loss: 3.0998e-05 - acc: 0.9909 - val_loss: 0.0228 - val_acc: 0.9940\n",
      "Epoch 16/70\n",
      "72696/72696 [==============================] - 75s 1ms/step - loss: 2.9980e-05 - acc: 0.9910 - val_loss: 0.0242 - val_acc: 0.9942\n",
      "Epoch 17/70\n",
      "72696/72696 [==============================] - 74s 1ms/step - loss: 2.9942e-05 - acc: 0.9915 - val_loss: 0.0223 - val_acc: 0.9946\n",
      "Epoch 18/70\n",
      "72696/72696 [==============================] - 74s 1ms/step - loss: 2.8724e-05 - acc: 0.9913 - val_loss: 0.0207 - val_acc: 0.9951\n",
      "Epoch 19/70\n",
      "72696/72696 [==============================] - 74s 1ms/step - loss: 2.8022e-05 - acc: 0.9920 - val_loss: 0.0256 - val_acc: 0.9933\n",
      "Epoch 20/70\n",
      "72696/72696 [==============================] - 75s 1ms/step - loss: 2.7119e-05 - acc: 0.9919 - val_loss: 0.0222 - val_acc: 0.9945\n",
      "Epoch 21/70\n",
      "72696/72696 [==============================] - 76s 1ms/step - loss: 2.6739e-05 - acc: 0.9920 - val_loss: 0.0201 - val_acc: 0.9949\n",
      "Epoch 22/70\n",
      "72696/72696 [==============================] - 76s 1ms/step - loss: 2.6407e-05 - acc: 0.9923 - val_loss: 0.0257 - val_acc: 0.9934\n",
      "Epoch 23/70\n",
      "72696/72696 [==============================] - 77s 1ms/step - loss: 2.5836e-05 - acc: 0.9924 - val_loss: 0.0229 - val_acc: 0.9941\n",
      "Epoch 24/70\n",
      "72696/72696 [==============================] - 80s 1ms/step - loss: 2.5881e-05 - acc: 0.9923 - val_loss: 0.0213 - val_acc: 0.9949\n",
      "Epoch 25/70\n",
      "72696/72696 [==============================] - 81s 1ms/step - loss: 2.4096e-05 - acc: 0.9927 - val_loss: 0.0190 - val_acc: 0.9959\n",
      "Epoch 26/70\n",
      "72696/72696 [==============================] - 81s 1ms/step - loss: 2.5288e-05 - acc: 0.9926 - val_loss: 0.0197 - val_acc: 0.9955\n",
      "Epoch 27/70\n",
      "72696/72696 [==============================] - 81s 1ms/step - loss: 2.3535e-05 - acc: 0.9929 - val_loss: 0.0246 - val_acc: 0.9939\n",
      "Epoch 28/70\n",
      "72696/72696 [==============================] - 81s 1ms/step - loss: 2.3662e-05 - acc: 0.9929 - val_loss: 0.0216 - val_acc: 0.9948\n",
      "Epoch 29/70\n",
      "72696/72696 [==============================] - 81s 1ms/step - loss: 2.4282e-05 - acc: 0.9929 - val_loss: 0.0193 - val_acc: 0.9956\n",
      "Epoch 30/70\n",
      "72696/72696 [==============================] - 80s 1ms/step - loss: 2.3673e-05 - acc: 0.9930 - val_loss: 0.0164 - val_acc: 0.9966\n",
      "Epoch 31/70\n",
      "72696/72696 [==============================] - 76s 1ms/step - loss: 2.2411e-05 - acc: 0.9934 - val_loss: 0.0189 - val_acc: 0.9955\n",
      "Epoch 32/70\n",
      "72696/72696 [==============================] - 77s 1ms/step - loss: 2.3060e-05 - acc: 0.9930 - val_loss: 0.0186 - val_acc: 0.9955\n",
      "Epoch 33/70\n",
      "72696/72696 [==============================] - 76s 1ms/step - loss: 2.2374e-05 - acc: 0.9933 - val_loss: 0.0169 - val_acc: 0.9962\n",
      "Epoch 34/70\n",
      "72696/72696 [==============================] - 76s 1ms/step - loss: 2.1627e-05 - acc: 0.9934 - val_loss: 0.0199 - val_acc: 0.9953\n",
      "Epoch 35/70\n",
      "72696/72696 [==============================] - 78s 1ms/step - loss: 2.2612e-05 - acc: 0.9934 - val_loss: 0.0181 - val_acc: 0.9957\n",
      "Epoch 36/70\n",
      "72696/72696 [==============================] - 78s 1ms/step - loss: 2.1871e-05 - acc: 0.9934 - val_loss: 0.0179 - val_acc: 0.9958\n",
      "Epoch 37/70\n",
      "72696/72696 [==============================] - 77s 1ms/step - loss: 2.1157e-05 - acc: 0.9935 - val_loss: 0.0189 - val_acc: 0.9956\n",
      "Epoch 38/70\n",
      "72696/72696 [==============================] - 75s 1ms/step - loss: 2.1123e-05 - acc: 0.9936 - val_loss: 0.0169 - val_acc: 0.9962\n",
      "Epoch 39/70\n",
      "72696/72696 [==============================] - 76s 1ms/step - loss: 2.0802e-05 - acc: 0.9937 - val_loss: 0.0167 - val_acc: 0.9963\n",
      "Epoch 40/70\n",
      "72696/72696 [==============================] - 76s 1ms/step - loss: 2.1523e-05 - acc: 0.9936 - val_loss: 0.0173 - val_acc: 0.9960\n",
      "Epoch 41/70\n",
      "72696/72696 [==============================] - 76s 1ms/step - loss: 2.0158e-05 - acc: 0.9940 - val_loss: 0.0171 - val_acc: 0.9962\n",
      "Epoch 42/70\n",
      "72696/72696 [==============================] - 76s 1ms/step - loss: 2.1240e-05 - acc: 0.9939 - val_loss: 0.0165 - val_acc: 0.9963\n",
      "Epoch 43/70\n",
      "72696/72696 [==============================] - 76s 1ms/step - loss: 2.0469e-05 - acc: 0.9939 - val_loss: 0.0169 - val_acc: 0.9961\n",
      "Epoch 44/70\n",
      "72696/72696 [==============================] - 76s 1ms/step - loss: 2.0387e-05 - acc: 0.9940 - val_loss: 0.0248 - val_acc: 0.9940\n",
      "Epoch 45/70\n",
      "72696/72696 [==============================] - 76s 1ms/step - loss: 1.9606e-05 - acc: 0.9941 - val_loss: 0.0182 - val_acc: 0.9961\n",
      "Epoch 46/70\n",
      "72696/72696 [==============================] - 76s 1ms/step - loss: 1.9789e-05 - acc: 0.9943 - val_loss: 0.0241 - val_acc: 0.9945\n",
      "Epoch 47/70\n",
      "72696/72696 [==============================] - 76s 1ms/step - loss: 2.0155e-05 - acc: 0.9942 - val_loss: 0.0206 - val_acc: 0.9954\n",
      "Epoch 48/70\n",
      "72696/72696 [==============================] - 76s 1ms/step - loss: 1.9114e-05 - acc: 0.9944 - val_loss: 0.0183 - val_acc: 0.9958\n",
      "Epoch 49/70\n",
      "72696/72696 [==============================] - 76s 1ms/step - loss: 1.9465e-05 - acc: 0.9944 - val_loss: 0.0187 - val_acc: 0.9959\n",
      "Epoch 50/70\n",
      "72696/72696 [==============================] - 75s 1ms/step - loss: 1.9101e-05 - acc: 0.9944 - val_loss: 0.0173 - val_acc: 0.9962\n",
      "Epoch 51/70\n",
      "72696/72696 [==============================] - 74s 1ms/step - loss: 1.9277e-05 - acc: 0.9945 - val_loss: 0.0157 - val_acc: 0.9967\n",
      "Epoch 52/70\n",
      "72696/72696 [==============================] - 74s 1ms/step - loss: 1.9143e-05 - acc: 0.9945 - val_loss: 0.0189 - val_acc: 0.9957\n",
      "Epoch 53/70\n",
      "72696/72696 [==============================] - 74s 1ms/step - loss: 1.8541e-05 - acc: 0.9946 - val_loss: 0.0209 - val_acc: 0.9953\n",
      "Epoch 54/70\n",
      "72696/72696 [==============================] - 74s 1ms/step - loss: 1.8844e-05 - acc: 0.9945 - val_loss: 0.0176 - val_acc: 0.9960\n",
      "Epoch 55/70\n",
      "72696/72696 [==============================] - 74s 1ms/step - loss: 1.9193e-05 - acc: 0.9945 - val_loss: 0.0167 - val_acc: 0.9965\n",
      "Epoch 56/70\n",
      "72696/72696 [==============================] - 74s 1ms/step - loss: 1.8171e-05 - acc: 0.9947 - val_loss: 0.0199 - val_acc: 0.9956\n",
      "Epoch 57/70\n",
      "72696/72696 [==============================] - 74s 1ms/step - loss: 1.8370e-05 - acc: 0.9947 - val_loss: 0.0198 - val_acc: 0.9960\n",
      "Epoch 58/70\n",
      "72696/72696 [==============================] - 74s 1ms/step - loss: 1.8203e-05 - acc: 0.9946 - val_loss: 0.0157 - val_acc: 0.9968\n",
      "Epoch 59/70\n",
      "72696/72696 [==============================] - 74s 1ms/step - loss: 1.8090e-05 - acc: 0.9948 - val_loss: 0.0167 - val_acc: 0.9967\n",
      "Epoch 60/70\n",
      "72696/72696 [==============================] - 74s 1ms/step - loss: 1.9265e-05 - acc: 0.9946 - val_loss: 0.0196 - val_acc: 0.9956\n",
      "Epoch 61/70\n",
      "72696/72696 [==============================] - 74s 1ms/step - loss: 1.8533e-05 - acc: 0.9948 - val_loss: 0.0184 - val_acc: 0.9960\n",
      "Epoch 62/70\n",
      "72696/72696 [==============================] - 74s 1ms/step - loss: 1.8366e-05 - acc: 0.9947 - val_loss: 0.0187 - val_acc: 0.9957\n",
      "Epoch 63/70\n",
      "72696/72696 [==============================] - 74s 1ms/step - loss: 1.7236e-05 - acc: 0.9951 - val_loss: 0.0161 - val_acc: 0.9965\n",
      "Epoch 64/70\n",
      "72696/72696 [==============================] - 74s 1ms/step - loss: 1.8401e-05 - acc: 0.9947 - val_loss: 0.0157 - val_acc: 0.9969\n",
      "Epoch 65/70\n",
      "72696/72696 [==============================] - 74s 1ms/step - loss: 1.7399e-05 - acc: 0.9951 - val_loss: 0.0189 - val_acc: 0.9958\n",
      "Epoch 66/70\n",
      "72696/72696 [==============================] - 74s 1ms/step - loss: 1.7659e-05 - acc: 0.9949 - val_loss: 0.0183 - val_acc: 0.9960\n",
      "Epoch 67/70\n",
      "72696/72696 [==============================] - 74s 1ms/step - loss: 1.7992e-05 - acc: 0.9949 - val_loss: 0.0185 - val_acc: 0.9958\n",
      "Epoch 68/70\n",
      "72696/72696 [==============================] - 74s 1ms/step - loss: 1.7683e-05 - acc: 0.9950 - val_loss: 0.0166 - val_acc: 0.9963\n",
      "Epoch 69/70\n",
      "72696/72696 [==============================] - 74s 1ms/step - loss: 1.6720e-05 - acc: 0.9952 - val_loss: 0.0189 - val_acc: 0.9962\n",
      "Epoch 70/70\n",
      "72696/72696 [==============================] - 74s 1ms/step - loss: 1.8052e-05 - acc: 0.9950 - val_loss: 0.0151 - val_acc: 0.9969\n"
     ]
    },
    {
     "data": {
      "text/plain": [
       "53058"
      ]
     },
     "execution_count": 16,
     "metadata": {},
     "output_type": "execute_result"
    }
   ],
   "source": [
    "# There is sample_weight\n",
    "adam = keras.optimizers.Adam(lr=0.01)\n",
    "classifier = main(optimizer=adam, loss='binary_crossentropy')\n",
    "train_test_whole(classifier, 0, 'weight-model-1.hdf5', epochs=70)\n",
    "gc.collect()"
   ]
  },
  {
   "cell_type": "code",
   "execution_count": 18,
   "metadata": {
    "collapsed": true
   },
   "outputs": [
    {
     "name": "stderr",
     "output_type": "stream",
     "text": [
      "c:\\users\\zheng\\anaconda3\\envs\\tensorflow-gpu\\lib\\site-packages\\ipykernel_launcher.py:6: UserWarning: Update your `MaxPooling2D` call to the Keras 2 API: `MaxPooling2D(2, 2, padding=\"same\")`\n",
      "  \n",
      "c:\\users\\zheng\\anaconda3\\envs\\tensorflow-gpu\\lib\\site-packages\\ipykernel_launcher.py:9: UserWarning: Update your `MaxPooling2D` call to the Keras 2 API: `MaxPooling2D(2, 2, padding=\"same\")`\n",
      "  if __name__ == '__main__':\n",
      "c:\\users\\zheng\\anaconda3\\envs\\tensorflow-gpu\\lib\\site-packages\\ipykernel_launcher.py:12: UserWarning: Update your `MaxPooling2D` call to the Keras 2 API: `MaxPooling2D(2, 2, padding=\"same\")`\n",
      "  if sys.path[0] == '':\n",
      "c:\\users\\zheng\\anaconda3\\envs\\tensorflow-gpu\\lib\\site-packages\\ipykernel_launcher.py:15: UserWarning: Update your `MaxPooling2D` call to the Keras 2 API: `MaxPooling2D(2, 2, padding=\"same\")`\n",
      "  from ipykernel import kernelapp as app\n"
     ]
    },
    {
     "data": {
      "text/plain": [
       "(0.06571153, 0.9294425087108014)"
      ]
     },
     "execution_count": 18,
     "metadata": {},
     "output_type": "execute_result"
    }
   ],
   "source": [
    "classifier = main(loss='binary_crossentropy')\n",
    "classifier.load_weights('weight-model-1.hdf5')\n",
    "load_test_score(classifier, cnn_test, prevcnn_test, labels_test)"
   ]
  },
  {
   "cell_type": "code",
   "execution_count": 19,
   "metadata": {
    "collapsed": true
   },
   "outputs": [
    {
     "name": "stderr",
     "output_type": "stream",
     "text": [
      "c:\\users\\zheng\\anaconda3\\envs\\tensorflow-gpu\\lib\\site-packages\\ipykernel_launcher.py:6: UserWarning: Update your `MaxPooling2D` call to the Keras 2 API: `MaxPooling2D(2, 2, padding=\"same\")`\n",
      "  \n",
      "c:\\users\\zheng\\anaconda3\\envs\\tensorflow-gpu\\lib\\site-packages\\ipykernel_launcher.py:9: UserWarning: Update your `MaxPooling2D` call to the Keras 2 API: `MaxPooling2D(2, 2, padding=\"same\")`\n",
      "  if __name__ == '__main__':\n",
      "c:\\users\\zheng\\anaconda3\\envs\\tensorflow-gpu\\lib\\site-packages\\ipykernel_launcher.py:12: UserWarning: Update your `MaxPooling2D` call to the Keras 2 API: `MaxPooling2D(2, 2, padding=\"same\")`\n",
      "  if sys.path[0] == '':\n",
      "c:\\users\\zheng\\anaconda3\\envs\\tensorflow-gpu\\lib\\site-packages\\ipykernel_launcher.py:15: UserWarning: Update your `MaxPooling2D` call to the Keras 2 API: `MaxPooling2D(2, 2, padding=\"same\")`\n",
      "  from ipykernel import kernelapp as app\n"
     ]
    },
    {
     "name": "stdout",
     "output_type": "stream",
     "text": [
      "50\n",
      "100\n",
      "Train on 72696 samples, validate on 36736 samples\n",
      "Epoch 1/100\n",
      "72696/72696 [==============================] - 78s 1ms/step - loss: 0.0751 - acc: 0.9740 - val_loss: 0.0955 - val_acc: 0.9757\n",
      "Epoch 2/100\n",
      "72696/72696 [==============================] - 77s 1ms/step - loss: 0.0333 - acc: 0.9899 - val_loss: 0.0539 - val_acc: 0.9851\n",
      "Epoch 3/100\n",
      "72696/72696 [==============================] - 75s 1ms/step - loss: 0.0274 - acc: 0.9918 - val_loss: 0.0306 - val_acc: 0.9912\n",
      "Epoch 4/100\n",
      "72696/72696 [==============================] - 75s 1ms/step - loss: 0.0237 - acc: 0.9931 - val_loss: 0.0307 - val_acc: 0.9917\n",
      "Epoch 5/100\n",
      "72696/72696 [==============================] - 77s 1ms/step - loss: 0.0216 - acc: 0.9937 - val_loss: 0.0196 - val_acc: 0.9947\n",
      "Epoch 6/100\n",
      "72696/72696 [==============================] - 78s 1ms/step - loss: 0.0199 - acc: 0.9944 - val_loss: 0.0183 - val_acc: 0.9951\n",
      "Epoch 7/100\n",
      "72696/72696 [==============================] - 79s 1ms/step - loss: 0.0186 - acc: 0.9947 - val_loss: 0.0589 - val_acc: 0.9820\n",
      "Epoch 8/100\n",
      "72696/72696 [==============================] - 76s 1ms/step - loss: 0.0173 - acc: 0.9951 - val_loss: 0.0206 - val_acc: 0.9942\n",
      "Epoch 9/100\n",
      "72696/72696 [==============================] - 76s 1ms/step - loss: 0.0164 - acc: 0.9954 - val_loss: 0.0177 - val_acc: 0.9957\n",
      "Epoch 10/100\n",
      "72696/72696 [==============================] - 76s 1ms/step - loss: 0.0161 - acc: 0.9955 - val_loss: 0.0313 - val_acc: 0.9917\n",
      "Epoch 11/100\n",
      "72696/72696 [==============================] - 77s 1ms/step - loss: 0.0152 - acc: 0.9958 - val_loss: 0.0425 - val_acc: 0.9898\n",
      "Epoch 12/100\n",
      "72696/72696 [==============================] - 78s 1ms/step - loss: 0.0151 - acc: 0.9958 - val_loss: 0.0270 - val_acc: 0.9930\n",
      "Epoch 13/100\n",
      "72696/72696 [==============================] - 78s 1ms/step - loss: 0.0139 - acc: 0.9961 - val_loss: 0.0214 - val_acc: 0.9945\n",
      "Epoch 14/100\n",
      "72696/72696 [==============================] - 77s 1ms/step - loss: 0.0141 - acc: 0.9961 - val_loss: 0.0890 - val_acc: 0.9779\n",
      "Epoch 15/100\n",
      "72696/72696 [==============================] - 78s 1ms/step - loss: 0.0136 - acc: 0.9962 - val_loss: 0.0106 - val_acc: 0.9972\n",
      "Epoch 16/100\n",
      "72696/72696 [==============================] - 77s 1ms/step - loss: 0.0131 - acc: 0.9964 - val_loss: 0.0116 - val_acc: 0.9971\n",
      "Epoch 17/100\n",
      "72696/72696 [==============================] - 77s 1ms/step - loss: 0.0130 - acc: 0.9965 - val_loss: 0.0232 - val_acc: 0.9939\n",
      "Epoch 18/100\n",
      "72696/72696 [==============================] - 77s 1ms/step - loss: 0.0127 - acc: 0.9966 - val_loss: 0.0116 - val_acc: 0.9971\n",
      "Epoch 19/100\n",
      "72696/72696 [==============================] - 77s 1ms/step - loss: 0.0125 - acc: 0.9967 - val_loss: 0.0110 - val_acc: 0.9975\n",
      "Epoch 20/100\n",
      "72696/72696 [==============================] - 77s 1ms/step - loss: 0.0124 - acc: 0.9967 - val_loss: 0.0092 - val_acc: 0.9977\n",
      "Epoch 21/100\n",
      "72696/72696 [==============================] - 76s 1ms/step - loss: 0.0120 - acc: 0.9967 - val_loss: 0.0153 - val_acc: 0.9963\n",
      "Epoch 22/100\n",
      "72696/72696 [==============================] - 76s 1ms/step - loss: 0.0118 - acc: 0.9968 - val_loss: 0.0130 - val_acc: 0.9966\n",
      "Epoch 23/100\n",
      "72696/72696 [==============================] - 76s 1ms/step - loss: 0.0115 - acc: 0.9969 - val_loss: 0.0186 - val_acc: 0.9953\n",
      "Epoch 24/100\n",
      "72696/72696 [==============================] - 77s 1ms/step - loss: 0.0116 - acc: 0.9969 - val_loss: 0.0144 - val_acc: 0.9969\n",
      "Epoch 25/100\n",
      "72696/72696 [==============================] - 77s 1ms/step - loss: 0.0115 - acc: 0.9969 - val_loss: 0.0760 - val_acc: 0.9841\n",
      "Epoch 26/100\n",
      "72696/72696 [==============================] - 76s 1ms/step - loss: 0.0112 - acc: 0.9971 - val_loss: 0.0104 - val_acc: 0.9976\n",
      "Epoch 27/100\n",
      "72696/72696 [==============================] - 77s 1ms/step - loss: 0.0110 - acc: 0.9970 - val_loss: 0.0092 - val_acc: 0.9979\n",
      "Epoch 28/100\n",
      "72696/72696 [==============================] - 77s 1ms/step - loss: 0.0109 - acc: 0.9971 - val_loss: 0.0123 - val_acc: 0.9972\n",
      "Epoch 29/100\n",
      "72696/72696 [==============================] - 77s 1ms/step - loss: 0.0110 - acc: 0.9971 - val_loss: 0.0522 - val_acc: 0.9878\n",
      "Epoch 30/100\n",
      "72696/72696 [==============================] - 78s 1ms/step - loss: 0.0108 - acc: 0.9972 - val_loss: 0.0137 - val_acc: 0.9969\n",
      "Epoch 31/100\n",
      "72696/72696 [==============================] - 77s 1ms/step - loss: 0.0108 - acc: 0.9972 - val_loss: 0.0092 - val_acc: 0.9980\n",
      "Epoch 32/100\n",
      "72696/72696 [==============================] - 78s 1ms/step - loss: 0.0105 - acc: 0.9972 - val_loss: 0.0105 - val_acc: 0.9977\n",
      "Epoch 33/100\n",
      "72696/72696 [==============================] - 77s 1ms/step - loss: 0.0101 - acc: 0.9974 - val_loss: 0.0104 - val_acc: 0.9976\n",
      "Epoch 34/100\n",
      "72696/72696 [==============================] - 78s 1ms/step - loss: 0.0101 - acc: 0.9974 - val_loss: 0.0117 - val_acc: 0.9974\n",
      "Epoch 35/100\n",
      "72696/72696 [==============================] - 78s 1ms/step - loss: 0.0101 - acc: 0.9974 - val_loss: 0.0098 - val_acc: 0.9978\n",
      "Epoch 36/100\n",
      "72696/72696 [==============================] - 82s 1ms/step - loss: 0.0102 - acc: 0.9974 - val_loss: 0.0106 - val_acc: 0.9977\n",
      "Epoch 37/100\n",
      "72696/72696 [==============================] - 82s 1ms/step - loss: 0.0100 - acc: 0.9974 - val_loss: 0.0102 - val_acc: 0.9978\n",
      "Epoch 38/100\n",
      "72696/72696 [==============================] - 82s 1ms/step - loss: 0.0101 - acc: 0.9974 - val_loss: 0.0095 - val_acc: 0.9979\n",
      "Epoch 39/100\n",
      "72696/72696 [==============================] - 81s 1ms/step - loss: 0.0099 - acc: 0.9975 - val_loss: 0.0127 - val_acc: 0.9974\n",
      "Epoch 40/100\n",
      "72696/72696 [==============================] - 82s 1ms/step - loss: 0.0100 - acc: 0.9975 - val_loss: 0.0101 - val_acc: 0.9979\n",
      "Epoch 41/100\n",
      "72696/72696 [==============================] - 81s 1ms/step - loss: 0.0097 - acc: 0.9975 - val_loss: 0.0116 - val_acc: 0.9976\n",
      "Epoch 42/100\n",
      "72696/72696 [==============================] - 81s 1ms/step - loss: 0.0096 - acc: 0.9975 - val_loss: 0.0092 - val_acc: 0.9981\n",
      "Epoch 43/100\n",
      "72696/72696 [==============================] - 80s 1ms/step - loss: 0.0098 - acc: 0.9975 - val_loss: 0.0093 - val_acc: 0.9980\n",
      "Epoch 44/100\n",
      "72696/72696 [==============================] - 81s 1ms/step - loss: 0.0096 - acc: 0.9976 - val_loss: 0.0104 - val_acc: 0.9979\n",
      "Epoch 45/100\n",
      "72696/72696 [==============================] - 81s 1ms/step - loss: 0.0098 - acc: 0.9975 - val_loss: 0.0095 - val_acc: 0.9980\n",
      "Epoch 46/100\n",
      "72696/72696 [==============================] - 81s 1ms/step - loss: 0.0095 - acc: 0.9976 - val_loss: 0.0112 - val_acc: 0.9977\n",
      "Epoch 47/100\n",
      "72696/72696 [==============================] - 81s 1ms/step - loss: 0.0096 - acc: 0.9976 - val_loss: 0.0122 - val_acc: 0.9974\n",
      "Epoch 48/100\n",
      "72696/72696 [==============================] - 81s 1ms/step - loss: 0.0093 - acc: 0.9976 - val_loss: 0.0112 - val_acc: 0.9975\n",
      "Epoch 49/100\n",
      "72696/72696 [==============================] - 81s 1ms/step - loss: 0.0094 - acc: 0.9977 - val_loss: 0.0093 - val_acc: 0.9980\n",
      "Epoch 50/100\n",
      "72696/72696 [==============================] - 82s 1ms/step - loss: 0.0091 - acc: 0.9977 - val_loss: 0.0088 - val_acc: 0.9981\n",
      "Epoch 51/100\n",
      "72696/72696 [==============================] - 82s 1ms/step - loss: 0.0093 - acc: 0.9977 - val_loss: 0.0107 - val_acc: 0.9978\n",
      "Epoch 52/100\n",
      "72696/72696 [==============================] - 82s 1ms/step - loss: 0.0093 - acc: 0.9976 - val_loss: 0.0105 - val_acc: 0.9978\n",
      "Epoch 53/100\n",
      "72696/72696 [==============================] - 105s 1ms/step - loss: 0.0092 - acc: 0.9977 - val_loss: 0.0088 - val_acc: 0.9982\n",
      "Epoch 54/100\n",
      "72696/72696 [==============================] - 82s 1ms/step - loss: 0.0090 - acc: 0.9978 - val_loss: 0.0102 - val_acc: 0.9979\n",
      "Epoch 55/100\n",
      "72696/72696 [==============================] - 81s 1ms/step - loss: 0.0091 - acc: 0.9977 - val_loss: 0.0091 - val_acc: 0.9981\n",
      "Epoch 56/100\n",
      "72696/72696 [==============================] - 79s 1ms/step - loss: 0.0090 - acc: 0.9978 - val_loss: 0.0147 - val_acc: 0.9969\n",
      "Epoch 57/100\n",
      "72696/72696 [==============================] - 78s 1ms/step - loss: 0.0089 - acc: 0.9977 - val_loss: 0.0119 - val_acc: 0.9974\n",
      "Epoch 58/100\n",
      "72696/72696 [==============================] - 79s 1ms/step - loss: 0.0089 - acc: 0.9978 - val_loss: 0.0097 - val_acc: 0.9980\n",
      "Epoch 59/100\n",
      "72696/72696 [==============================] - 81s 1ms/step - loss: 0.0091 - acc: 0.9978 - val_loss: 0.0123 - val_acc: 0.9976\n",
      "Epoch 60/100\n",
      "72696/72696 [==============================] - 81s 1ms/step - loss: 0.0088 - acc: 0.9978 - val_loss: 0.0091 - val_acc: 0.9980\n",
      "Epoch 61/100\n",
      "72696/72696 [==============================] - 80s 1ms/step - loss: 0.0090 - acc: 0.9978 - val_loss: 0.0090 - val_acc: 0.9982\n",
      "Epoch 62/100\n",
      "72696/72696 [==============================] - 80s 1ms/step - loss: 0.0090 - acc: 0.9978 - val_loss: 0.0108 - val_acc: 0.9978\n",
      "Epoch 63/100\n",
      "72696/72696 [==============================] - 81s 1ms/step - loss: 0.0085 - acc: 0.9979 - val_loss: 0.0110 - val_acc: 0.9978\n",
      "Epoch 64/100\n",
      "72696/72696 [==============================] - 80s 1ms/step - loss: 0.0087 - acc: 0.9979 - val_loss: 0.0098 - val_acc: 0.9981\n",
      "Epoch 65/100\n",
      "72696/72696 [==============================] - 80s 1ms/step - loss: 0.0090 - acc: 0.9978 - val_loss: 0.0101 - val_acc: 0.9980\n",
      "Epoch 66/100\n",
      "72696/72696 [==============================] - 79s 1ms/step - loss: 0.0085 - acc: 0.9980 - val_loss: 0.0114 - val_acc: 0.9978\n",
      "Epoch 67/100\n",
      "72696/72696 [==============================] - 75s 1ms/step - loss: 0.0085 - acc: 0.9980 - val_loss: 0.0096 - val_acc: 0.9982\n",
      "Epoch 68/100\n",
      "72696/72696 [==============================] - 75s 1ms/step - loss: 0.0086 - acc: 0.9979 - val_loss: 0.0103 - val_acc: 0.9980\n",
      "Epoch 69/100\n",
      "72696/72696 [==============================] - 75s 1ms/step - loss: 0.0087 - acc: 0.9979 - val_loss: 0.0100 - val_acc: 0.9979\n",
      "Epoch 70/100\n",
      "72696/72696 [==============================] - 75s 1ms/step - loss: 0.0085 - acc: 0.9979 - val_loss: 0.0118 - val_acc: 0.9978\n",
      "Epoch 71/100\n",
      "72696/72696 [==============================] - 75s 1ms/step - loss: 0.0085 - acc: 0.9979 - val_loss: 0.0118 - val_acc: 0.9978\n",
      "Epoch 72/100\n",
      "72696/72696 [==============================] - 75s 1ms/step - loss: 0.0084 - acc: 0.9980 - val_loss: 0.0104 - val_acc: 0.9980\n",
      "Epoch 73/100\n",
      "72696/72696 [==============================] - 75s 1ms/step - loss: 0.0083 - acc: 0.9980 - val_loss: 0.0096 - val_acc: 0.9982\n",
      "Epoch 74/100\n",
      "72696/72696 [==============================] - 75s 1ms/step - loss: 0.0087 - acc: 0.9979 - val_loss: 0.0095 - val_acc: 0.9981\n",
      "Epoch 75/100\n",
      "72696/72696 [==============================] - 75s 1ms/step - loss: 0.0085 - acc: 0.9979 - val_loss: 0.0110 - val_acc: 0.9979\n",
      "Epoch 76/100\n",
      "72696/72696 [==============================] - 75s 1ms/step - loss: 0.0086 - acc: 0.9980 - val_loss: 0.0120 - val_acc: 0.9975\n",
      "Epoch 77/100\n",
      "72696/72696 [==============================] - 75s 1ms/step - loss: 0.0084 - acc: 0.9980 - val_loss: 0.0092 - val_acc: 0.9983\n",
      "Epoch 78/100\n",
      "72696/72696 [==============================] - 77s 1ms/step - loss: 0.0084 - acc: 0.9980 - val_loss: 0.0122 - val_acc: 0.9978\n",
      "Epoch 79/100\n",
      "72696/72696 [==============================] - 80s 1ms/step - loss: 0.0084 - acc: 0.9980 - val_loss: 0.0102 - val_acc: 0.9981\n",
      "Epoch 80/100\n",
      "72696/72696 [==============================] - 81s 1ms/step - loss: 0.0084 - acc: 0.9980 - val_loss: 0.0100 - val_acc: 0.9981\n",
      "Epoch 81/100\n",
      "72696/72696 [==============================] - 80s 1ms/step - loss: 0.0081 - acc: 0.9980 - val_loss: 0.0099 - val_acc: 0.9982\n",
      "Epoch 82/100\n",
      "72696/72696 [==============================] - 81s 1ms/step - loss: 0.0084 - acc: 0.9980 - val_loss: 0.0090 - val_acc: 0.9983\n",
      "Epoch 83/100\n",
      "72696/72696 [==============================] - 81s 1ms/step - loss: 0.0083 - acc: 0.9981 - val_loss: 0.0109 - val_acc: 0.9979\n",
      "Epoch 84/100\n",
      "72696/72696 [==============================] - 81s 1ms/step - loss: 0.0083 - acc: 0.9980 - val_loss: 0.0096 - val_acc: 0.9982\n",
      "Epoch 85/100\n",
      "72696/72696 [==============================] - 81s 1ms/step - loss: 0.0084 - acc: 0.9980 - val_loss: 0.0104 - val_acc: 0.9980\n",
      "Epoch 86/100\n",
      "72696/72696 [==============================] - 81s 1ms/step - loss: 0.0082 - acc: 0.9981 - val_loss: 0.0103 - val_acc: 0.9980\n",
      "Epoch 87/100\n",
      "72696/72696 [==============================] - 81s 1ms/step - loss: 0.0085 - acc: 0.9980 - val_loss: 0.0095 - val_acc: 0.9983\n",
      "Epoch 88/100\n",
      "72696/72696 [==============================] - 81s 1ms/step - loss: 0.0079 - acc: 0.9982 - val_loss: 0.0111 - val_acc: 0.9980\n",
      "Epoch 89/100\n",
      "72696/72696 [==============================] - 81s 1ms/step - loss: 0.0084 - acc: 0.9981 - val_loss: 0.0092 - val_acc: 0.9982\n",
      "Epoch 90/100\n",
      "72696/72696 [==============================] - 80s 1ms/step - loss: 0.0083 - acc: 0.9981 - val_loss: 0.0103 - val_acc: 0.9981\n",
      "Epoch 91/100\n",
      "72696/72696 [==============================] - 81s 1ms/step - loss: 0.0078 - acc: 0.9982 - val_loss: 0.0119 - val_acc: 0.9977\n",
      "Epoch 92/100\n",
      "72696/72696 [==============================] - 81s 1ms/step - loss: 0.0083 - acc: 0.9980 - val_loss: 0.0093 - val_acc: 0.9983\n",
      "Epoch 93/100\n",
      "72696/72696 [==============================] - 80s 1ms/step - loss: 0.0083 - acc: 0.9981 - val_loss: 0.0094 - val_acc: 0.9983\n",
      "Epoch 94/100\n",
      "72696/72696 [==============================] - 81s 1ms/step - loss: 0.0079 - acc: 0.9982 - val_loss: 0.0107 - val_acc: 0.9981\n",
      "Epoch 95/100\n",
      "72696/72696 [==============================] - 80s 1ms/step - loss: 0.0082 - acc: 0.9981 - val_loss: 0.0101 - val_acc: 0.9982\n",
      "Epoch 96/100\n",
      "72696/72696 [==============================] - 80s 1ms/step - loss: 0.0082 - acc: 0.9981 - val_loss: 0.0106 - val_acc: 0.9980\n",
      "Epoch 97/100\n",
      "72696/72696 [==============================] - 80s 1ms/step - loss: 0.0079 - acc: 0.9982 - val_loss: 0.0107 - val_acc: 0.9981\n",
      "Epoch 98/100\n",
      "72696/72696 [==============================] - 80s 1ms/step - loss: 0.0080 - acc: 0.9981 - val_loss: 0.0101 - val_acc: 0.9982\n",
      "Epoch 99/100\n",
      "72696/72696 [==============================] - 80s 1ms/step - loss: 0.0078 - acc: 0.9981 - val_loss: 0.0090 - val_acc: 0.9984\n",
      "Epoch 100/100\n",
      "72696/72696 [==============================] - 80s 1ms/step - loss: 0.0079 - acc: 0.9982 - val_loss: 0.0097 - val_acc: 0.9983\n"
     ]
    },
    {
     "data": {
      "text/plain": [
       "39738"
      ]
     },
     "execution_count": 19,
     "metadata": {},
     "output_type": "execute_result"
    }
   ],
   "source": [
    "# There is no sample_weight\n",
    "adam = keras.optimizers.Adam(lr=0.01)\n",
    "classifier = main(optimizer=adam, loss='binary_crossentropy')\n",
    "train_test_whole(classifier, 0, 'weight-model-1-nosample.hdf5', epochs=100)\n",
    "gc.collect()"
   ]
  },
  {
   "cell_type": "code",
   "execution_count": 20,
   "metadata": {
    "collapsed": true
   },
   "outputs": [
    {
     "name": "stderr",
     "output_type": "stream",
     "text": [
      "c:\\users\\zheng\\anaconda3\\envs\\tensorflow-gpu\\lib\\site-packages\\ipykernel_launcher.py:6: UserWarning: Update your `MaxPooling2D` call to the Keras 2 API: `MaxPooling2D(2, 2, padding=\"same\")`\n",
      "  \n",
      "c:\\users\\zheng\\anaconda3\\envs\\tensorflow-gpu\\lib\\site-packages\\ipykernel_launcher.py:9: UserWarning: Update your `MaxPooling2D` call to the Keras 2 API: `MaxPooling2D(2, 2, padding=\"same\")`\n",
      "  if __name__ == '__main__':\n",
      "c:\\users\\zheng\\anaconda3\\envs\\tensorflow-gpu\\lib\\site-packages\\ipykernel_launcher.py:12: UserWarning: Update your `MaxPooling2D` call to the Keras 2 API: `MaxPooling2D(2, 2, padding=\"same\")`\n",
      "  if sys.path[0] == '':\n",
      "c:\\users\\zheng\\anaconda3\\envs\\tensorflow-gpu\\lib\\site-packages\\ipykernel_launcher.py:15: UserWarning: Update your `MaxPooling2D` call to the Keras 2 API: `MaxPooling2D(2, 2, padding=\"same\")`\n",
      "  from ipykernel import kernelapp as app\n"
     ]
    },
    {
     "data": {
      "text/plain": [
       "(0.037136126, 0.9594131097560976)"
      ]
     },
     "execution_count": 20,
     "metadata": {},
     "output_type": "execute_result"
    }
   ],
   "source": [
    "classifier = main(loss='binary_crossentropy')\n",
    "classifier.load_weights('weight-model-1-nosample.hdf5')\n",
    "load_test_score(classifier, cnn_test, prevcnn_test, labels_test)"
   ]
  },
  {
   "cell_type": "code",
   "execution_count": 21,
   "metadata": {
    "scrolled": true
   },
   "outputs": [
    {
     "name": "stderr",
     "output_type": "stream",
     "text": [
      "c:\\users\\zheng\\anaconda3\\envs\\tensorflow-gpu\\lib\\site-packages\\ipykernel_launcher.py:7: UserWarning: Update your `MaxPooling2D` call to the Keras 2 API: `MaxPooling2D(2, 2, padding=\"same\")`\n",
      "  import sys\n",
      "c:\\users\\zheng\\anaconda3\\envs\\tensorflow-gpu\\lib\\site-packages\\ipykernel_launcher.py:11: UserWarning: Update your `MaxPooling2D` call to the Keras 2 API: `MaxPooling2D(2, 2, padding=\"same\")`\n",
      "  # This is added back by InteractiveShellApp.init_path()\n",
      "c:\\users\\zheng\\anaconda3\\envs\\tensorflow-gpu\\lib\\site-packages\\ipykernel_launcher.py:15: UserWarning: Update your `MaxPooling2D` call to the Keras 2 API: `MaxPooling2D(2, 2, padding=\"same\")`\n",
      "  from ipykernel import kernelapp as app\n"
     ]
    },
    {
     "name": "stdout",
     "output_type": "stream",
     "text": [
      "50\n",
      "100\n",
      "Train on 72696 samples, validate on 36736 samples\n",
      "Epoch 1/100\n",
      "72696/72696 [==============================] - 128s 2ms/step - loss: 0.0889 - acc: 0.9682 - val_loss: 0.0744 - val_acc: 0.9778\n",
      "Epoch 2/100\n",
      "72696/72696 [==============================] - 126s 2ms/step - loss: 0.0400 - acc: 0.9873 - val_loss: 0.0616 - val_acc: 0.9815\n",
      "Epoch 3/100\n",
      "72696/72696 [==============================] - 126s 2ms/step - loss: 0.0315 - acc: 0.9903 - val_loss: 0.0364 - val_acc: 0.9882\n",
      "Epoch 4/100\n",
      "72696/72696 [==============================] - 126s 2ms/step - loss: 0.0268 - acc: 0.9921 - val_loss: 0.4237 - val_acc: 0.9181\n",
      "Epoch 5/100\n",
      "72696/72696 [==============================] - 125s 2ms/step - loss: 0.0233 - acc: 0.9932 - val_loss: 1.2189 - val_acc: 0.8439\n",
      "Epoch 6/100\n",
      "72696/72696 [==============================] - 125s 2ms/step - loss: 0.0210 - acc: 0.9939 - val_loss: 0.0265 - val_acc: 0.9925\n",
      "Epoch 7/100\n",
      "72696/72696 [==============================] - 125s 2ms/step - loss: 0.0189 - acc: 0.9946 - val_loss: 1.9434 - val_acc: 0.8540\n",
      "Epoch 8/100\n",
      "72696/72696 [==============================] - 124s 2ms/step - loss: 0.0175 - acc: 0.9951 - val_loss: 0.3784 - val_acc: 0.9249\n",
      "Epoch 9/100\n",
      "72696/72696 [==============================] - 126s 2ms/step - loss: 0.0168 - acc: 0.9953 - val_loss: 0.1064 - val_acc: 0.9664\n",
      "Epoch 10/100\n",
      "72696/72696 [==============================] - 126s 2ms/step - loss: 0.0154 - acc: 0.9957 - val_loss: 0.0180 - val_acc: 0.9948\n",
      "Epoch 11/100\n",
      "72696/72696 [==============================] - 126s 2ms/step - loss: 0.0149 - acc: 0.9959 - val_loss: 0.0657 - val_acc: 0.9852\n",
      "Epoch 12/100\n",
      "72696/72696 [==============================] - 124s 2ms/step - loss: 0.0141 - acc: 0.9962 - val_loss: 0.0240 - val_acc: 0.9931\n",
      "Epoch 13/100\n",
      "10912/72696 [===>..........................] - ETA: 1:29 - loss: 0.0129 - acc: 0.9966- ETA: 1:30 - loss: 0.0129 - acc: 0."
     ]
    },
    {
     "ename": "KeyboardInterrupt",
     "evalue": "",
     "output_type": "error",
     "traceback": [
      "\u001b[1;31m---------------------------------------------------------------------------\u001b[0m",
      "\u001b[1;31mKeyboardInterrupt\u001b[0m                         Traceback (most recent call last)",
      "\u001b[1;32m<ipython-input-21-a3caafa5123a>\u001b[0m in \u001b[0;36m<module>\u001b[1;34m()\u001b[0m\n\u001b[0;32m      2\u001b[0m \u001b[0madam\u001b[0m \u001b[1;33m=\u001b[0m \u001b[0mkeras\u001b[0m\u001b[1;33m.\u001b[0m\u001b[0moptimizers\u001b[0m\u001b[1;33m.\u001b[0m\u001b[0mAdam\u001b[0m\u001b[1;33m(\u001b[0m\u001b[0mlr\u001b[0m\u001b[1;33m=\u001b[0m\u001b[1;36m0.01\u001b[0m\u001b[1;33m)\u001b[0m\u001b[1;33m\u001b[0m\u001b[0m\n\u001b[0;32m      3\u001b[0m \u001b[0mclassifier\u001b[0m \u001b[1;33m=\u001b[0m \u001b[0mmain_2\u001b[0m\u001b[1;33m(\u001b[0m\u001b[0moptimizer\u001b[0m\u001b[1;33m=\u001b[0m\u001b[0madam\u001b[0m\u001b[1;33m,\u001b[0m \u001b[0mloss\u001b[0m\u001b[1;33m=\u001b[0m\u001b[1;34m'binary_crossentropy'\u001b[0m\u001b[1;33m)\u001b[0m\u001b[1;33m\u001b[0m\u001b[0m\n\u001b[1;32m----> 4\u001b[1;33m \u001b[0mtrain_test_whole\u001b[0m\u001b[1;33m(\u001b[0m\u001b[0mclassifier\u001b[0m\u001b[1;33m,\u001b[0m \u001b[1;36m0\u001b[0m\u001b[1;33m,\u001b[0m \u001b[1;34m'weight-model-2-nosample.hdf5'\u001b[0m\u001b[1;33m,\u001b[0m \u001b[0mepochs\u001b[0m\u001b[1;33m=\u001b[0m\u001b[1;36m100\u001b[0m\u001b[1;33m)\u001b[0m\u001b[1;33m\u001b[0m\u001b[0m\n\u001b[0m\u001b[0;32m      5\u001b[0m \u001b[0mgc\u001b[0m\u001b[1;33m.\u001b[0m\u001b[0mcollect\u001b[0m\u001b[1;33m(\u001b[0m\u001b[1;33m)\u001b[0m\u001b[1;33m\u001b[0m\u001b[0m\n",
      "\u001b[1;32m<ipython-input-17-20b1e5d51045>\u001b[0m in \u001b[0;36mtrain_test_whole\u001b[1;34m(classifier, num, name, epochs, batchsize)\u001b[0m\n\u001b[0;32m      3\u001b[0m \u001b[1;33m\u001b[0m\u001b[0m\n\u001b[0;32m      4\u001b[0m     classifier.fit([cnn_inputs, prevcnn_inputs], labels_inputs, epochs=epochs, batch_size=batchsize, verbose=1,\n\u001b[1;32m----> 5\u001b[1;33m                   validation_data = ([cnn_test, prevcnn_test], labels_test))\n\u001b[0m\u001b[0;32m      6\u001b[0m \u001b[1;33m\u001b[0m\u001b[0m\n\u001b[0;32m      7\u001b[0m     \u001b[1;31m#CV_loss, accuracy = load_test_score(classifier, cnn_test, lstm_test, y_test)\u001b[0m\u001b[1;33m\u001b[0m\u001b[1;33m\u001b[0m\u001b[0m\n",
      "\u001b[1;32mc:\\users\\zheng\\anaconda3\\envs\\tensorflow-gpu\\lib\\site-packages\\keras\\engine\\training.py\u001b[0m in \u001b[0;36mfit\u001b[1;34m(self, x, y, batch_size, epochs, verbose, callbacks, validation_split, validation_data, shuffle, class_weight, sample_weight, initial_epoch, steps_per_epoch, validation_steps, **kwargs)\u001b[0m\n\u001b[0;32m   1703\u001b[0m                               \u001b[0minitial_epoch\u001b[0m\u001b[1;33m=\u001b[0m\u001b[0minitial_epoch\u001b[0m\u001b[1;33m,\u001b[0m\u001b[1;33m\u001b[0m\u001b[0m\n\u001b[0;32m   1704\u001b[0m                               \u001b[0msteps_per_epoch\u001b[0m\u001b[1;33m=\u001b[0m\u001b[0msteps_per_epoch\u001b[0m\u001b[1;33m,\u001b[0m\u001b[1;33m\u001b[0m\u001b[0m\n\u001b[1;32m-> 1705\u001b[1;33m                               validation_steps=validation_steps)\n\u001b[0m\u001b[0;32m   1706\u001b[0m \u001b[1;33m\u001b[0m\u001b[0m\n\u001b[0;32m   1707\u001b[0m     def evaluate(self, x=None, y=None,\n",
      "\u001b[1;32mc:\\users\\zheng\\anaconda3\\envs\\tensorflow-gpu\\lib\\site-packages\\keras\\engine\\training.py\u001b[0m in \u001b[0;36m_fit_loop\u001b[1;34m(self, f, ins, out_labels, batch_size, epochs, verbose, callbacks, val_f, val_ins, shuffle, callback_metrics, initial_epoch, steps_per_epoch, validation_steps)\u001b[0m\n\u001b[0;32m   1233\u001b[0m                         \u001b[0mins_batch\u001b[0m\u001b[1;33m[\u001b[0m\u001b[0mi\u001b[0m\u001b[1;33m]\u001b[0m \u001b[1;33m=\u001b[0m \u001b[0mins_batch\u001b[0m\u001b[1;33m[\u001b[0m\u001b[0mi\u001b[0m\u001b[1;33m]\u001b[0m\u001b[1;33m.\u001b[0m\u001b[0mtoarray\u001b[0m\u001b[1;33m(\u001b[0m\u001b[1;33m)\u001b[0m\u001b[1;33m\u001b[0m\u001b[0m\n\u001b[0;32m   1234\u001b[0m \u001b[1;33m\u001b[0m\u001b[0m\n\u001b[1;32m-> 1235\u001b[1;33m                     \u001b[0mouts\u001b[0m \u001b[1;33m=\u001b[0m \u001b[0mf\u001b[0m\u001b[1;33m(\u001b[0m\u001b[0mins_batch\u001b[0m\u001b[1;33m)\u001b[0m\u001b[1;33m\u001b[0m\u001b[0m\n\u001b[0m\u001b[0;32m   1236\u001b[0m                     \u001b[1;32mif\u001b[0m \u001b[1;32mnot\u001b[0m \u001b[0misinstance\u001b[0m\u001b[1;33m(\u001b[0m\u001b[0mouts\u001b[0m\u001b[1;33m,\u001b[0m \u001b[0mlist\u001b[0m\u001b[1;33m)\u001b[0m\u001b[1;33m:\u001b[0m\u001b[1;33m\u001b[0m\u001b[0m\n\u001b[0;32m   1237\u001b[0m                         \u001b[0mouts\u001b[0m \u001b[1;33m=\u001b[0m \u001b[1;33m[\u001b[0m\u001b[0mouts\u001b[0m\u001b[1;33m]\u001b[0m\u001b[1;33m\u001b[0m\u001b[0m\n",
      "\u001b[1;32mc:\\users\\zheng\\anaconda3\\envs\\tensorflow-gpu\\lib\\site-packages\\keras\\backend\\tensorflow_backend.py\u001b[0m in \u001b[0;36m__call__\u001b[1;34m(self, inputs)\u001b[0m\n\u001b[0;32m   2476\u001b[0m         \u001b[0msession\u001b[0m \u001b[1;33m=\u001b[0m \u001b[0mget_session\u001b[0m\u001b[1;33m(\u001b[0m\u001b[1;33m)\u001b[0m\u001b[1;33m\u001b[0m\u001b[0m\n\u001b[0;32m   2477\u001b[0m         updated = session.run(fetches=fetches, feed_dict=feed_dict,\n\u001b[1;32m-> 2478\u001b[1;33m                               **self.session_kwargs)\n\u001b[0m\u001b[0;32m   2479\u001b[0m         \u001b[1;32mreturn\u001b[0m \u001b[0mupdated\u001b[0m\u001b[1;33m[\u001b[0m\u001b[1;33m:\u001b[0m\u001b[0mlen\u001b[0m\u001b[1;33m(\u001b[0m\u001b[0mself\u001b[0m\u001b[1;33m.\u001b[0m\u001b[0moutputs\u001b[0m\u001b[1;33m)\u001b[0m\u001b[1;33m]\u001b[0m\u001b[1;33m\u001b[0m\u001b[0m\n\u001b[0;32m   2480\u001b[0m \u001b[1;33m\u001b[0m\u001b[0m\n",
      "\u001b[1;32mc:\\users\\zheng\\anaconda3\\envs\\tensorflow-gpu\\lib\\site-packages\\tensorflow\\python\\client\\session.py\u001b[0m in \u001b[0;36mrun\u001b[1;34m(self, fetches, feed_dict, options, run_metadata)\u001b[0m\n\u001b[0;32m    898\u001b[0m     \u001b[1;32mtry\u001b[0m\u001b[1;33m:\u001b[0m\u001b[1;33m\u001b[0m\u001b[0m\n\u001b[0;32m    899\u001b[0m       result = self._run(None, fetches, feed_dict, options_ptr,\n\u001b[1;32m--> 900\u001b[1;33m                          run_metadata_ptr)\n\u001b[0m\u001b[0;32m    901\u001b[0m       \u001b[1;32mif\u001b[0m \u001b[0mrun_metadata\u001b[0m\u001b[1;33m:\u001b[0m\u001b[1;33m\u001b[0m\u001b[0m\n\u001b[0;32m    902\u001b[0m         \u001b[0mproto_data\u001b[0m \u001b[1;33m=\u001b[0m \u001b[0mtf_session\u001b[0m\u001b[1;33m.\u001b[0m\u001b[0mTF_GetBuffer\u001b[0m\u001b[1;33m(\u001b[0m\u001b[0mrun_metadata_ptr\u001b[0m\u001b[1;33m)\u001b[0m\u001b[1;33m\u001b[0m\u001b[0m\n",
      "\u001b[1;32mc:\\users\\zheng\\anaconda3\\envs\\tensorflow-gpu\\lib\\site-packages\\tensorflow\\python\\client\\session.py\u001b[0m in \u001b[0;36m_run\u001b[1;34m(self, handle, fetches, feed_dict, options, run_metadata)\u001b[0m\n\u001b[0;32m   1133\u001b[0m     \u001b[1;32mif\u001b[0m \u001b[0mfinal_fetches\u001b[0m \u001b[1;32mor\u001b[0m \u001b[0mfinal_targets\u001b[0m \u001b[1;32mor\u001b[0m \u001b[1;33m(\u001b[0m\u001b[0mhandle\u001b[0m \u001b[1;32mand\u001b[0m \u001b[0mfeed_dict_tensor\u001b[0m\u001b[1;33m)\u001b[0m\u001b[1;33m:\u001b[0m\u001b[1;33m\u001b[0m\u001b[0m\n\u001b[0;32m   1134\u001b[0m       results = self._do_run(handle, final_targets, final_fetches,\n\u001b[1;32m-> 1135\u001b[1;33m                              feed_dict_tensor, options, run_metadata)\n\u001b[0m\u001b[0;32m   1136\u001b[0m     \u001b[1;32melse\u001b[0m\u001b[1;33m:\u001b[0m\u001b[1;33m\u001b[0m\u001b[0m\n\u001b[0;32m   1137\u001b[0m       \u001b[0mresults\u001b[0m \u001b[1;33m=\u001b[0m \u001b[1;33m[\u001b[0m\u001b[1;33m]\u001b[0m\u001b[1;33m\u001b[0m\u001b[0m\n",
      "\u001b[1;32mc:\\users\\zheng\\anaconda3\\envs\\tensorflow-gpu\\lib\\site-packages\\tensorflow\\python\\client\\session.py\u001b[0m in \u001b[0;36m_do_run\u001b[1;34m(self, handle, target_list, fetch_list, feed_dict, options, run_metadata)\u001b[0m\n\u001b[0;32m   1314\u001b[0m     \u001b[1;32mif\u001b[0m \u001b[0mhandle\u001b[0m \u001b[1;32mis\u001b[0m \u001b[1;32mNone\u001b[0m\u001b[1;33m:\u001b[0m\u001b[1;33m\u001b[0m\u001b[0m\n\u001b[0;32m   1315\u001b[0m       return self._do_call(_run_fn, feeds, fetches, targets, options,\n\u001b[1;32m-> 1316\u001b[1;33m                            run_metadata)\n\u001b[0m\u001b[0;32m   1317\u001b[0m     \u001b[1;32melse\u001b[0m\u001b[1;33m:\u001b[0m\u001b[1;33m\u001b[0m\u001b[0m\n\u001b[0;32m   1318\u001b[0m       \u001b[1;32mreturn\u001b[0m \u001b[0mself\u001b[0m\u001b[1;33m.\u001b[0m\u001b[0m_do_call\u001b[0m\u001b[1;33m(\u001b[0m\u001b[0m_prun_fn\u001b[0m\u001b[1;33m,\u001b[0m \u001b[0mhandle\u001b[0m\u001b[1;33m,\u001b[0m \u001b[0mfeeds\u001b[0m\u001b[1;33m,\u001b[0m \u001b[0mfetches\u001b[0m\u001b[1;33m)\u001b[0m\u001b[1;33m\u001b[0m\u001b[0m\n",
      "\u001b[1;32mc:\\users\\zheng\\anaconda3\\envs\\tensorflow-gpu\\lib\\site-packages\\tensorflow\\python\\client\\session.py\u001b[0m in \u001b[0;36m_do_call\u001b[1;34m(self, fn, *args)\u001b[0m\n\u001b[0;32m   1320\u001b[0m   \u001b[1;32mdef\u001b[0m \u001b[0m_do_call\u001b[0m\u001b[1;33m(\u001b[0m\u001b[0mself\u001b[0m\u001b[1;33m,\u001b[0m \u001b[0mfn\u001b[0m\u001b[1;33m,\u001b[0m \u001b[1;33m*\u001b[0m\u001b[0margs\u001b[0m\u001b[1;33m)\u001b[0m\u001b[1;33m:\u001b[0m\u001b[1;33m\u001b[0m\u001b[0m\n\u001b[0;32m   1321\u001b[0m     \u001b[1;32mtry\u001b[0m\u001b[1;33m:\u001b[0m\u001b[1;33m\u001b[0m\u001b[0m\n\u001b[1;32m-> 1322\u001b[1;33m       \u001b[1;32mreturn\u001b[0m \u001b[0mfn\u001b[0m\u001b[1;33m(\u001b[0m\u001b[1;33m*\u001b[0m\u001b[0margs\u001b[0m\u001b[1;33m)\u001b[0m\u001b[1;33m\u001b[0m\u001b[0m\n\u001b[0m\u001b[0;32m   1323\u001b[0m     \u001b[1;32mexcept\u001b[0m \u001b[0merrors\u001b[0m\u001b[1;33m.\u001b[0m\u001b[0mOpError\u001b[0m \u001b[1;32mas\u001b[0m \u001b[0me\u001b[0m\u001b[1;33m:\u001b[0m\u001b[1;33m\u001b[0m\u001b[0m\n\u001b[0;32m   1324\u001b[0m       \u001b[0mmessage\u001b[0m \u001b[1;33m=\u001b[0m \u001b[0mcompat\u001b[0m\u001b[1;33m.\u001b[0m\u001b[0mas_text\u001b[0m\u001b[1;33m(\u001b[0m\u001b[0me\u001b[0m\u001b[1;33m.\u001b[0m\u001b[0mmessage\u001b[0m\u001b[1;33m)\u001b[0m\u001b[1;33m\u001b[0m\u001b[0m\n",
      "\u001b[1;32mc:\\users\\zheng\\anaconda3\\envs\\tensorflow-gpu\\lib\\site-packages\\tensorflow\\python\\client\\session.py\u001b[0m in \u001b[0;36m_run_fn\u001b[1;34m(feed_dict, fetch_list, target_list, options, run_metadata)\u001b[0m\n\u001b[0;32m   1305\u001b[0m       \u001b[0mself\u001b[0m\u001b[1;33m.\u001b[0m\u001b[0m_extend_graph\u001b[0m\u001b[1;33m(\u001b[0m\u001b[1;33m)\u001b[0m\u001b[1;33m\u001b[0m\u001b[0m\n\u001b[0;32m   1306\u001b[0m       return self._call_tf_sessionrun(\n\u001b[1;32m-> 1307\u001b[1;33m           options, feed_dict, fetch_list, target_list, run_metadata)\n\u001b[0m\u001b[0;32m   1308\u001b[0m \u001b[1;33m\u001b[0m\u001b[0m\n\u001b[0;32m   1309\u001b[0m     \u001b[1;32mdef\u001b[0m \u001b[0m_prun_fn\u001b[0m\u001b[1;33m(\u001b[0m\u001b[0mhandle\u001b[0m\u001b[1;33m,\u001b[0m \u001b[0mfeed_dict\u001b[0m\u001b[1;33m,\u001b[0m \u001b[0mfetch_list\u001b[0m\u001b[1;33m)\u001b[0m\u001b[1;33m:\u001b[0m\u001b[1;33m\u001b[0m\u001b[0m\n",
      "\u001b[1;32mc:\\users\\zheng\\anaconda3\\envs\\tensorflow-gpu\\lib\\site-packages\\tensorflow\\python\\client\\session.py\u001b[0m in \u001b[0;36m_call_tf_sessionrun\u001b[1;34m(self, options, feed_dict, fetch_list, target_list, run_metadata)\u001b[0m\n\u001b[0;32m   1407\u001b[0m       return tf_session.TF_SessionRun_wrapper(\n\u001b[0;32m   1408\u001b[0m           \u001b[0mself\u001b[0m\u001b[1;33m.\u001b[0m\u001b[0m_session\u001b[0m\u001b[1;33m,\u001b[0m \u001b[0moptions\u001b[0m\u001b[1;33m,\u001b[0m \u001b[0mfeed_dict\u001b[0m\u001b[1;33m,\u001b[0m \u001b[0mfetch_list\u001b[0m\u001b[1;33m,\u001b[0m \u001b[0mtarget_list\u001b[0m\u001b[1;33m,\u001b[0m\u001b[1;33m\u001b[0m\u001b[0m\n\u001b[1;32m-> 1409\u001b[1;33m           run_metadata)\n\u001b[0m\u001b[0;32m   1410\u001b[0m     \u001b[1;32melse\u001b[0m\u001b[1;33m:\u001b[0m\u001b[1;33m\u001b[0m\u001b[0m\n\u001b[0;32m   1411\u001b[0m       \u001b[1;32mwith\u001b[0m \u001b[0merrors\u001b[0m\u001b[1;33m.\u001b[0m\u001b[0mraise_exception_on_not_ok_status\u001b[0m\u001b[1;33m(\u001b[0m\u001b[1;33m)\u001b[0m \u001b[1;32mas\u001b[0m \u001b[0mstatus\u001b[0m\u001b[1;33m:\u001b[0m\u001b[1;33m\u001b[0m\u001b[0m\n",
      "\u001b[1;31mKeyboardInterrupt\u001b[0m: "
     ]
    }
   ],
   "source": [
    "# There is no sample_weight\n",
    "adam = keras.optimizers.Adam(lr=0.01)\n",
    "classifier = main_2(optimizer=adam, loss='binary_crossentropy')\n",
    "train_test_whole(classifier, 0, 'weight-model-2-nosample.hdf5', epochs=100)\n",
    "gc.collect()"
   ]
  }
 ],
 "metadata": {
  "kernelspec": {
   "display_name": "Python 3",
   "language": "python",
   "name": "python3"
  },
  "language_info": {
   "codemirror_mode": {
    "name": "ipython",
    "version": 3
   },
   "file_extension": ".py",
   "mimetype": "text/x-python",
   "name": "python",
   "nbconvert_exporter": "python",
   "pygments_lexer": "ipython3",
   "version": "3.5.2"
  }
 },
 "nbformat": 4,
 "nbformat_minor": 2
}
