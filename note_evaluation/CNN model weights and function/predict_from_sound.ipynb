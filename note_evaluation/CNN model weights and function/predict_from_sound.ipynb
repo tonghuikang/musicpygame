{
 "cells": [
  {
   "cell_type": "markdown",
   "metadata": {},
   "source": [
    "# Loading a soundfile"
   ]
  },
  {
   "cell_type": "code",
   "execution_count": 1,
   "metadata": {},
   "outputs": [
    {
     "name": "stderr",
     "output_type": "stream",
     "text": [
      "Using TensorFlow backend.\n"
     ]
    }
   ],
   "source": [
    "import keras\n",
    "import pandas as pd\n",
    "import numpy as np\n",
    "import soundfile as sf\n",
    "import matplotlib.pyplot as plt"
   ]
  },
  {
   "cell_type": "code",
   "execution_count": 2,
   "metadata": {},
   "outputs": [],
   "source": [
    "# make a Python list of the files in the directory\n",
    "# https://stackoverflow.com/questions/3207219/how-do-i-list-all-files-of-a-directory\n",
    "import os\n",
    "def findfiles(directory):\n",
    "    objects = os.listdir(directory)  # find all objects in a dir\n",
    "\n",
    "    files = []\n",
    "    for i in objects:  # check if very object in the folder ...\n",
    "        if isFile(directory + i):  # ... is a file.\n",
    "            files.append(i)  # if yes, append it.\n",
    "    return files\n",
    "\n",
    "def isFile(object):\n",
    "    try:\n",
    "        os.listdir(object)  # tries to get the objects inside of this object\n",
    "        return False  # if it worked, it's a folder\n",
    "    except Exception:  # if not, it's a file\n",
    "        return True"
   ]
  },
  {
   "cell_type": "code",
   "execution_count": 3,
   "metadata": {},
   "outputs": [
    {
     "name": "stdout",
     "output_type": "stream",
     "text": [
      "36968\n"
     ]
    }
   ],
   "source": [
    "soundfiles_dir = \"/home/hkmac/musicpygame/note_evaluation/soundfile_sch/\"\n",
    "soundfiles = findfiles(soundfiles_dir)\n",
    "print(len(soundfiles))"
   ]
  },
  {
   "cell_type": "code",
   "execution_count": 4,
   "metadata": {},
   "outputs": [
    {
     "name": "stdout",
     "output_type": "stream",
     "text": [
      "C4_65_71_77_x_60_80.wav\n",
      "(76864, 2)\n",
      "(76864,)\n"
     ]
    },
    {
     "data": {
      "image/png": "[encoded data removed]",
      "text/plain": [
       "<Figure size 432x288 with 1 Axes>"
      ]
     },
     "metadata": {},
     "output_type": "display_data"
    }
   ],
   "source": [
    "soundfile = soundfiles[np.random.randint(len(soundfiles))]\n",
    "print(soundfile)\n",
    "audio,sr = sf.read(soundfiles_dir + soundfile)\n",
    "print(np.shape(audio))\n",
    "sample = audio[:,0]\n",
    "print(np.shape(sample))\n",
    "plt.plot(sample)\n",
    "plt.show()"
   ]
  },
  {
   "cell_type": "markdown",
   "metadata": {},
   "source": [
    "# Identify onset, splice, and make spectrogram"
   ]
  },
  {
   "cell_type": "code",
   "execution_count": 5,
   "metadata": {},
   "outputs": [],
   "source": [
    "# Functions for onset detecti    midi_instructions = track, channel, time, duration,volume[0], tempo[0]on\n",
    "\n",
    "def rcoeff_(snippet):\n",
    "    return np.corrcoef(snippet, np.arange(len(snippet)))[0, 1]\n",
    "\n",
    "rcoeff = np.vectorize(rcoeff_, signature='(n)->()')\n",
    "\n",
    "def divide_chunks(signal, intervals, snippet_size):\n",
    "# yield successive n-sized chunks from l.\n",
    "    for i in range(0, len(signal) - snippet_size, intervals):\n",
    "        # looping till the end of the array\n",
    "        yield signal[i:i + snippet_size]\n",
    "        \n",
    "def max_to_one(arr):\n",
    "    '''Scale the maximum of an array to one'''\n",
    "    return np.divide(arr, np.max(np.absolute(arr)))\n",
    "\n",
    "def detect_onset_given_entire_signal(signal):\n",
    "    '''\n",
    "    Onset detection function. Could be replaced with a better one.\n",
    "    Returns two signals, \n",
    "    - a short one (fixed at length 4096) for a standard note evaluation algorithm, \n",
    "    - a long one (usually 3*4096) for making spectrograms and applying machine learning algorithms like CNN.\n",
    "    (Why not standardise them, return the longer one instead?)\n",
    "    Onset detection is carried out every 32 points so we do not have to calculate the r-value of 4096 points at every point.\n",
    "    '''\n",
    "#     print(len(signal))\n",
    "    signal_cs = np.cumsum(np.absolute(signal))\n",
    "    signal_cs = np.add(signal_cs, np.random.randn(len(signal_cs)))\n",
    "#     print(len(signal_cs))\n",
    "    signal_chunk_sum = signal_cs[4096:] - signal_cs[:-4096]\n",
    "    snippets = np.array(list(divide_chunks(signal_chunk_sum, 32, 4096)))\n",
    "    signal_rcoeff = rcoeff(snippets)\n",
    "\n",
    "#     print(\"loc\")\n",
    "#     print(signal_rcoeff)\n",
    "#     print(np.where(signal_rcoeff>0.8)[0][0])\n",
    "    location = np.where(signal_rcoeff>0.8)[0][0]\n",
    "    start_pt, end_pt = location*32+7168, location*32+7168+4096\n",
    "    map_start_pt = location*32+7168-3*4096\n",
    "    if map_start_pt < 0:\n",
    "        map_start_pt = 0\n",
    "        \n",
    "    return signal[start_pt:end_pt], signal[map_start_pt:end_pt]"
   ]
  },
  {
   "cell_type": "code",
   "execution_count": 6,
   "metadata": {},
   "outputs": [
    {
     "data": {
      "image/png": "[encoded data removed]",
      "text/plain": [
       "<Figure size 432x288 with 1 Axes>"
      ]
     },
     "metadata": {},
     "output_type": "display_data"
    }
   ],
   "source": [
    "signal_to_map = detect_onset_given_entire_signal(sample)[1]\n",
    "plt.plot(signal_to_map)\n",
    "plt.show()"
   ]
  },
  {
   "cell_type": "code",
   "execution_count": 7,
   "metadata": {},
   "outputs": [],
   "source": [
    "def save_array(filename, signal_to_map, num):\n",
    "    fmin = librosa.core.note_to_hz(\"B3\")\n",
    "    cqt_array = librosa.cqt(signal_to_map, sr=44100, hop_length=2**7, bins_per_octave=36, fmin=fmin, n_bins=108)\n",
    "    CQT = librosa.magphase(cqt_array)[0]\n",
    "    output = \"\"\n",
    "    for i in list(CQT):\n",
    "        for j in list(i):\n",
    "            output += str(j)\n",
    "            output += \",\"\n",
    "    with open(\"database_{}.csv\".format(num), \"a\") as file:\n",
    "        writer = csv.writer(file, quoting=csv.QUOTE_MINIMAL, delimiter=\" \")\n",
    "        writer.writerow(filename + \",\" + output)\n",
    "    file.close()"
   ]
  },
  {
   "cell_type": "code",
   "execution_count": 8,
   "metadata": {},
   "outputs": [],
   "source": [
    "import librosa\n",
    "def convert_to_CQT(signal_to_map):\n",
    "    fmin = librosa.core.note_to_hz(\"B3\")\n",
    "    cqt_array = librosa.cqt(signal_to_map, sr=44100, hop_length=2**7, bins_per_octave=36, fmin=fmin, n_bins=108)\n",
    "    CQT = librosa.magphase(cqt_array)[0][:108,:108]\n",
    "    print(np.shape(CQT))\n",
    "    return CQT\n"
   ]
  },
  {
   "cell_type": "code",
   "execution_count": 9,
   "metadata": {},
   "outputs": [
    {
     "name": "stdout",
     "output_type": "stream",
     "text": [
      "(108, 108)\n"
     ]
    }
   ],
   "source": [
    "spectro = convert_to_CQT(signal_to_map)"
   ]
  },
  {
   "cell_type": "code",
   "execution_count": 10,
   "metadata": {},
   "outputs": [
    {
     "data": {
      "text/plain": [
       "<matplotlib.image.AxesImage at 0x7fa269896a20>"
      ]
     },
     "execution_count": 10,
     "metadata": {},
     "output_type": "execute_result"
    },
    {
     "data": {
      "image/png": "[encoded data removed]",
      "text/plain": [
       "<Figure size 432x288 with 1 Axes>"
      ]
     },
     "metadata": {},
     "output_type": "display_data"
    }
   ],
   "source": [
    "plt.imshow(spectro)"
   ]
  },
  {
   "cell_type": "code",
   "execution_count": 11,
   "metadata": {},
   "outputs": [],
   "source": [
    "spectro = spectro.reshape(1, 108, 108, 1)"
   ]
  },
  {
   "cell_type": "markdown",
   "metadata": {},
   "source": [
    "# Setup model and predict notes"
   ]
  },
  {
   "cell_type": "code",
   "execution_count": 12,
   "metadata": {},
   "outputs": [],
   "source": [
    "def setup_classifier(model_path, weight_path):\n",
    "    yaml_file = open(model_path, 'r')\n",
    "    loaded = yaml_file.read()\n",
    "    yaml_file.close()\n",
    "    classifier = keras.models.model_from_yaml(loaded)\n",
    "    classifier.load_weights(weight_path)\n",
    "    return classifier\n",
    "\n",
    "classifier = setup_classifier(model_path=\"model.yaml\", weight_path=\"weight-25800-CNN_E_good.hdf5\")\n",
    "# Loading the classifier takes time. It should not be done every time when the program runs."
   ]
  },
  {
   "cell_type": "code",
   "execution_count": 13,
   "metadata": {},
   "outputs": [],
   "source": [
    "def predict(data, classifier):\n",
    "    result = classifier.predict(data)[0].tolist()\n",
    "    output = 'C'\n",
    "    possible = 'possible notes: '\n",
    "    for i in range(len(result)):\n",
    "        if result[i] < 0.01:\n",
    "            result[i] = 0\n",
    "        elif result[i] > 0.99:\n",
    "            result[i] = 1\n",
    "            output += '_{}'.format(i+60)\n",
    "        else:\n",
    "            possible += '_{}__{}'.format(i+60, result[i])\n",
    "    print(output)\n",
    "    print(possible)\n",
    "    return result"
   ]
  },
  {
   "cell_type": "code",
   "execution_count": 14,
   "metadata": {},
   "outputs": [
    {
     "name": "stdout",
     "output_type": "stream",
     "text": [
      "C_65\n",
      "possible notes: _71__0.6531872749328613_77__0.9123030304908752\n"
     ]
    }
   ],
   "source": [
    "result = predict(spectro, classifier)"
   ]
  },
  {
   "cell_type": "code",
   "execution_count": 15,
   "metadata": {},
   "outputs": [
    {
     "name": "stdout",
     "output_type": "stream",
     "text": [
      "C4_65_71_77_x_60_80.wav\n"
     ]
    }
   ],
   "source": [
    "print(soundfile)"
   ]
  },
  {
   "cell_type": "code",
   "execution_count": null,
   "metadata": {},
   "outputs": [],
   "source": []
  },
  {
   "cell_type": "code",
   "execution_count": null,
   "metadata": {},
   "outputs": [],
   "source": []
  }
 ],
 "metadata": {
  "kernelspec": {
   "display_name": "Python 3",
   "language": "python",
   "name": "python3"
  },
  "language_info": {
   "codemirror_mode": {
    "name": "ipython",
    "version": 3
   },
   "file_extension": ".py",
   "mimetype": "text/x-python",
   "name": "python",
   "nbconvert_exporter": "python",
   "pygments_lexer": "ipython3",
   "version": "3.5.2"
  }
 },
 "nbformat": 4,
 "nbformat_minor": 2
}
