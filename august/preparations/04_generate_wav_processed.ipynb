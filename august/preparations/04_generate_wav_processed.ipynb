{
 "cells": [
  {
   "cell_type": "markdown",
   "metadata": {},
   "source": [
    "Given the soundfiles in `./wav/` process them and save it in `./wav_processed/`"
   ]
  },
  {
   "cell_type": "code",
   "execution_count": 3,
   "metadata": {},
   "outputs": [],
   "source": [
    "from pyo import *\n",
    "import glob\n",
    "# Installation of pyo on MacOS\n",
    "# https://github.com/lupyanlab/lab-computer/wiki/Installing-pyo"
   ]
  },
  {
   "cell_type": "code",
   "execution_count": 4,
   "metadata": {},
   "outputs": [
    {
     "name": "stdout",
     "output_type": "stream",
     "text": [
      "Pyo message: Offline Server rendering file ./wav_processed/FAF653782F7D0320.wav dur=10.359002\n",
      "Pyo message: Offline Server rendering finished.\n",
      "Pyo message: Offline Server rendering file ./wav_processed/22EA6BC92A21FE65.wav dur=10.070204\n",
      "Pyo message: Offline Server rendering finished.\n",
      "Pyo message: Offline Server rendering file ./wav_processed/CD1CBABD71DF6069.wav dur=10.073107\n",
      "Pyo message: Offline Server rendering finished.\n",
      "Pyo message: Offline Server rendering file ./wav_processed/0C56DC3C436663F5.wav dur=10.385125\n",
      "Pyo message: Offline Server rendering finished.\n",
      "Pyo message: Offline Server rendering file ./wav_processed/AC6315353BADF3B2.wav dur=10.181951\n",
      "Pyo message: Offline Server rendering finished.\n"
     ]
    }
   ],
   "source": [
    "s = Server(duplex=0, audio='offline', winhost=\"asio\")\n",
    "files = glob.glob('./wav/*')\n",
    "save = './wav_processed/'\n",
    "for i in files:\n",
    "    info = sndinfo(i)\n",
    "    dur, sr, chnls = info[1], info[2], info[3]\n",
    "    fformat = ['WAVE', 'AIFF', 'AU', 'RAW', 'SD2', 'FLAC', 'CAF', 'OGG'].index(info[4])\n",
    "    samptype = ['16 bit int', '24 bit int', '32 bit int', '32 bit float',\n",
    "                '64 bits float', 'U-Law encoded', 'A-Law encoded'].index(info[5])\n",
    "    s.setSamplingRate(sr)\n",
    "    s.setNchnls(chnls)\n",
    "    s.boot()\n",
    "    s.recordOptions(dur=dur, filename=save+i[-20:], fileformat=fformat, sampletype=samptype)\n",
    "    sound = SfPlayer(i)\n",
    "    b = Freeverb(sound, size=0.8, damp=.3, bal=.5).out()\n",
    "    s.start()\n",
    "    s.shutdown()"
   ]
  },
  {
   "cell_type": "code",
   "execution_count": null,
   "metadata": {},
   "outputs": [],
   "source": []
  }
 ],
 "metadata": {
  "kernelspec": {
   "display_name": "Python [conda env:nd]",
   "language": "python",
   "name": "conda-env-nd-py"
  },
  "language_info": {
   "codemirror_mode": {
    "name": "ipython",
    "version": 3
   },
   "file_extension": ".py",
   "mimetype": "text/x-python",
   "name": "python",
   "nbconvert_exporter": "python",
   "pygments_lexer": "ipython3",
   "version": "3.6.5"
  }
 },
 "nbformat": 4,
 "nbformat_minor": 2
}
