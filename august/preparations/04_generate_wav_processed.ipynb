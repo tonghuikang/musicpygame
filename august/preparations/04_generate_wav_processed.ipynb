{
 "cells": [
  {
   "cell_type": "markdown",
   "metadata": {},
   "source": [
    "Given the soundfiles in `./wav/` process them and save it in `./wav_processed/`"
   ]
  },
  {
   "cell_type": "code",
   "execution_count": 10,
   "metadata": {},
   "outputs": [],
   "source": [
    "# MACOS install instructions\n",
    "# brew install sox\n",
    "# pip install pysndfx\n",
    "# https://superuser.com/questions/279675/installing-sox-sound-exchange-via-the-terminal-in-mac-os-x/279676\n",
    "# \n",
    "# LINUX install instructions\n",
    "# sudo apt-get install sox\n",
    "# pip install pysndfx"
   ]
  },
  {
   "cell_type": "code",
   "execution_count": 11,
   "metadata": {},
   "outputs": [],
   "source": [
    "import x04_generate_wav_processed\n",
    "import glob"
   ]
  },
  {
   "cell_type": "code",
   "execution_count": 12,
   "metadata": {},
   "outputs": [
    {
     "name": "stdout",
     "output_type": "stream",
     "text": [
      "3\n"
     ]
    }
   ],
   "source": [
    "files = glob.glob('./wav/*')\n",
    "save_location = './wav_processed/'\n",
    "print(len(files))\n",
    "for filename in files:\n",
    "    x04_generate_wav_processed.process_wav(filename, save_location)"
   ]
  },
  {
   "cell_type": "code",
   "execution_count": 13,
   "metadata": {},
   "outputs": [],
   "source": [
    "files = glob.glob('./wav_processed/*')\n",
    "\n",
    "import soundfile as sf\n",
    "import sounddevice as sd\n",
    "\n",
    "audio, sr = sf.read(files[0])\n",
    "\n",
    "sd.play(audio, samplerate=sr)"
   ]
  },
  {
   "cell_type": "code",
   "execution_count": 14,
   "metadata": {},
   "outputs": [],
   "source": [
    "files = glob.glob('./wav/*')\n",
    "\n",
    "import soundfile as sf\n",
    "import sounddevice as sd\n",
    "\n",
    "audio, sr = sf.read(files[0])\n",
    "\n",
    "sd.play(audio, samplerate=sr)"
   ]
  },
  {
   "cell_type": "code",
   "execution_count": null,
   "metadata": {},
   "outputs": [],
   "source": []
  },
  {
   "cell_type": "code",
   "execution_count": null,
   "metadata": {},
   "outputs": [],
   "source": []
  }
 ],
 "metadata": {
  "kernelspec": {
   "display_name": "Python [conda env:nd]",
   "language": "python",
   "name": "conda-env-nd-py"
  },
  "language_info": {
   "codemirror_mode": {
    "name": "ipython",
    "version": 3
   },
   "file_extension": ".py",
   "mimetype": "text/x-python",
   "name": "python",
   "nbconvert_exporter": "python",
   "pygments_lexer": "ipython3",
   "version": "3.6.5"
  }
 },
 "nbformat": 4,
 "nbformat_minor": 2
}
